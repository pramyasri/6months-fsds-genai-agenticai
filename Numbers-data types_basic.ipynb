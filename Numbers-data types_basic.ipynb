{
 "cells": [
  {
   "cell_type": "markdown",
   "id": "6f8d7e82-182f-4de3-887f-2409d16ba1a5",
   "metadata": {},
   "source": [
    "#Numbers\n"
   ]
  },
  {
   "cell_type": "code",
   "execution_count": 2,
   "id": "ca001988-a665-4e64-8356-8694f4a984e1",
   "metadata": {},
   "outputs": [
    {
     "data": {
      "text/plain": [
       "18"
      ]
     },
     "execution_count": 2,
     "metadata": {},
     "output_type": "execute_result"
    }
   ],
   "source": [
    "9+9\n"
   ]
  },
  {
   "cell_type": "code",
   "execution_count": 3,
   "id": "7662a92b-8f75-4c39-b461-dafa3766747b",
   "metadata": {},
   "outputs": [
    {
     "data": {
      "text/plain": [
       "0"
      ]
     },
     "execution_count": 3,
     "metadata": {},
     "output_type": "execute_result"
    }
   ],
   "source": [
    "9-9"
   ]
  },
  {
   "cell_type": "code",
   "execution_count": 1,
   "id": "07135c46-1f90-4ebb-a3da-802c7eff1cb1",
   "metadata": {},
   "outputs": [
    {
     "data": {
      "text/plain": [
       "1.0"
      ]
     },
     "execution_count": 1,
     "metadata": {},
     "output_type": "execute_result"
    }
   ],
   "source": [
    "9/9"
   ]
  },
  {
   "cell_type": "code",
   "execution_count": 2,
   "id": "f069b71d-9908-4aba-8f93-179ac915603d",
   "metadata": {},
   "outputs": [
    {
     "data": {
      "text/plain": [
       "1"
      ]
     },
     "execution_count": 2,
     "metadata": {},
     "output_type": "execute_result"
    }
   ],
   "source": [
    "9//9 #//performs the floor division, and ignores the fractional part, shoows only integer part"
   ]
  },
  {
   "cell_type": "code",
   "execution_count": 3,
   "id": "987fee88-8390-4807-8045-5063808eaefa",
   "metadata": {},
   "outputs": [
    {
     "data": {
      "text/plain": [
       "81"
      ]
     },
     "execution_count": 3,
     "metadata": {},
     "output_type": "execute_result"
    }
   ],
   "source": [
    "9*9"
   ]
  },
  {
   "cell_type": "code",
   "execution_count": 4,
   "id": "65184f5f-3563-4114-a80a-3d2ae64c23bf",
   "metadata": {},
   "outputs": [
    {
     "data": {
      "text/plain": [
       "387420489"
      ]
     },
     "execution_count": 4,
     "metadata": {},
     "output_type": "execute_result"
    }
   ],
   "source": [
    "9**9"
   ]
  },
  {
   "cell_type": "code",
   "execution_count": 5,
   "id": "803f5e62-3e44-4b0f-8f25-9061518c07b2",
   "metadata": {},
   "outputs": [
    {
     "data": {
      "text/plain": [
       "9"
      ]
     },
     "execution_count": 5,
     "metadata": {},
     "output_type": "execute_result"
    }
   ],
   "source": [
    "9**1"
   ]
  },
  {
   "cell_type": "code",
   "execution_count": 6,
   "id": "e323f2a5-ddae-478e-987b-34c85b358448",
   "metadata": {},
   "outputs": [
    {
     "data": {
      "text/plain": [
       "81"
      ]
     },
     "execution_count": 6,
     "metadata": {},
     "output_type": "execute_result"
    }
   ],
   "source": [
    "9**2 # ** performs 'to the power of' operation"
   ]
  },
  {
   "cell_type": "code",
   "execution_count": 7,
   "id": "89ae3880-0799-4b70-92f1-7372c7421d23",
   "metadata": {},
   "outputs": [
    {
     "ename": "NameError",
     "evalue": "name 'math' is not defined",
     "output_type": "error",
     "traceback": [
      "\u001b[1;31m---------------------------------------------------------------------------\u001b[0m",
      "\u001b[1;31mNameError\u001b[0m                                 Traceback (most recent call last)",
      "Cell \u001b[1;32mIn[7], line 1\u001b[0m\n\u001b[1;32m----> 1\u001b[0m math\u001b[38;5;241m.\u001b[39mpi\n",
      "\u001b[1;31mNameError\u001b[0m: name 'math' is not defined"
     ]
    }
   ],
   "source": [
    "math.pi"
   ]
  },
  {
   "cell_type": "code",
   "execution_count": 1,
   "id": "0928d6a2-3cf6-42a4-9054-037904701951",
   "metadata": {},
   "outputs": [
    {
     "data": {
      "text/plain": [
       "3.141592653589793"
      ]
     },
     "execution_count": 1,
     "metadata": {},
     "output_type": "execute_result"
    }
   ],
   "source": [
    "import math #importing the math which has all math functions\n",
    "math.pi"
   ]
  },
  {
   "cell_type": "code",
   "execution_count": 2,
   "id": "b2f4271d-658e-4567-a898-6193660c0a8f",
   "metadata": {},
   "outputs": [],
   "source": [
    "v=5"
   ]
  },
  {
   "cell_type": "code",
   "execution_count": 3,
   "id": "55ad59c1-2815-43c7-9402-ae67cb286ba7",
   "metadata": {},
   "outputs": [
    {
     "data": {
      "text/plain": [
       "5"
      ]
     },
     "execution_count": 3,
     "metadata": {},
     "output_type": "execute_result"
    }
   ],
   "source": [
    "v"
   ]
  },
  {
   "cell_type": "code",
   "execution_count": 4,
   "id": "100ac12c-fed2-4ccb-b6d8-6e3c2eb9df2d",
   "metadata": {},
   "outputs": [
    {
     "data": {
      "text/plain": [
       "5"
      ]
     },
     "execution_count": 4,
     "metadata": {},
     "output_type": "execute_result"
    }
   ],
   "source": [
    "_ #underscore will stroe the last result"
   ]
  },
  {
   "cell_type": "code",
   "execution_count": 5,
   "id": "2314f635-b883-4198-a013-dcf5cb3fbea1",
   "metadata": {},
   "outputs": [
    {
     "data": {
      "text/plain": [
       "15"
      ]
     },
     "execution_count": 5,
     "metadata": {},
     "output_type": "execute_result"
    }
   ],
   "source": [
    "_+10"
   ]
  },
  {
   "cell_type": "code",
   "execution_count": 6,
   "id": "715724c5-9de0-43e9-93ce-8ba95a55070d",
   "metadata": {},
   "outputs": [
    {
     "data": {
      "text/plain": [
       "15"
      ]
     },
     "execution_count": 6,
     "metadata": {},
     "output_type": "execute_result"
    }
   ],
   "source": [
    "_"
   ]
  },
  {
   "cell_type": "code",
   "execution_count": 7,
   "id": "99c984b3-8334-4776-87d0-255b5030baff",
   "metadata": {},
   "outputs": [
    {
     "data": {
      "text/plain": [
       "140717589670456"
      ]
     },
     "execution_count": 7,
     "metadata": {},
     "output_type": "execute_result"
    }
   ],
   "source": [
    "id(v) #gives the memory location address"
   ]
  },
  {
   "cell_type": "code",
   "execution_count": 8,
   "id": "3cd53ff1-1e5e-4c1c-adec-05c4e14f77cf",
   "metadata": {},
   "outputs": [
    {
     "ename": "SyntaxError",
     "evalue": "invalid decimal literal (2872156031.py, line 1)",
     "output_type": "error",
     "traceback": [
      "\u001b[1;36m  Cell \u001b[1;32mIn[8], line 1\u001b[1;36m\u001b[0m\n\u001b[1;33m    1v = 10\u001b[0m\n\u001b[1;37m    ^\u001b[0m\n\u001b[1;31mSyntaxError\u001b[0m\u001b[1;31m:\u001b[0m invalid decimal literal\n"
     ]
    }
   ],
   "source": [
    "1v = 10 #variable name does not start with any number, but can end with a number"
   ]
  },
  {
   "cell_type": "code",
   "execution_count": 9,
   "id": "aa4ee90e-c2f5-4fbe-bd14-084b2e328b4d",
   "metadata": {},
   "outputs": [],
   "source": [
    "a=10 #case sensitive variable names, that means lower case and upper case are different"
   ]
  },
  {
   "cell_type": "code",
   "execution_count": 10,
   "id": "57d8fffc-f51a-42e4-a0c9-a0a718b1c195",
   "metadata": {},
   "outputs": [
    {
     "data": {
      "text/plain": [
       "10"
      ]
     },
     "execution_count": 10,
     "metadata": {},
     "output_type": "execute_result"
    }
   ],
   "source": [
    "a"
   ]
  },
  {
   "cell_type": "code",
   "execution_count": 11,
   "id": "7207aeed-c10e-40c4-952b-0c84451ce001",
   "metadata": {},
   "outputs": [],
   "source": [
    "A=2"
   ]
  },
  {
   "cell_type": "code",
   "execution_count": 12,
   "id": "2251c7cf-8e05-46ea-90f3-1cc184e64832",
   "metadata": {},
   "outputs": [
    {
     "data": {
      "text/plain": [
       "2"
      ]
     },
     "execution_count": 12,
     "metadata": {},
     "output_type": "execute_result"
    }
   ],
   "source": [
    "A"
   ]
  },
  {
   "cell_type": "code",
   "execution_count": 13,
   "id": "62af6d34-9671-4ca7-aa56-79eb56bf6f8e",
   "metadata": {},
   "outputs": [
    {
     "ename": "SyntaxError",
     "evalue": "invalid syntax (1528473577.py, line 2)",
     "output_type": "error",
     "traceback": [
      "\u001b[1;36m  Cell \u001b[1;32mIn[13], line 2\u001b[1;36m\u001b[0m\n\u001b[1;33m    @=5\u001b[0m\n\u001b[1;37m    ^\u001b[0m\n\u001b[1;31mSyntaxError\u001b[0m\u001b[1;31m:\u001b[0m invalid syntax\n"
     ]
    }
   ],
   "source": [
    "#special characters are not allowed as in variable names\n",
    "@=5"
   ]
  },
  {
   "cell_type": "code",
   "execution_count": 14,
   "id": "ed8af679-31ae-40f6-b196-6ec5ab4bd207",
   "metadata": {},
   "outputs": [
    {
     "ename": "SyntaxError",
     "evalue": "invalid syntax (635789648.py, line 2)",
     "output_type": "error",
     "traceback": [
      "\u001b[1;36m  Cell \u001b[1;32mIn[14], line 2\u001b[1;36m\u001b[0m\n\u001b[1;33m    if=5\u001b[0m\n\u001b[1;37m      ^\u001b[0m\n\u001b[1;31mSyntaxError\u001b[0m\u001b[1;31m:\u001b[0m invalid syntax\n"
     ]
    }
   ],
   "source": [
    "# keywords are not allowed\n",
    "if=5"
   ]
  },
  {
   "cell_type": "code",
   "execution_count": 15,
   "id": "81fb42f9-02e8-4c1f-928f-a63ba35d5ed2",
   "metadata": {},
   "outputs": [],
   "source": [
    "#only underscore special character is allowed and can be in the begining of a variable name\n",
    "_v=10"
   ]
  },
  {
   "cell_type": "code",
   "execution_count": 16,
   "id": "afff1270-94ec-4500-9965-e7e41c06c645",
   "metadata": {},
   "outputs": [
    {
     "data": {
      "text/plain": [
       "10"
      ]
     },
     "execution_count": 16,
     "metadata": {},
     "output_type": "execute_result"
    }
   ],
   "source": [
    "_v"
   ]
  },
  {
   "cell_type": "code",
   "execution_count": 19,
   "id": "7a9bee6c-a1c1-4098-b082-088bf141ee0f",
   "metadata": {},
   "outputs": [
    {
     "data": {
      "text/plain": [
       "['False',\n",
       " 'None',\n",
       " 'True',\n",
       " 'and',\n",
       " 'as',\n",
       " 'assert',\n",
       " 'async',\n",
       " 'await',\n",
       " 'break',\n",
       " 'class',\n",
       " 'continue',\n",
       " 'def',\n",
       " 'del',\n",
       " 'elif',\n",
       " 'else',\n",
       " 'except',\n",
       " 'finally',\n",
       " 'for',\n",
       " 'from',\n",
       " 'global',\n",
       " 'if',\n",
       " 'import',\n",
       " 'in',\n",
       " 'is',\n",
       " 'lambda',\n",
       " 'nonlocal',\n",
       " 'not',\n",
       " 'or',\n",
       " 'pass',\n",
       " 'raise',\n",
       " 'return',\n",
       " 'try',\n",
       " 'while',\n",
       " 'with',\n",
       " 'yield']"
      ]
     },
     "execution_count": 19,
     "metadata": {},
     "output_type": "execute_result"
    }
   ],
   "source": [
    "import keyword \n",
    "keyword.kwlist #shows all the keywords in python"
   ]
  },
  {
   "cell_type": "code",
   "execution_count": 20,
   "id": "665a1c0d-0da6-4b05-82c4-3b69eb865e25",
   "metadata": {},
   "outputs": [
    {
     "data": {
      "text/plain": [
       "35"
      ]
     },
     "execution_count": 20,
     "metadata": {},
     "output_type": "execute_result"
    }
   ],
   "source": [
    "len(keyword.kwlist) #to know the number of keywords present in Python"
   ]
  },
  {
   "cell_type": "markdown",
   "id": "6b3d4379-3437-47eb-93a2-49c63648d4c5",
   "metadata": {},
   "source": [
    "#Data types"
   ]
  },
  {
   "cell_type": "code",
   "execution_count": 24,
   "id": "f3637e6b-759a-4c91-8d78-f8df26abc058",
   "metadata": {},
   "outputs": [],
   "source": [
    "#integer\n",
    "v=5"
   ]
  },
  {
   "cell_type": "code",
   "execution_count": 22,
   "id": "711a9195-77f4-4885-9774-dccdee5da1d9",
   "metadata": {},
   "outputs": [
    {
     "data": {
      "text/plain": [
       "5"
      ]
     },
     "execution_count": 22,
     "metadata": {},
     "output_type": "execute_result"
    }
   ],
   "source": [
    "v"
   ]
  },
  {
   "cell_type": "code",
   "execution_count": 23,
   "id": "690b3002-c18e-4df4-bf7c-5bc754da3c21",
   "metadata": {},
   "outputs": [
    {
     "data": {
      "text/plain": [
       "int"
      ]
     },
     "execution_count": 23,
     "metadata": {},
     "output_type": "execute_result"
    }
   ],
   "source": [
    "type(v) # shows the type of int for integer"
   ]
  },
  {
   "cell_type": "code",
   "execution_count": 25,
   "id": "2e06928d-1afa-4f1a-851b-a60c0e641daa",
   "metadata": {},
   "outputs": [],
   "source": [
    "#float\n",
    "v=5.12"
   ]
  },
  {
   "cell_type": "code",
   "execution_count": 26,
   "id": "deb4773a-7fe2-4b61-901a-d490e1cff748",
   "metadata": {},
   "outputs": [
    {
     "data": {
      "text/plain": [
       "5.12"
      ]
     },
     "execution_count": 26,
     "metadata": {},
     "output_type": "execute_result"
    }
   ],
   "source": [
    "v"
   ]
  },
  {
   "cell_type": "code",
   "execution_count": 27,
   "id": "2082d9a0-bdec-4165-a4c9-5d3230f159ba",
   "metadata": {},
   "outputs": [
    {
     "data": {
      "text/plain": [
       "float"
      ]
     },
     "execution_count": 27,
     "metadata": {},
     "output_type": "execute_result"
    }
   ],
   "source": [
    "type(v) # shows the data type as float"
   ]
  },
  {
   "cell_type": "code",
   "execution_count": 28,
   "id": "24d97305-d804-4708-af8c-95441f15ac4f",
   "metadata": {},
   "outputs": [
    {
     "data": {
      "text/plain": [
       "'nit'"
      ]
     },
     "execution_count": 28,
     "metadata": {},
     "output_type": "execute_result"
    }
   ],
   "source": [
    "#String\n",
    "v='nit'\n",
    "v"
   ]
  },
  {
   "cell_type": "code",
   "execution_count": 29,
   "id": "0fb45664-94f8-4db8-991c-5dbae0658bf4",
   "metadata": {},
   "outputs": [
    {
     "data": {
      "text/plain": [
       "str"
      ]
     },
     "execution_count": 29,
     "metadata": {},
     "output_type": "execute_result"
    }
   ],
   "source": [
    "type(v) # shows the data type as str for string"
   ]
  },
  {
   "cell_type": "code",
   "execution_count": 30,
   "id": "8fd491d4-a87f-4e42-a23c-b44717553a7c",
   "metadata": {},
   "outputs": [
    {
     "data": {
      "text/plain": [
       "str"
      ]
     },
     "execution_count": 30,
     "metadata": {},
     "output_type": "execute_result"
    }
   ],
   "source": [
    "v=\"nit\"\n",
    "type(v)"
   ]
  },
  {
   "cell_type": "code",
   "execution_count": 32,
   "id": "deca8b3f-4712-4c74-b956-1f9b9828c434",
   "metadata": {},
   "outputs": [
    {
     "data": {
      "text/plain": [
       "'nit'"
      ]
     },
     "execution_count": 32,
     "metadata": {},
     "output_type": "execute_result"
    }
   ],
   "source": [
    "v='''nit'''\n",
    "v"
   ]
  },
  {
   "cell_type": "code",
   "execution_count": 33,
   "id": "6d36dcc7-eea0-480a-b743-9b89b31f07b2",
   "metadata": {},
   "outputs": [
    {
     "data": {
      "text/plain": [
       "str"
      ]
     },
     "execution_count": 33,
     "metadata": {},
     "output_type": "execute_result"
    }
   ],
   "source": [
    "type(v)"
   ]
  },
  {
   "cell_type": "code",
   "execution_count": 34,
   "id": "2132674d-670c-4bf4-8020-9199fdf4374a",
   "metadata": {},
   "outputs": [
    {
     "data": {
      "text/plain": [
       "'nit'"
      ]
     },
     "execution_count": 34,
     "metadata": {},
     "output_type": "execute_result"
    }
   ],
   "source": [
    "v=\"\"\"nit\"\"\"\n",
    "v"
   ]
  },
  {
   "cell_type": "code",
   "execution_count": 35,
   "id": "92ac39ae-2ad2-4d34-b43d-105b280b27f0",
   "metadata": {},
   "outputs": [
    {
     "data": {
      "text/plain": [
       "str"
      ]
     },
     "execution_count": 35,
     "metadata": {},
     "output_type": "execute_result"
    }
   ],
   "source": [
    "type(v)"
   ]
  },
  {
   "cell_type": "markdown",
   "id": "bcf1f4d7-476d-4bca-8454-490f1947d094",
   "metadata": {},
   "source": [
    "#string can be given in ''(single quotes) or \"\"(double quotes) or ''''''/\"\"\"\"\"\"(triple quotes) \n",
    "#but the difference is - only triple quotes will work for multi line"
   ]
  },
  {
   "cell_type": "code",
   "execution_count": 37,
   "id": "d4fab36b-172d-4e80-9000-53285f1d5d6a",
   "metadata": {},
   "outputs": [
    {
     "data": {
      "text/plain": [
       "'this is a python course'"
      ]
     },
     "execution_count": 37,
     "metadata": {},
     "output_type": "execute_result"
    }
   ],
   "source": [
    "v='this is a python course'\n",
    "v"
   ]
  },
  {
   "cell_type": "code",
   "execution_count": 38,
   "id": "dee48354-45b7-4ca0-98b0-26208e8af402",
   "metadata": {},
   "outputs": [
    {
     "data": {
      "text/plain": [
       "'This is a python course'"
      ]
     },
     "execution_count": 38,
     "metadata": {},
     "output_type": "execute_result"
    }
   ],
   "source": [
    "v=\"This is a python course\"\n",
    "v"
   ]
  },
  {
   "cell_type": "code",
   "execution_count": 39,
   "id": "b763b833-ff40-4b9d-987a-51a7145746c8",
   "metadata": {},
   "outputs": [
    {
     "data": {
      "text/plain": [
       "'this is a python course'"
      ]
     },
     "execution_count": 39,
     "metadata": {},
     "output_type": "execute_result"
    }
   ],
   "source": [
    "v='''this is a python course'''\n",
    "v"
   ]
  },
  {
   "cell_type": "code",
   "execution_count": 40,
   "id": "612d0274-32db-4492-be2e-dc4e7d58761b",
   "metadata": {},
   "outputs": [
    {
     "data": {
      "text/plain": [
       "'This is a python course'"
      ]
     },
     "execution_count": 40,
     "metadata": {},
     "output_type": "execute_result"
    }
   ],
   "source": [
    "v=\"\"\"This is a python course\"\"\"\n",
    "v"
   ]
  },
  {
   "cell_type": "code",
   "execution_count": 41,
   "id": "2fe44efd-c778-420d-ae88-7fc98a122337",
   "metadata": {},
   "outputs": [
    {
     "ename": "SyntaxError",
     "evalue": "unterminated string literal (detected at line 1) (2547413324.py, line 1)",
     "output_type": "error",
     "traceback": [
      "\u001b[1;36m  Cell \u001b[1;32mIn[41], line 1\u001b[1;36m\u001b[0m\n\u001b[1;33m    v='hello\u001b[0m\n\u001b[1;37m      ^\u001b[0m\n\u001b[1;31mSyntaxError\u001b[0m\u001b[1;31m:\u001b[0m unterminated string literal (detected at line 1)\n"
     ]
    }
   ],
   "source": [
    "v='hello\n",
    "world'"
   ]
  },
  {
   "cell_type": "code",
   "execution_count": 42,
   "id": "d464d2c2-1fd0-4d4c-8566-d826ecc4dc62",
   "metadata": {},
   "outputs": [
    {
     "ename": "SyntaxError",
     "evalue": "unterminated string literal (detected at line 1) (780130572.py, line 1)",
     "output_type": "error",
     "traceback": [
      "\u001b[1;36m  Cell \u001b[1;32mIn[42], line 1\u001b[1;36m\u001b[0m\n\u001b[1;33m    v=\"hello\u001b[0m\n\u001b[1;37m      ^\u001b[0m\n\u001b[1;31mSyntaxError\u001b[0m\u001b[1;31m:\u001b[0m unterminated string literal (detected at line 1)\n"
     ]
    }
   ],
   "source": [
    "v=\"hello \n",
    "world\""
   ]
  },
  {
   "cell_type": "code",
   "execution_count": 43,
   "id": "af97c479-89f0-493c-8c3f-209c8964e67b",
   "metadata": {},
   "outputs": [],
   "source": [
    "v='''hello\n",
    "world'''"
   ]
  },
  {
   "cell_type": "code",
   "execution_count": 44,
   "id": "7a1d93bf-c68c-4cac-9751-0585b937e916",
   "metadata": {},
   "outputs": [
    {
     "data": {
      "text/plain": [
       "'hello\\nworld'"
      ]
     },
     "execution_count": 44,
     "metadata": {},
     "output_type": "execute_result"
    }
   ],
   "source": [
    "v"
   ]
  },
  {
   "cell_type": "code",
   "execution_count": 45,
   "id": "d48a8418-1c1d-4128-9e91-cca644a16bd7",
   "metadata": {},
   "outputs": [
    {
     "data": {
      "text/plain": [
       "'hello\\nworld'"
      ]
     },
     "execution_count": 45,
     "metadata": {},
     "output_type": "execute_result"
    }
   ],
   "source": [
    "v=\"\"\"hello\n",
    "world\"\"\" #only triple quotes are working for multi line\n",
    "v"
   ]
  },
  {
   "cell_type": "code",
   "execution_count": 46,
   "id": "a6a1e969-4121-4f78-a6ea-2d074df6af11",
   "metadata": {},
   "outputs": [
    {
     "ename": "SyntaxError",
     "evalue": "unterminated string literal (detected at line 1) (667811877.py, line 1)",
     "output_type": "error",
     "traceback": [
      "\u001b[1;36m  Cell \u001b[1;32mIn[46], line 1\u001b[1;36m\u001b[0m\n\u001b[1;33m    'it's a rainy day'\u001b[0m\n\u001b[1;37m                     ^\u001b[0m\n\u001b[1;31mSyntaxError\u001b[0m\u001b[1;31m:\u001b[0m unterminated string literal (detected at line 1)\n"
     ]
    }
   ],
   "source": [
    "'it's a rainy day'\n"
   ]
  },
  {
   "cell_type": "code",
   "execution_count": 47,
   "id": "25b670aa-723f-41da-958a-efdd7871ebce",
   "metadata": {},
   "outputs": [
    {
     "data": {
      "text/plain": [
       "\"it's a rainy day\""
      ]
     },
     "execution_count": 47,
     "metadata": {},
     "output_type": "execute_result"
    }
   ],
   "source": [
    "\"it's a rainy day\" # there is no need of escaping the single quote"
   ]
  },
  {
   "cell_type": "code",
   "execution_count": 48,
   "id": "683630f3-c109-4be6-b390-330b211e63d5",
   "metadata": {},
   "outputs": [
    {
     "data": {
      "text/plain": [
       "'it\"s a rainy day'"
      ]
     },
     "execution_count": 48,
     "metadata": {},
     "output_type": "execute_result"
    }
   ],
   "source": [
    "'it\"s a rainy day' # here, no need of escaping the double quote. In this type of cases, we can use single quote for showing double quote\n",
    "#and can use double quote for showing single quote"
   ]
  },
  {
   "cell_type": "code",
   "execution_count": 1,
   "id": "2ed19665-3323-4b5c-a8de-cecc724482f4",
   "metadata": {},
   "outputs": [],
   "source": [
    "# In python, there is no multi line comment like in"
   ]
  },
  {
   "cell_type": "code",
   "execution_count": 2,
   "id": "f531183f-ba7a-48d7-81fb-fca483d2378b",
   "metadata": {},
   "outputs": [
    {
     "data": {
      "text/plain": [
       "'nit'"
      ]
     },
     "execution_count": 2,
     "metadata": {},
     "output_type": "execute_result"
    }
   ],
   "source": [
    "text=\"nit\"\n",
    "text"
   ]
  },
  {
   "cell_type": "code",
   "execution_count": 3,
   "id": "53282c30-d2ab-4720-8ccd-0e23d44edf2c",
   "metadata": {},
   "outputs": [
    {
     "data": {
      "text/plain": [
       "'n'"
      ]
     },
     "execution_count": 3,
     "metadata": {},
     "output_type": "execute_result"
    }
   ],
   "source": [
    "text[0] #individual characters are accessed with index"
   ]
  },
  {
   "cell_type": "code",
   "execution_count": 4,
   "id": "f1cbe171-88fe-4e9a-9d04-524d187bb17d",
   "metadata": {},
   "outputs": [
    {
     "data": {
      "text/plain": [
       "'i'"
      ]
     },
     "execution_count": 4,
     "metadata": {},
     "output_type": "execute_result"
    }
   ],
   "source": [
    "text[1]"
   ]
  },
  {
   "cell_type": "code",
   "execution_count": 5,
   "id": "ff7141c3-337d-4b70-bf37-3695e014ebb3",
   "metadata": {},
   "outputs": [
    {
     "data": {
      "text/plain": [
       "'t'"
      ]
     },
     "execution_count": 5,
     "metadata": {},
     "output_type": "execute_result"
    }
   ],
   "source": [
    "text[-1] #backward index"
   ]
  },
  {
   "cell_type": "markdown",
   "id": "695ed29a-f6fa-4704-9c89-bb8555040426",
   "metadata": {},
   "source": [
    "# There are two types of index in Python\n",
    "# 1.Forword Index (left to right, starts from 0)\n",
    "# 2.Backward Index (right to left, starts from -1)"
   ]
  },
  {
   "cell_type": "code",
   "execution_count": 1,
   "id": "50f4c0c2-583f-4cc0-a9d9-a0e75ce5f28a",
   "metadata": {},
   "outputs": [
    {
     "data": {
      "text/plain": [
       "True"
      ]
     },
     "execution_count": 1,
     "metadata": {},
     "output_type": "execute_result"
    }
   ],
   "source": [
    "v=True\n",
    "v"
   ]
  },
  {
   "cell_type": "code",
   "execution_count": 2,
   "id": "ec8afb14-58d4-4089-ae73-167cdc41b987",
   "metadata": {},
   "outputs": [
    {
     "data": {
      "text/plain": [
       "bool"
      ]
     },
     "execution_count": 2,
     "metadata": {},
     "output_type": "execute_result"
    }
   ],
   "source": [
    "type(v) #shows the datatype as bool for Boolean. Also, True/False values are case sensitive. i.e, true/false will show error"
   ]
  },
  {
   "cell_type": "code",
   "execution_count": 3,
   "id": "890a8f5c-f516-466b-bcf7-417d28af7065",
   "metadata": {},
   "outputs": [
    {
     "ename": "NameError",
     "evalue": "name 'true' is not defined",
     "output_type": "error",
     "traceback": [
      "\u001b[1;31m---------------------------------------------------------------------------\u001b[0m",
      "\u001b[1;31mNameError\u001b[0m                                 Traceback (most recent call last)",
      "Cell \u001b[1;32mIn[3], line 1\u001b[0m\n\u001b[1;32m----> 1\u001b[0m v\u001b[38;5;241m=\u001b[39mtrue\n",
      "\u001b[1;31mNameError\u001b[0m: name 'true' is not defined"
     ]
    }
   ],
   "source": [
    "v=true"
   ]
  },
  {
   "cell_type": "code",
   "execution_count": 5,
   "id": "2f54fa44-9aae-42f7-9d4d-c6afe1e67ab7",
   "metadata": {},
   "outputs": [
    {
     "data": {
      "text/plain": [
       "(1+2j)"
      ]
     },
     "execution_count": 5,
     "metadata": {},
     "output_type": "execute_result"
    }
   ],
   "source": [
    "v=1+2j #This is a comples data type. and only 'j' is allowed as complex variable\n",
    "v"
   ]
  },
  {
   "cell_type": "code",
   "execution_count": 6,
   "id": "65596e8b-11f6-4118-8918-671fc579a4ea",
   "metadata": {},
   "outputs": [
    {
     "data": {
      "text/plain": [
       "complex"
      ]
     },
     "execution_count": 6,
     "metadata": {},
     "output_type": "execute_result"
    }
   ],
   "source": [
    "type(v) # shows the data type as complex"
   ]
  },
  {
   "cell_type": "code",
   "execution_count": 7,
   "id": "121462f4-f541-445b-b219-0c53940e19e4",
   "metadata": {},
   "outputs": [],
   "source": [
    "v=1+2J"
   ]
  },
  {
   "cell_type": "code",
   "execution_count": 8,
   "id": "f89d4c09-ab02-4300-80cf-e73a401cb71c",
   "metadata": {},
   "outputs": [
    {
     "data": {
      "text/plain": [
       "(1+2j)"
      ]
     },
     "execution_count": 8,
     "metadata": {},
     "output_type": "execute_result"
    }
   ],
   "source": [
    "v"
   ]
  },
  {
   "cell_type": "code",
   "execution_count": null,
   "id": "20ead181-793e-497f-9861-8dbb60e252ac",
   "metadata": {},
   "outputs": [],
   "source": []
  }
 ],
 "metadata": {
  "kernelspec": {
   "display_name": "Python 3 (ipykernel)",
   "language": "python",
   "name": "python3"
  },
  "language_info": {
   "codemirror_mode": {
    "name": "ipython",
    "version": 3
   },
   "file_extension": ".py",
   "mimetype": "text/x-python",
   "name": "python",
   "nbconvert_exporter": "python",
   "pygments_lexer": "ipython3",
   "version": "3.12.7"
  }
 },
 "nbformat": 4,
 "nbformat_minor": 5
}
