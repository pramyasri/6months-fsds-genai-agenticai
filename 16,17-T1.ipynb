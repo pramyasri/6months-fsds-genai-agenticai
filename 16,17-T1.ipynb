{
 "cells": [
  {
   "cell_type": "code",
   "execution_count": 1,
   "id": "90fd0d0b-2eee-480e-a6a9-6aa79dbd474e",
   "metadata": {},
   "outputs": [
    {
     "data": {
      "text/plain": [
       "12"
      ]
     },
     "execution_count": 1,
     "metadata": {},
     "output_type": "execute_result"
    }
   ],
   "source": [
    "6+6"
   ]
  },
  {
   "cell_type": "code",
   "execution_count": 2,
   "id": "b8662a9f-6c7e-4e71-ba60-bb0c8d079438",
   "metadata": {},
   "outputs": [
    {
     "data": {
      "text/plain": [
       "2.5"
      ]
     },
     "execution_count": 2,
     "metadata": {},
     "output_type": "execute_result"
    }
   ],
   "source": [
    "5/2"
   ]
  },
  {
   "cell_type": "code",
   "execution_count": 3,
   "id": "1f601e48-319b-4507-9631-b536f7fe3e7e",
   "metadata": {},
   "outputs": [
    {
     "data": {
      "text/plain": [
       "1.0"
      ]
     },
     "execution_count": 3,
     "metadata": {},
     "output_type": "execute_result"
    }
   ],
   "source": [
    "2/2 # division always gives a float number "
   ]
  },
  {
   "cell_type": "code",
   "execution_count": 4,
   "id": "369c2bbb-1b73-4bd5-a3ba-26fc6b622fb9",
   "metadata": {},
   "outputs": [
    {
     "data": {
      "text/plain": [
       "3"
      ]
     },
     "execution_count": 4,
     "metadata": {},
     "output_type": "execute_result"
    }
   ],
   "source": [
    "23-4*5"
   ]
  },
  {
   "cell_type": "code",
   "execution_count": 6,
   "id": "de00530a-623f-4074-95f6-01cb815a0373",
   "metadata": {},
   "outputs": [
    {
     "data": {
      "text/plain": [
       "1.5"
      ]
     },
     "execution_count": 6,
     "metadata": {},
     "output_type": "execute_result"
    }
   ],
   "source": [
    "(23-4*5)/2"
   ]
  },
  {
   "cell_type": "code",
   "execution_count": 9,
   "id": "7fd3ddec-1c85-4707-b135-a1ea917e9d62",
   "metadata": {},
   "outputs": [
    {
     "data": {
      "text/plain": [
       "125"
      ]
     },
     "execution_count": 9,
     "metadata": {},
     "output_type": "execute_result"
    }
   ],
   "source": [
    "5**3 # to the power of"
   ]
  },
  {
   "cell_type": "code",
   "execution_count": 10,
   "id": "aec3782c-af20-42b9-9a00-b3450e5ff3a9",
   "metadata": {},
   "outputs": [
    {
     "data": {
      "text/plain": [
       "5.666666666666667"
      ]
     },
     "execution_count": 10,
     "metadata": {},
     "output_type": "execute_result"
    }
   ],
   "source": [
    "17/3"
   ]
  },
  {
   "cell_type": "code",
   "execution_count": 12,
   "id": "bf297e21-ba36-4abc-b578-d07aea56287c",
   "metadata": {},
   "outputs": [
    {
     "data": {
      "text/plain": [
       "5"
      ]
     },
     "execution_count": 12,
     "metadata": {},
     "output_type": "execute_result"
    }
   ],
   "source": [
    "17//3 #floored division, discards fractional part and gives the integer part#gives the remainder"
   ]
  },
  {
   "cell_type": "code",
   "execution_count": 13,
   "id": "4a39210f-70a3-434c-bcad-4aa9ba40dd0b",
   "metadata": {},
   "outputs": [
    {
     "data": {
      "text/plain": [
       "2"
      ]
     },
     "execution_count": 13,
     "metadata": {},
     "output_type": "execute_result"
    }
   ],
   "source": [
    "17%3"
   ]
  },
  {
   "cell_type": "code",
   "execution_count": 14,
   "id": "f60e5078-c479-412d-8a8f-255f73510622",
   "metadata": {},
   "outputs": [
    {
     "ename": "NameError",
     "evalue": "name 'n' is not defined",
     "output_type": "error",
     "traceback": [
      "\u001b[1;31m---------------------------------------------------------------------------\u001b[0m",
      "\u001b[1;31mNameError\u001b[0m                                 Traceback (most recent call last)",
      "Cell \u001b[1;32mIn[14], line 1\u001b[0m\n\u001b[1;32m----> 1\u001b[0m n\n",
      "\u001b[1;31mNameError\u001b[0m: name 'n' is not defined"
     ]
    }
   ],
   "source": [
    "n # undefined(not assigned with any value) variable, gives error"
   ]
  },
  {
   "cell_type": "code",
   "execution_count": 15,
   "id": "8ef086c2-084f-47f6-88f3-349ff0b360db",
   "metadata": {},
   "outputs": [
    {
     "data": {
      "text/plain": [
       "10.508"
      ]
     },
     "execution_count": 15,
     "metadata": {},
     "output_type": "execute_result"
    }
   ],
   "source": [
    "23-3.123*4 #when mixed data types(int, float) are used, result will be converted to float"
   ]
  },
  {
   "cell_type": "code",
   "execution_count": 16,
   "id": "68f8c18f-a1c9-4ef8-aaa8-bac31b5ef3b0",
   "metadata": {},
   "outputs": [
    {
     "data": {
      "text/plain": [
       "10.508"
      ]
     },
     "execution_count": 16,
     "metadata": {},
     "output_type": "execute_result"
    }
   ],
   "source": [
    "_ #_ stores and gives the last result"
   ]
  },
  {
   "cell_type": "code",
   "execution_count": 17,
   "id": "2d34c8eb-1f7c-4279-b1d0-34262aebec0a",
   "metadata": {},
   "outputs": [
    {
     "data": {
      "text/plain": [
       "22.508"
      ]
     },
     "execution_count": 17,
     "metadata": {},
     "output_type": "execute_result"
    }
   ],
   "source": [
    "_+12"
   ]
  },
  {
   "cell_type": "code",
   "execution_count": 18,
   "id": "0ee8cc69-2e54-4c48-ba95-d2f4ca21fee6",
   "metadata": {},
   "outputs": [
    {
     "data": {
      "text/plain": [
       "22.508"
      ]
     },
     "execution_count": 18,
     "metadata": {},
     "output_type": "execute_result"
    }
   ],
   "source": [
    "_"
   ]
  },
  {
   "cell_type": "code",
   "execution_count": 19,
   "id": "ab26bcc5-b65d-4977-b0d6-1e91d22049c3",
   "metadata": {},
   "outputs": [
    {
     "data": {
      "text/plain": [
       "'spam eggs'"
      ]
     },
     "execution_count": 19,
     "metadata": {},
     "output_type": "execute_result"
    }
   ],
   "source": [
    "#single quote and double quote\n",
    "'spam eggs'"
   ]
  },
  {
   "cell_type": "code",
   "execution_count": 20,
   "id": "5e146121-9765-455b-9ca7-20274f299d05",
   "metadata": {},
   "outputs": [
    {
     "data": {
      "text/plain": [
       "'parris rabbit got your back :)! yay'"
      ]
     },
     "execution_count": 20,
     "metadata": {},
     "output_type": "execute_result"
    }
   ],
   "source": [
    "\"parris rabbit got your back :)! yay\""
   ]
  },
  {
   "cell_type": "code",
   "execution_count": 21,
   "id": "a2ea728d-b3a7-41cd-b5ce-9219066d4944",
   "metadata": {},
   "outputs": [
    {
     "data": {
      "text/plain": [
       "'1324'"
      ]
     },
     "execution_count": 21,
     "metadata": {},
     "output_type": "execute_result"
    }
   ],
   "source": [
    "'1324'# numerals as string"
   ]
  },
  {
   "cell_type": "code",
   "execution_count": 22,
   "id": "b7187293-e8b0-4965-af06-ce050e0ce4b0",
   "metadata": {},
   "outputs": [
    {
     "data": {
      "text/plain": [
       "\"doesn't\""
      ]
     },
     "execution_count": 22,
     "metadata": {},
     "output_type": "execute_result"
    }
   ],
   "source": [
    "#escaping quote - can use either \\ or other quote\n",
    "'doesn\\'t'"
   ]
  },
  {
   "cell_type": "code",
   "execution_count": 23,
   "id": "b35f806b-5cb9-4cb0-bde9-356f4e58d312",
   "metadata": {},
   "outputs": [
    {
     "data": {
      "text/plain": [
       "\"doesn't\""
      ]
     },
     "execution_count": 23,
     "metadata": {},
     "output_type": "execute_result"
    }
   ],
   "source": [
    "\"doesn't\""
   ]
  },
  {
   "cell_type": "code",
   "execution_count": 26,
   "id": "3d79fd6e-c432-4d7f-bad4-3dddb2db88fc",
   "metadata": {},
   "outputs": [
    {
     "data": {
      "text/plain": [
       "'\"yes\", they said'"
      ]
     },
     "execution_count": 26,
     "metadata": {},
     "output_type": "execute_result"
    }
   ],
   "source": [
    "'\"yes\", they said'"
   ]
  },
  {
   "cell_type": "code",
   "execution_count": 30,
   "id": "c358061c-6b0e-4e44-8155-6ac80794c89d",
   "metadata": {},
   "outputs": [
    {
     "data": {
      "text/plain": [
       "'First line.\\nsecond line'"
      ]
     },
     "execution_count": 30,
     "metadata": {},
     "output_type": "execute_result"
    }
   ],
   "source": [
    "#print() -will show the string after interpreting the special characters\n",
    "#whereas the string directly printed without print, will show the string as it it without interpreting\n",
    "s='First line.\\nsecond line'\n",
    "s"
   ]
  },
  {
   "cell_type": "code",
   "execution_count": 31,
   "id": "e18a15f5-cbcc-4f37-be0d-664198c415f3",
   "metadata": {},
   "outputs": [
    {
     "name": "stdout",
     "output_type": "stream",
     "text": [
      "First line.\n",
      "second line\n"
     ]
    }
   ],
   "source": [
    "print(s)"
   ]
  },
  {
   "cell_type": "code",
   "execution_count": 8,
   "id": "a2e53a99-49d1-4669-b085-b584384eddd1",
   "metadata": {},
   "outputs": [
    {
     "name": "stdout",
     "output_type": "stream",
     "text": [
      "c:\\some\\name\n",
      "c:\\some\\name\n",
      "!@#$%#^_'\n"
     ]
    }
   ],
   "source": [
    "print('c:\\\\some\\\\name')#printing the string as it is with escaping the characters '\\', if the characters are not escaped, e.g \\n \n",
    "#will be treated as new line character\n",
    "print(r'c:\\some\\name') #printing raw string without using escaping caharacters\n",
    "print(r\"!@#$%#^_'\")"
   ]
  },
  {
   "cell_type": "code",
   "execution_count": 11,
   "id": "10e5267b-20ac-4f92-8424-40ec26a1be11",
   "metadata": {},
   "outputs": [
    {
     "name": "stdout",
     "output_type": "stream",
     "text": [
      "\\test\\raw\\string\n"
     ]
    }
   ],
   "source": [
    "print(r'\\test\\raw\\string')"
   ]
  },
  {
   "cell_type": "code",
   "execution_count": 12,
   "id": "e22cb028-ec32-4dc8-a979-f47aace2cf63",
   "metadata": {},
   "outputs": [
    {
     "name": "stdout",
     "output_type": "stream",
     "text": [
      "Line1\n",
      "line2\n",
      "line3\n"
     ]
    }
   ],
   "source": [
    "print('''Line1\n",
    "line2\n",
    "line3''')"
   ]
  },
  {
   "cell_type": "code",
   "execution_count": 14,
   "id": "843a3211-24b1-43b2-aaee-88450a11be47",
   "metadata": {},
   "outputs": [
    {
     "name": "stdout",
     "output_type": "stream",
     "text": [
      "Line1line2\n",
      "line3\n"
     ]
    }
   ],
   "source": [
    "print('''Line1\\\n",
    "line2\n",
    "line3''') #here \\ character is used to prevent the new line..so even it is entered in the next line, will be considered as same line"
   ]
  },
  {
   "cell_type": "code",
   "execution_count": 15,
   "id": "82a7e4e9-664b-46cd-9796-feaa84342cc6",
   "metadata": {},
   "outputs": [
    {
     "data": {
      "text/plain": [
       "'string concatenation'"
      ]
     },
     "execution_count": 15,
     "metadata": {},
     "output_type": "execute_result"
    }
   ],
   "source": [
    "'string concatenation'"
   ]
  },
  {
   "cell_type": "code",
   "execution_count": 19,
   "id": "d2d17494-0ea0-46f4-9160-0fda6790dde8",
   "metadata": {},
   "outputs": [
    {
     "data": {
      "text/plain": [
       "'string concatenation'"
      ]
     },
     "execution_count": 19,
     "metadata": {},
     "output_type": "execute_result"
    }
   ],
   "source": [
    "'string'+' concatenation' #+ is used to concatenate strings"
   ]
  },
  {
   "cell_type": "code",
   "execution_count": 20,
   "id": "e53cf6cc-7200-4ab1-a0dd-349f7f700210",
   "metadata": {},
   "outputs": [
    {
     "data": {
      "text/plain": [
       "'string repetition'"
      ]
     },
     "execution_count": 20,
     "metadata": {},
     "output_type": "execute_result"
    }
   ],
   "source": [
    "'string repetition'"
   ]
  },
  {
   "cell_type": "code",
   "execution_count": 23,
   "id": "e174e981-ea20-406f-8ce2-c7a57e8ca752",
   "metadata": {},
   "outputs": [
    {
     "data": {
      "text/plain": [
       "'string repetition string repetition string repetition '"
      ]
     },
     "execution_count": 23,
     "metadata": {},
     "output_type": "execute_result"
    }
   ],
   "source": [
    "3*'string repetition ' # * is used to repeat a string"
   ]
  },
  {
   "cell_type": "code",
   "execution_count": 24,
   "id": "c56cea90-b084-42db-8bbb-7d102de41629",
   "metadata": {},
   "outputs": [
    {
     "data": {
      "text/plain": [
       "'string repetitionstring repetitionstring repetition'"
      ]
     },
     "execution_count": 24,
     "metadata": {},
     "output_type": "execute_result"
    }
   ],
   "source": [
    "'string repetition'*3"
   ]
  },
  {
   "cell_type": "code",
   "execution_count": 25,
   "id": "4a84dbba-d496-4d60-a569-63af084dbb40",
   "metadata": {},
   "outputs": [
    {
     "data": {
      "text/plain": [
       "'testtesting'"
      ]
     },
     "execution_count": 25,
     "metadata": {},
     "output_type": "execute_result"
    }
   ],
   "source": [
    "'test'*2+'ing'"
   ]
  },
  {
   "cell_type": "code",
   "execution_count": 26,
   "id": "fe548c50-aa11-4498-860a-2e154e4f849f",
   "metadata": {},
   "outputs": [
    {
     "data": {
      "text/plain": [
       "'test ing'"
      ]
     },
     "execution_count": 26,
     "metadata": {},
     "output_type": "execute_result"
    }
   ],
   "source": [
    "'test' ' ing'"
   ]
  },
  {
   "cell_type": "code",
   "execution_count": 28,
   "id": "3b182aeb-afe2-4722-9ed8-d2e44ac8f7fb",
   "metadata": {},
   "outputs": [
    {
     "data": {
      "text/plain": [
       "'test ing'"
      ]
     },
     "execution_count": 28,
     "metadata": {},
     "output_type": "execute_result"
    }
   ],
   "source": [
    "'test'' ing' #more than one string literal next to each other are automatically concatenated. This is used when we want to break a long string"
   ]
  },
  {
   "cell_type": "code",
   "execution_count": 30,
   "id": "b7de86bc-f18c-4ca1-bf49-9a2fb08a47ec",
   "metadata": {},
   "outputs": [
    {
     "data": {
      "text/plain": [
       "'string onestring two'"
      ]
     },
     "execution_count": 30,
     "metadata": {},
     "output_type": "execute_result"
    }
   ],
   "source": [
    "text=('string one'\n",
    "      'string two') #long string broken as two literals\n",
    "text"
   ]
  },
  {
   "cell_type": "code",
   "execution_count": 31,
   "id": "0293ddff-04a0-4eb5-bba0-ebd837d81393",
   "metadata": {},
   "outputs": [
    {
     "data": {
      "text/plain": [
       "'string onestring two'"
      ]
     },
     "execution_count": 31,
     "metadata": {},
     "output_type": "execute_result"
    }
   ],
   "source": [
    "text"
   ]
  },
  {
   "cell_type": "code",
   "execution_count": 32,
   "id": "1ce37b42-0f0c-448c-b813-2c6c88509701",
   "metadata": {},
   "outputs": [
    {
     "ename": "SyntaxError",
     "evalue": "invalid syntax (2453640785.py, line 1)",
     "output_type": "error",
     "traceback": [
      "\u001b[1;36m  Cell \u001b[1;32mIn[32], line 1\u001b[1;36m\u001b[0m\n\u001b[1;33m    text 'python'\u001b[0m\n\u001b[1;37m         ^\u001b[0m\n\u001b[1;31mSyntaxError\u001b[0m\u001b[1;31m:\u001b[0m invalid syntax\n"
     ]
    }
   ],
   "source": [
    "text 'python' # will give error, as text is a variable"
   ]
  },
  {
   "cell_type": "code",
   "execution_count": 34,
   "id": "303899f6-7c44-4875-a7f7-f7cd6107c266",
   "metadata": {},
   "outputs": [
    {
     "data": {
      "text/plain": [
       "'string onestring twopython'"
      ]
     },
     "execution_count": 34,
     "metadata": {},
     "output_type": "execute_result"
    }
   ],
   "source": [
    "text + 'python' # will not give error, because + is used to concatenate variable and a string literal"
   ]
  },
  {
   "cell_type": "markdown",
   "id": "7e225174-cbbd-4e42-a838-f1b660b2af39",
   "metadata": {},
   "source": [
    "#string Indexing, Slicing\n",
    "\n",
    "#Indexing will give single characters, Slicing will give stb strings"
   ]
  },
  {
   "cell_type": "code",
   "execution_count": 41,
   "id": "1a43e54a-d8be-4cb9-88b5-997229e5bc46",
   "metadata": {},
   "outputs": [
    {
     "data": {
      "text/plain": [
       "'python'"
      ]
     },
     "execution_count": 41,
     "metadata": {},
     "output_type": "execute_result"
    }
   ],
   "source": [
    "s='python'\n",
    "s"
   ]
  },
  {
   "cell_type": "code",
   "execution_count": 42,
   "id": "8c8202c5-5317-4229-a04e-8b573fe41da7",
   "metadata": {},
   "outputs": [
    {
     "data": {
      "text/plain": [
       "6"
      ]
     },
     "execution_count": 42,
     "metadata": {},
     "output_type": "execute_result"
    }
   ],
   "source": [
    "len(s)"
   ]
  },
  {
   "cell_type": "code",
   "execution_count": 43,
   "id": "a30a27ea-fba1-4c9e-a17b-04007a8670c1",
   "metadata": {},
   "outputs": [
    {
     "name": "stdout",
     "output_type": "stream",
     "text": [
      "p\n",
      "y\n",
      "t\n",
      "h\n",
      "o\n",
      "n\n"
     ]
    },
    {
     "ename": "IndexError",
     "evalue": "string index out of range",
     "output_type": "error",
     "traceback": [
      "\u001b[1;31m---------------------------------------------------------------------------\u001b[0m",
      "\u001b[1;31mIndexError\u001b[0m                                Traceback (most recent call last)",
      "Cell \u001b[1;32mIn[43], line 7\u001b[0m\n\u001b[0;32m      5\u001b[0m \u001b[38;5;28mprint\u001b[39m(s[\u001b[38;5;241m4\u001b[39m])\n\u001b[0;32m      6\u001b[0m \u001b[38;5;28mprint\u001b[39m(s[\u001b[38;5;241m5\u001b[39m])\n\u001b[1;32m----> 7\u001b[0m \u001b[38;5;28mprint\u001b[39m(s[\u001b[38;5;241m6\u001b[39m])\n",
      "\u001b[1;31mIndexError\u001b[0m: string index out of range"
     ]
    }
   ],
   "source": [
    "print(s[0])\n",
    "print(s[1])\n",
    "print(s[2])\n",
    "print(s[3])\n",
    "print(s[4])\n",
    "print(s[5])\n",
    "print(s[6]) #index should be in the range from 0 to len-1 (forward index)"
   ]
  },
  {
   "cell_type": "code",
   "execution_count": 45,
   "id": "1387a212-0aea-447e-b073-e54989c3fd07",
   "metadata": {},
   "outputs": [
    {
     "name": "stdout",
     "output_type": "stream",
     "text": [
      "n\n",
      "o\n",
      "h\n",
      "t\n",
      "y\n",
      "p\n"
     ]
    },
    {
     "ename": "IndexError",
     "evalue": "string index out of range",
     "output_type": "error",
     "traceback": [
      "\u001b[1;31m---------------------------------------------------------------------------\u001b[0m",
      "\u001b[1;31mIndexError\u001b[0m                                Traceback (most recent call last)",
      "Cell \u001b[1;32mIn[45], line 7\u001b[0m\n\u001b[0;32m      5\u001b[0m \u001b[38;5;28mprint\u001b[39m(s[\u001b[38;5;241m-\u001b[39m\u001b[38;5;241m5\u001b[39m])\n\u001b[0;32m      6\u001b[0m \u001b[38;5;28mprint\u001b[39m(s[\u001b[38;5;241m-\u001b[39m\u001b[38;5;241m6\u001b[39m])\n\u001b[1;32m----> 7\u001b[0m \u001b[38;5;28mprint\u001b[39m(s[\u001b[38;5;241m-\u001b[39m\u001b[38;5;241m7\u001b[39m])\n",
      "\u001b[1;31mIndexError\u001b[0m: string index out of range"
     ]
    }
   ],
   "source": [
    "print(s[-1])\n",
    "print(s[-2])\n",
    "print(s[-3])\n",
    "print(s[-4])\n",
    "print(s[-5])\n",
    "print(s[-6])\n",
    "print(s[-7]) # index should be range from -string length to -1 (backward index)"
   ]
  },
  {
   "cell_type": "markdown",
   "id": "db48689a-ef32-4590-821d-2577193d7528",
   "metadata": {},
   "source": [
    "Slicing\n"
   ]
  },
  {
   "cell_type": "code",
   "execution_count": 46,
   "id": "61f633c3-0de3-40fd-8036-bb8f85a95572",
   "metadata": {},
   "outputs": [
    {
     "data": {
      "text/plain": [
       "'python'"
      ]
     },
     "execution_count": 46,
     "metadata": {},
     "output_type": "execute_result"
    }
   ],
   "source": [
    "s='python'\n",
    "s"
   ]
  },
  {
   "cell_type": "code",
   "execution_count": 47,
   "id": "e9aaf4a8-9b7c-4736-b70e-f3764c97898c",
   "metadata": {},
   "outputs": [
    {
     "data": {
      "text/plain": [
       "'python'"
      ]
     },
     "execution_count": 47,
     "metadata": {},
     "output_type": "execute_result"
    }
   ],
   "source": [
    "s[:] #[i1:i2] - > from i1 up to i2, i2 is not included"
   ]
  },
  {
   "cell_type": "code",
   "execution_count": 48,
   "id": "1a532a30-b765-4d97-af4d-fd7b4213374b",
   "metadata": {},
   "outputs": [
    {
     "data": {
      "text/plain": [
       "'python'"
      ]
     },
     "execution_count": 48,
     "metadata": {},
     "output_type": "execute_result"
    }
   ],
   "source": [
    "s[0:]#0 to end"
   ]
  },
  {
   "cell_type": "code",
   "execution_count": 49,
   "id": "4b30cced-a59d-4788-9a40-d1e4c4e2a39f",
   "metadata": {},
   "outputs": [
    {
     "data": {
      "text/plain": [
       "'p'"
      ]
     },
     "execution_count": 49,
     "metadata": {},
     "output_type": "execute_result"
    }
   ],
   "source": [
    "s[0:1]#0 to 1, 1 is not included"
   ]
  },
  {
   "cell_type": "code",
   "execution_count": 51,
   "id": "058554b8-3050-4def-9c50-ac4b33d370e2",
   "metadata": {},
   "outputs": [
    {
     "data": {
      "text/plain": [
       "'yt'"
      ]
     },
     "execution_count": 51,
     "metadata": {},
     "output_type": "execute_result"
    }
   ],
   "source": [
    "s[1:3]"
   ]
  },
  {
   "cell_type": "code",
   "execution_count": 52,
   "id": "8af826ac-b525-4066-9067-8ff4967de04d",
   "metadata": {},
   "outputs": [
    {
     "data": {
      "text/plain": [
       "'tho'"
      ]
     },
     "execution_count": 52,
     "metadata": {},
     "output_type": "execute_result"
    }
   ],
   "source": [
    "s[2:5]"
   ]
  },
  {
   "cell_type": "code",
   "execution_count": 53,
   "id": "90368b61-7889-4ca2-a5b8-060141723f92",
   "metadata": {},
   "outputs": [
    {
     "data": {
      "text/plain": [
       "'pyt'"
      ]
     },
     "execution_count": 53,
     "metadata": {},
     "output_type": "execute_result"
    }
   ],
   "source": [
    "s[:3]#from start up to 3"
   ]
  },
  {
   "cell_type": "code",
   "execution_count": 54,
   "id": "6ffdedc7-18fb-46e9-a407-e5f11de95084",
   "metadata": {},
   "outputs": [
    {
     "data": {
      "text/plain": [
       "'on'"
      ]
     },
     "execution_count": 54,
     "metadata": {},
     "output_type": "execute_result"
    }
   ],
   "source": [
    "s[-2:]#from second-last to end"
   ]
  },
  {
   "cell_type": "code",
   "execution_count": 65,
   "id": "3682b79f-52c3-4431-8bb9-8f9a7fb11da2",
   "metadata": {},
   "outputs": [
    {
     "data": {
      "text/plain": [
       "'pytho'"
      ]
     },
     "execution_count": 65,
     "metadata": {},
     "output_type": "execute_result"
    }
   ],
   "source": [
    "s[-6:-1]"
   ]
  },
  {
   "cell_type": "code",
   "execution_count": 62,
   "id": "21dc916a-21b5-45e9-b253-69009a3856ba",
   "metadata": {},
   "outputs": [
    {
     "data": {
      "text/plain": [
       "'python'"
      ]
     },
     "execution_count": 62,
     "metadata": {},
     "output_type": "execute_result"
    }
   ],
   "source": [
    "s[-6:]"
   ]
  },
  {
   "cell_type": "code",
   "execution_count": 63,
   "id": "271f6288-e72a-4f62-87e1-a42795b7b835",
   "metadata": {},
   "outputs": [
    {
     "data": {
      "text/plain": [
       "'pytho'"
      ]
     },
     "execution_count": 63,
     "metadata": {},
     "output_type": "execute_result"
    }
   ],
   "source": [
    "s[:-1]"
   ]
  },
  {
   "cell_type": "code",
   "execution_count": 64,
   "id": "efb85789-eef2-4a4b-a661-ad954711577d",
   "metadata": {},
   "outputs": [
    {
     "data": {
      "text/plain": [
       "'pyth'"
      ]
     },
     "execution_count": 64,
     "metadata": {},
     "output_type": "execute_result"
    }
   ],
   "source": [
    "s[:-2]"
   ]
  },
  {
   "cell_type": "code",
   "execution_count": 72,
   "id": "4940b563-bcb5-4c4b-8578-3acf690c004f",
   "metadata": {},
   "outputs": [
    {
     "name": "stdout",
     "output_type": "stream",
     "text": [
      "ython\n",
      "p\n",
      "ythonp\n",
      "python\n",
      "python\n",
      "python\n"
     ]
    }
   ],
   "source": [
    "print(s[1:])\n",
    "print(s[:1])\n",
    "print(s[1:]+s[:1])\n",
    "print(s[:1]+s[1:])#s[:i]+s[i:] will give the complete string\n",
    "print(s[:2]+s[2:])\n",
    "print(s[:3]+s[3:])"
   ]
  },
  {
   "cell_type": "markdown",
   "id": "06d6dd0a-08da-4c0a-a855-d4424772b9d8",
   "metadata": {},
   "source": [
    "# even in index out of bound, slicing will not give error;instead it will show empty for the out of bound indices "
   ]
  },
  {
   "cell_type": "code",
   "execution_count": 76,
   "id": "777265f2-34f6-42ec-b51f-e09f3b9bbc55",
   "metadata": {},
   "outputs": [
    {
     "data": {
      "text/plain": [
       "''"
      ]
     },
     "execution_count": 76,
     "metadata": {},
     "output_type": "execute_result"
    }
   ],
   "source": [
    "s[10:] "
   ]
  },
  {
   "cell_type": "code",
   "execution_count": 77,
   "id": "6394874c-769c-4588-a784-608ae0bbb42a",
   "metadata": {},
   "outputs": [
    {
     "data": {
      "text/plain": [
       "'python'"
      ]
     },
     "execution_count": 77,
     "metadata": {},
     "output_type": "execute_result"
    }
   ],
   "source": [
    "s[:10]"
   ]
  },
  {
   "cell_type": "markdown",
   "id": "cd2e0b97-517a-4b8b-82b9-2c1cbfc2e64c",
   "metadata": {},
   "source": [
    "#strings are immutable,can not change the characters by indexing or slicing"
   ]
  },
  {
   "cell_type": "code",
   "execution_count": 78,
   "id": "d7ac2691-ce88-4b9b-ad0b-3a3e5b8709be",
   "metadata": {},
   "outputs": [
    {
     "data": {
      "text/plain": [
       "'python'"
      ]
     },
     "execution_count": 78,
     "metadata": {},
     "output_type": "execute_result"
    }
   ],
   "source": [
    "s"
   ]
  },
  {
   "cell_type": "code",
   "execution_count": 79,
   "id": "75f8b990-d0d0-4c3c-a661-0f59ce1ee930",
   "metadata": {},
   "outputs": [
    {
     "ename": "TypeError",
     "evalue": "'str' object does not support item assignment",
     "output_type": "error",
     "traceback": [
      "\u001b[1;31m---------------------------------------------------------------------------\u001b[0m",
      "\u001b[1;31mTypeError\u001b[0m                                 Traceback (most recent call last)",
      "Cell \u001b[1;32mIn[79], line 1\u001b[0m\n\u001b[1;32m----> 1\u001b[0m s[\u001b[38;5;241m0\u001b[39m]\u001b[38;5;241m=\u001b[39m\u001b[38;5;124m'\u001b[39m\u001b[38;5;124mt\u001b[39m\u001b[38;5;124m'\u001b[39m\n",
      "\u001b[1;31mTypeError\u001b[0m: 'str' object does not support item assignment"
     ]
    }
   ],
   "source": [
    "s[0]='t'"
   ]
  },
  {
   "cell_type": "code",
   "execution_count": 80,
   "id": "3173cdbc-62c5-4805-b7f2-205e645bd99e",
   "metadata": {},
   "outputs": [
    {
     "ename": "TypeError",
     "evalue": "'str' object does not support item assignment",
     "output_type": "error",
     "traceback": [
      "\u001b[1;31m---------------------------------------------------------------------------\u001b[0m",
      "\u001b[1;31mTypeError\u001b[0m                                 Traceback (most recent call last)",
      "Cell \u001b[1;32mIn[80], line 1\u001b[0m\n\u001b[1;32m----> 1\u001b[0m s[\u001b[38;5;241m0\u001b[39m:\u001b[38;5;241m2\u001b[39m]\u001b[38;5;241m=\u001b[39m\u001b[38;5;124m'\u001b[39m\u001b[38;5;124mrd\u001b[39m\u001b[38;5;124m'\u001b[39m\n",
      "\u001b[1;31mTypeError\u001b[0m: 'str' object does not support item assignment"
     ]
    }
   ],
   "source": [
    "s[0:2]='rd'"
   ]
  },
  {
   "cell_type": "markdown",
   "id": "4009cfed-d11d-4e18-b680-ee3c836fb72d",
   "metadata": {},
   "source": [
    "# but concatenation is possible"
   ]
  },
  {
   "cell_type": "code",
   "execution_count": 82,
   "id": "52869c29-2f19-49cf-ab8d-0c4a4e090c12",
   "metadata": {},
   "outputs": [
    {
     "data": {
      "text/plain": [
       "'pt'"
      ]
     },
     "execution_count": 82,
     "metadata": {},
     "output_type": "execute_result"
    }
   ],
   "source": [
    "s[0]+'t'"
   ]
  },
  {
   "cell_type": "code",
   "execution_count": 83,
   "id": "684c3d3c-682e-4ecf-8324-6c7237dfe12f",
   "metadata": {},
   "outputs": [
    {
     "data": {
      "text/plain": [
       "'Jpy'"
      ]
     },
     "execution_count": 83,
     "metadata": {},
     "output_type": "execute_result"
    }
   ],
   "source": [
    "'J'+s[0:2]"
   ]
  },
  {
   "cell_type": "markdown",
   "id": "fe34cef8-c7fc-47ca-a89c-e1a3fdfda021",
   "metadata": {},
   "source": [
    "#----------------------------------------------------Lists----------------------------------------------------------------"
   ]
  },
  {
   "cell_type": "markdown",
   "id": "8c874d12-6a48-4dc9-898f-3009fe71d27d",
   "metadata": {},
   "source": [
    "#List can have multiple data types items\n",
    "#can be indexed, sliced\n",
    "#List is mutable,i.e, the individual elements can changed"
   ]
  },
  {
   "cell_type": "code",
   "execution_count": 1,
   "id": "bdc39a65-c120-4c62-a04f-8adbdde581b9",
   "metadata": {},
   "outputs": [
    {
     "data": {
      "text/plain": [
       "[1, 2, 3, 48943]"
      ]
     },
     "execution_count": 1,
     "metadata": {},
     "output_type": "execute_result"
    }
   ],
   "source": [
    "l=[1,2,3,48943]\n",
    "l"
   ]
  },
  {
   "cell_type": "code",
   "execution_count": 3,
   "id": "4d655f53-4ff6-4bd6-8c1f-7c3e66c71d05",
   "metadata": {},
   "outputs": [
    {
     "data": {
      "text/plain": [
       "['a', 1, 23, 'sd', -1.34]"
      ]
     },
     "execution_count": 3,
     "metadata": {},
     "output_type": "execute_result"
    }
   ],
   "source": [
    "l=['a',1,23,'sd',-1.34]\n",
    "l"
   ]
  },
  {
   "cell_type": "code",
   "execution_count": 4,
   "id": "63ac5fcf-bfd5-46e9-8b05-c8f65941dbdb",
   "metadata": {},
   "outputs": [
    {
     "data": {
      "text/plain": [
       "'a'"
      ]
     },
     "execution_count": 4,
     "metadata": {},
     "output_type": "execute_result"
    }
   ],
   "source": [
    "l[0]"
   ]
  },
  {
   "cell_type": "code",
   "execution_count": 5,
   "id": "325c6aad-902a-4311-972c-6737019807c4",
   "metadata": {},
   "outputs": [],
   "source": [
    "l[0]=45 #can change the value, mutable"
   ]
  },
  {
   "cell_type": "code",
   "execution_count": 6,
   "id": "04c75a7f-6216-407b-8693-be35bcc403b2",
   "metadata": {},
   "outputs": [
    {
     "data": {
      "text/plain": [
       "[45, 1, 23, 'sd', -1.34]"
      ]
     },
     "execution_count": 6,
     "metadata": {},
     "output_type": "execute_result"
    }
   ],
   "source": [
    "l"
   ]
  },
  {
   "cell_type": "code",
   "execution_count": 7,
   "id": "b643f1f4-a209-4b32-94af-cee5cd9913ec",
   "metadata": {},
   "outputs": [
    {
     "data": {
      "text/plain": [
       "[23, 'sd', -1.34]"
      ]
     },
     "execution_count": 7,
     "metadata": {},
     "output_type": "execute_result"
    }
   ],
   "source": [
    "l[-3:]"
   ]
  },
  {
   "cell_type": "code",
   "execution_count": 8,
   "id": "e0a67914-a574-4313-babf-eeba76af140a",
   "metadata": {},
   "outputs": [
    {
     "data": {
      "text/plain": [
       "[45, 1, 23]"
      ]
     },
     "execution_count": 8,
     "metadata": {},
     "output_type": "execute_result"
    }
   ],
   "source": [
    "l[:3]"
   ]
  },
  {
   "cell_type": "code",
   "execution_count": 11,
   "id": "e26b4c35-a4c7-4d0b-982b-3b7a479505f7",
   "metadata": {},
   "outputs": [
    {
     "name": "stdout",
     "output_type": "stream",
     "text": [
      "[1, 2, 3, 4]\n",
      "[45, 1, 23, 'sd', -1.34]\n"
     ]
    }
   ],
   "source": [
    "s=[1,2,3,4]\n",
    "print(s)\n",
    "print(l)"
   ]
  },
  {
   "cell_type": "code",
   "execution_count": 12,
   "id": "580b8de3-bb19-42bb-b6eb-72997a00952c",
   "metadata": {},
   "outputs": [
    {
     "data": {
      "text/plain": [
       "[1, 2, 3, 4, 45, 1, 23, 'sd', -1.34]"
      ]
     },
     "execution_count": 12,
     "metadata": {},
     "output_type": "execute_result"
    }
   ],
   "source": [
    "s+l #concatenation is allowed with lists"
   ]
  },
  {
   "cell_type": "markdown",
   "id": "0d904ec0-15b0-4d9c-ab90-e4d4235063f7",
   "metadata": {},
   "source": [
    "#list is growable. Items can be added at the end of the list with append function"
   ]
  },
  {
   "cell_type": "code",
   "execution_count": 14,
   "id": "78aec576-1df0-48a7-9ed5-5fb9f3b7af25",
   "metadata": {},
   "outputs": [
    {
     "data": {
      "text/plain": [
       "[45, 1, 23, 'sd', -1.34]"
      ]
     },
     "execution_count": 14,
     "metadata": {},
     "output_type": "execute_result"
    }
   ],
   "source": [
    "l"
   ]
  },
  {
   "cell_type": "code",
   "execution_count": 15,
   "id": "cdc2e19e-25a5-406e-91b6-8d8555a84942",
   "metadata": {},
   "outputs": [
    {
     "data": {
      "text/plain": [
       "[45, 1, 23, 'sd', -1.34, 456]"
      ]
     },
     "execution_count": 15,
     "metadata": {},
     "output_type": "execute_result"
    }
   ],
   "source": [
    "l.append(456)\n",
    "l"
   ]
  },
  {
   "cell_type": "markdown",
   "id": "4d41d4e5-63fa-4742-aeb0-2f12fb415da0",
   "metadata": {},
   "source": [
    "#simple assignment never copies data. when a list/variable is assigned to another variable, the variable refers to the existing list.\n",
    "#and changes will be made to the existing list"
   ]
  },
  {
   "cell_type": "code",
   "execution_count": 17,
   "id": "1fb35894-66d4-480b-8c81-5c3af08ad2ea",
   "metadata": {},
   "outputs": [
    {
     "data": {
      "text/plain": [
       "['a', 'b', 'c']"
      ]
     },
     "execution_count": 17,
     "metadata": {},
     "output_type": "execute_result"
    }
   ],
   "source": [
    "l1=['a','b','c']\n",
    "l1"
   ]
  },
  {
   "cell_type": "code",
   "execution_count": 18,
   "id": "af1a58e3-86f0-4c1d-b8ec-5b449740c89e",
   "metadata": {},
   "outputs": [
    {
     "data": {
      "text/plain": [
       "['a', 'b', 'c']"
      ]
     },
     "execution_count": 18,
     "metadata": {},
     "output_type": "execute_result"
    }
   ],
   "source": [
    "l2=l1\n",
    "l2"
   ]
  },
  {
   "cell_type": "code",
   "execution_count": 20,
   "id": "79cae572-fa14-415a-8db7-520df7581c87",
   "metadata": {},
   "outputs": [
    {
     "data": {
      "text/plain": [
       "True"
      ]
     },
     "execution_count": 20,
     "metadata": {},
     "output_type": "execute_result"
    }
   ],
   "source": [
    "id(l1)==id(l2) #checking whether the memory location addresses are same or not, will be same"
   ]
  },
  {
   "cell_type": "code",
   "execution_count": 21,
   "id": "b1271fd1-45d7-4be8-a0ed-ec2ef0597e45",
   "metadata": {},
   "outputs": [],
   "source": [
    "#try to change the values through l2, will be affected in l1"
   ]
  },
  {
   "cell_type": "code",
   "execution_count": 22,
   "id": "b459605c-e362-4b36-8ffc-50cf29cb2c20",
   "metadata": {},
   "outputs": [
    {
     "data": {
      "text/plain": [
       "['a', 'z', 'c']"
      ]
     },
     "execution_count": 22,
     "metadata": {},
     "output_type": "execute_result"
    }
   ],
   "source": [
    "l2[1]='z'\n",
    "l2"
   ]
  },
  {
   "cell_type": "code",
   "execution_count": 23,
   "id": "dce142aa-0197-457f-a80f-1bb931b04918",
   "metadata": {},
   "outputs": [
    {
     "data": {
      "text/plain": [
       "['a', 'z', 'c']"
      ]
     },
     "execution_count": 23,
     "metadata": {},
     "output_type": "execute_result"
    }
   ],
   "source": [
    "l1"
   ]
  },
  {
   "cell_type": "code",
   "execution_count": 24,
   "id": "5692ee76-dec7-44b8-b802-54c4df9343d4",
   "metadata": {},
   "outputs": [],
   "source": [
    "#both l1 and l2 are refering the same"
   ]
  },
  {
   "cell_type": "code",
   "execution_count": 26,
   "id": "4407e127-217f-417a-9516-f00024508688",
   "metadata": {},
   "outputs": [
    {
     "data": {
      "text/plain": [
       "['a', 'b', 'c', 'd', 'e']"
      ]
     },
     "execution_count": 26,
     "metadata": {},
     "output_type": "execute_result"
    }
   ],
   "source": [
    "#list values can be changed through index or even through slicing\n",
    "l=['a','b','c','d','e']\n",
    "l"
   ]
  },
  {
   "cell_type": "code",
   "execution_count": 29,
   "id": "0bee1839-d5e1-420d-84e8-928c3720e12a",
   "metadata": {},
   "outputs": [
    {
     "data": {
      "text/plain": [
       "['A', 'B', 'C', 'd', 'e']"
      ]
     },
     "execution_count": 29,
     "metadata": {},
     "output_type": "execute_result"
    }
   ],
   "source": [
    "l[2]='C'\n",
    "l"
   ]
  },
  {
   "cell_type": "code",
   "execution_count": 30,
   "id": "92e8ce23-df13-4596-8667-0d50e7c1f976",
   "metadata": {},
   "outputs": [
    {
     "data": {
      "text/plain": [
       "['A', 'B', 'C', 'd', 'e']"
      ]
     },
     "execution_count": 30,
     "metadata": {},
     "output_type": "execute_result"
    }
   ],
   "source": [
    "l[0:2]=['A','B']\n",
    "l"
   ]
  },
  {
   "cell_type": "code",
   "execution_count": 31,
   "id": "6396002d-75bd-47db-be98-2ab5f2132c66",
   "metadata": {},
   "outputs": [
    {
     "data": {
      "text/plain": [
       "[]"
      ]
     },
     "execution_count": 31,
     "metadata": {},
     "output_type": "execute_result"
    }
   ],
   "source": [
    "l[:]=[]\n",
    "l"
   ]
  },
  {
   "cell_type": "code",
   "execution_count": 32,
   "id": "0d40bd38-6562-4b68-8721-8f77bcf14ddb",
   "metadata": {},
   "outputs": [],
   "source": [
    "#nesting(list inside another list) of list is also posible\n",
    "sl1=['a','b','c']\n",
    "sl2=[1,2,3]\n",
    "l=[sl1,sl2]"
   ]
  },
  {
   "cell_type": "code",
   "execution_count": 33,
   "id": "88482ea8-70ff-429d-94f1-fc3cfd5eaf03",
   "metadata": {},
   "outputs": [
    {
     "name": "stdout",
     "output_type": "stream",
     "text": [
      "['a', 'b', 'c']\n",
      "[1, 2, 3]\n",
      "[['a', 'b', 'c'], [1, 2, 3]]\n"
     ]
    }
   ],
   "source": [
    "print(sl1)\n",
    "print(sl2)\n",
    "print(l)"
   ]
  },
  {
   "cell_type": "code",
   "execution_count": 34,
   "id": "69e98990-976e-4996-941b-3a67ef0d2895",
   "metadata": {},
   "outputs": [
    {
     "data": {
      "text/plain": [
       "['a', 'b', 'c']"
      ]
     },
     "execution_count": 34,
     "metadata": {},
     "output_type": "execute_result"
    }
   ],
   "source": [
    "l[0]"
   ]
  },
  {
   "cell_type": "code",
   "execution_count": 35,
   "id": "8b83aeee-50d2-4f85-ba29-ba53c8f93b84",
   "metadata": {},
   "outputs": [
    {
     "data": {
      "text/plain": [
       "[1, 2, 3]"
      ]
     },
     "execution_count": 35,
     "metadata": {},
     "output_type": "execute_result"
    }
   ],
   "source": [
    "l[1]"
   ]
  },
  {
   "cell_type": "code",
   "execution_count": 36,
   "id": "1f0b6d36-fe65-45c5-a46b-f03047ab1328",
   "metadata": {},
   "outputs": [
    {
     "data": {
      "text/plain": [
       "'c'"
      ]
     },
     "execution_count": 36,
     "metadata": {},
     "output_type": "execute_result"
    }
   ],
   "source": [
    "l[0][2]#accessing elements of indivual element which is list"
   ]
  },
  {
   "cell_type": "code",
   "execution_count": 42,
   "id": "e85f36d3-80e8-415d-abe8-6ac4057bf863",
   "metadata": {},
   "outputs": [
    {
     "name": "stdout",
     "output_type": "stream",
     "text": [
      "0\n",
      "a= 1 ,b= 1\n",
      "1\n",
      "a= 1 ,b= 2\n",
      "1\n",
      "a= 2 ,b= 3\n",
      "2\n",
      "a= 3 ,b= 5\n",
      "3\n",
      "a= 5 ,b= 8\n",
      "5\n",
      "a= 8 ,b= 13\n",
      "8\n",
      "a= 13 ,b= 21\n"
     ]
    }
   ],
   "source": [
    "#python can be used to perform complicated tasks..\n",
    "#consider the example of fibonacci series\n",
    "#the sum of two elements define the next\n",
    "\n",
    "\n",
    "a,b=0,1\n",
    "while a<10:\n",
    "    print(a)\n",
    "    a,b,=b,a+b\n",
    "    print('a=',a,',b=',b)\n",
    "\n",
    "#here a single assignement statement is used instead of two (a,b=0,1 is used intead of a=0 b=1)\n",
    "#same way a,b,=b,a+b is used intead of a=b b=a+b\n",
    "# right hand side of the assignment statement is evaluated first before the assignment is performed"
   ]
  },
  {
   "cell_type": "code",
   "execution_count": 1,
   "id": "d6a9e239-afdc-4e6e-b132-72c13b809384",
   "metadata": {},
   "outputs": [],
   "source": [
    "# unlike in c, the print statement uses , for concatenation (print('a=',a,',b=',b))"
   ]
  },
  {
   "cell_type": "code",
   "execution_count": 2,
   "id": "b5854503-acd2-4f95-9b7c-b42425d2cb79",
   "metadata": {},
   "outputs": [
    {
     "data": {
      "text/plain": [
       "[1, 2, 3, 4]"
      ]
     },
     "execution_count": 2,
     "metadata": {},
     "output_type": "execute_result"
    }
   ],
   "source": [
    "#for print, we can change the end line character instead of \\n,i,e - new line. We can change it to ,|....etc\n",
    "\n",
    "l=[1,2,3,4]\n",
    "l"
   ]
  },
  {
   "cell_type": "code",
   "execution_count": 6,
   "id": "52f260a4-52b7-4e39-9cdd-8e0a717601e0",
   "metadata": {},
   "outputs": [
    {
     "name": "stdout",
     "output_type": "stream",
     "text": [
      "1\n",
      "2\n",
      "3\n",
      "4\n"
     ]
    }
   ],
   "source": [
    "#normal print with end line as \\n\n",
    "i=0\n",
    "while i<len(l):\n",
    "    print(l[i])\n",
    "    i=i+1\n",
    "\n"
   ]
  },
  {
   "cell_type": "code",
   "execution_count": 8,
   "id": "c1d350d6-6511-4aaa-8a36-7e742fb288cd",
   "metadata": {},
   "outputs": [
    {
     "name": "stdout",
     "output_type": "stream",
     "text": [
      "1,2,3,4,"
     ]
    }
   ],
   "source": [
    "#print with end line as ','\n",
    "i=0\n",
    "while i<len(l):\n",
    "    print(l[i], end=',')\n",
    "    i=i+1"
   ]
  },
  {
   "cell_type": "code",
   "execution_count": null,
   "id": "cb237b61-efe9-4a84-b836-83a7bd54dc32",
   "metadata": {},
   "outputs": [],
   "source": []
  },
  {
   "cell_type": "code",
   "execution_count": null,
   "id": "34dbebcf-40bf-4921-b013-41605ebda29c",
   "metadata": {},
   "outputs": [],
   "source": []
  }
 ],
 "metadata": {
  "kernelspec": {
   "display_name": "Python 3 (ipykernel)",
   "language": "python",
   "name": "python3"
  },
  "language_info": {
   "codemirror_mode": {
    "name": "ipython",
    "version": 3
   },
   "file_extension": ".py",
   "mimetype": "text/x-python",
   "name": "python",
   "nbconvert_exporter": "python",
   "pygments_lexer": "ipython3",
   "version": "3.12.7"
  }
 },
 "nbformat": 4,
 "nbformat_minor": 5
}
