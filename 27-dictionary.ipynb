{
 "cells": [
  {
   "cell_type": "code",
   "execution_count": 3,
   "id": "9a000ebc-a938-4c26-a11a-f28884e0ff64",
   "metadata": {},
   "outputs": [
    {
     "data": {
      "text/plain": [
       "{}"
      ]
     },
     "execution_count": 3,
     "metadata": {},
     "output_type": "execute_result"
    }
   ],
   "source": [
    "#---------------------------------Dictionary-------------------------------------------------\n",
    "\n",
    "d={} #empty dictionary\n",
    "d"
   ]
  },
  {
   "cell_type": "code",
   "execution_count": 4,
   "id": "d835aa5f-5646-45a5-83ea-67dc9f6690d7",
   "metadata": {},
   "outputs": [
    {
     "data": {
      "text/plain": [
       "dict"
      ]
     },
     "execution_count": 4,
     "metadata": {},
     "output_type": "execute_result"
    }
   ],
   "source": [
    "type(d)"
   ]
  },
  {
   "cell_type": "code",
   "execution_count": 5,
   "id": "7c719950-9d1e-4735-a601-14aa5d3c1d00",
   "metadata": {},
   "outputs": [
    {
     "data": {
      "text/plain": [
       "{}"
      ]
     },
     "execution_count": 5,
     "metadata": {},
     "output_type": "execute_result"
    }
   ],
   "source": [
    "d=dict() #empty dictionary\n",
    "d"
   ]
  },
  {
   "cell_type": "code",
   "execution_count": 6,
   "id": "211c551a-ad84-4b9b-a60e-807b683ee9a0",
   "metadata": {},
   "outputs": [
    {
     "data": {
      "text/plain": [
       "dict"
      ]
     },
     "execution_count": 6,
     "metadata": {},
     "output_type": "execute_result"
    }
   ],
   "source": [
    "type(d)"
   ]
  },
  {
   "cell_type": "code",
   "execution_count": 8,
   "id": "3af12990-909e-449b-81e7-04977af75f2f",
   "metadata": {},
   "outputs": [
    {
     "data": {
      "text/plain": [
       "{1: 'one', 2: 'two', 3: 'three'}"
      ]
     },
     "execution_count": 8,
     "metadata": {},
     "output_type": "execute_result"
    }
   ],
   "source": [
    "d1={1:'one',2:'two',3:'three'}\n",
    "d1"
   ]
  },
  {
   "cell_type": "code",
   "execution_count": 9,
   "id": "6ed7683c-ae17-43cb-b8c7-579f136e7c66",
   "metadata": {},
   "outputs": [
    {
     "data": {
      "text/plain": [
       "{'a': 'letA', 'b': 'letB', 'c': 'letC'}"
      ]
     },
     "execution_count": 9,
     "metadata": {},
     "output_type": "execute_result"
    }
   ],
   "source": [
    "d2=dict({'a':'letA','b':'letB','c':'letC'})\n",
    "d2"
   ]
  },
  {
   "cell_type": "code",
   "execution_count": 12,
   "id": "517515cb-6e26-4111-802a-136802672883",
   "metadata": {},
   "outputs": [
    {
     "data": {
      "text/plain": [
       "{1: 'one', 'A': 'letA', 23.45: [23, 34, 56], ('a', 'b'): {'a', 'b', 'r'}}"
      ]
     },
     "execution_count": 12,
     "metadata": {},
     "output_type": "execute_result"
    }
   ],
   "source": [
    "d3={1:'one','A':'letA',23.45:[23,34,56],('a','b'):{'a','b','r'}} #dictionary allows keys and values are of mixed data types\n",
    "d3"
   ]
  },
  {
   "cell_type": "code",
   "execution_count": 14,
   "id": "f366b034-2fab-41b2-9e4a-4b43326b5479",
   "metadata": {},
   "outputs": [
    {
     "data": {
      "text/plain": [
       "dict_keys([1, 'A', 23.45, ('a', 'b')])"
      ]
     },
     "execution_count": 14,
     "metadata": {},
     "output_type": "execute_result"
    }
   ],
   "source": [
    "d3.keys()#returns all dictionary keys"
   ]
  },
  {
   "cell_type": "code",
   "execution_count": 16,
   "id": "3730d3c0-ca18-4a52-8f18-69eec4244245",
   "metadata": {},
   "outputs": [
    {
     "data": {
      "text/plain": [
       "dict_keys"
      ]
     },
     "execution_count": 16,
     "metadata": {},
     "output_type": "execute_result"
    }
   ],
   "source": [
    "type(d3.keys())"
   ]
  },
  {
   "cell_type": "code",
   "execution_count": 18,
   "id": "70a50a93-479d-4976-858b-a9294291b034",
   "metadata": {},
   "outputs": [
    {
     "data": {
      "text/plain": [
       "dict_values(['one', 'letA', [23, 34, 56], {'a', 'r', 'b'}])"
      ]
     },
     "execution_count": 18,
     "metadata": {},
     "output_type": "execute_result"
    }
   ],
   "source": [
    "d3.values() #returns all dictionary values"
   ]
  },
  {
   "cell_type": "code",
   "execution_count": 19,
   "id": "a8c0383f-b51e-4cfb-b1d9-cd4de4aa3dd7",
   "metadata": {},
   "outputs": [
    {
     "data": {
      "text/plain": [
       "dict_values"
      ]
     },
     "execution_count": 19,
     "metadata": {},
     "output_type": "execute_result"
    }
   ],
   "source": [
    "type(d3.values())"
   ]
  },
  {
   "cell_type": "code",
   "execution_count": 20,
   "id": "c7c3d58f-c573-48e0-9a56-65b639aac979",
   "metadata": {},
   "outputs": [
    {
     "data": {
      "text/plain": [
       "dict_items([(1, 'one'), ('A', 'letA'), (23.45, [23, 34, 56]), (('a', 'b'), {'a', 'r', 'b'})])"
      ]
     },
     "execution_count": 20,
     "metadata": {},
     "output_type": "execute_result"
    }
   ],
   "source": [
    "d3.items() #returns all dictionary items"
   ]
  },
  {
   "cell_type": "code",
   "execution_count": 2,
   "id": "94ef4006-47db-4e5b-961f-8281d90d4ceb",
   "metadata": {},
   "outputs": [
    {
     "data": {
      "text/plain": [
       "{'d': None, 'b': None, 'c': None, 'a': None}"
      ]
     },
     "execution_count": 2,
     "metadata": {},
     "output_type": "execute_result"
    }
   ],
   "source": [
    "#-------------creating dictionary from a sequence of keys - in a set\n",
    "\n",
    "keys={'a','b','c','d'} #creates a new dictionary with keys from keys set, values are not mentioned;by default considered as None\n",
    "d4=dict.fromkeys(keys)\n",
    "d4"
   ]
  },
  {
   "cell_type": "code",
   "execution_count": 8,
   "id": "01a12662-3916-43fd-b164-86123be09ea3",
   "metadata": {},
   "outputs": [
    {
     "data": {
      "text/plain": [
       "{'d': 10, 'b': 10, 'c': 10, 'a': 10}"
      ]
     },
     "execution_count": 8,
     "metadata": {},
     "output_type": "execute_result"
    }
   ],
   "source": [
    "keys={'a','b','c','d'} #creates a new dictionary with keys from keys set, all values will be assigned with value\n",
    "value=10\n",
    "d4=dict.fromkeys(keys,value)\n",
    "d4"
   ]
  },
  {
   "cell_type": "code",
   "execution_count": 9,
   "id": "51b0c099-829d-4a2f-8148-9032cc64c331",
   "metadata": {},
   "outputs": [
    {
     "data": {
      "text/plain": [
       "{'d': 10, 'b': 10, 'c': 10, 'a': 10}"
      ]
     },
     "execution_count": 9,
     "metadata": {},
     "output_type": "execute_result"
    }
   ],
   "source": [
    "value=23\n",
    "d4"
   ]
  },
  {
   "cell_type": "code",
   "execution_count": 10,
   "id": "abd4449b-e2b6-422d-a469-559abbc1d022",
   "metadata": {},
   "outputs": [
    {
     "data": {
      "text/plain": [
       "{'d': [10, 20, 30], 'b': [10, 20, 30], 'c': [10, 20, 30], 'a': [10, 20, 30]}"
      ]
     },
     "execution_count": 10,
     "metadata": {},
     "output_type": "execute_result"
    }
   ],
   "source": [
    "keys={'a','b','c','d'} #creates a new dictionary with keys from keys set, values are set to value list\n",
    "value=[10,20,30]\n",
    "d4=dict.fromkeys(keys,value)\n",
    "d4"
   ]
  },
  {
   "cell_type": "code",
   "execution_count": 11,
   "id": "46b13a30-ba82-475d-bd47-b18b29e027ed",
   "metadata": {},
   "outputs": [],
   "source": [
    "value.append(40)"
   ]
  },
  {
   "cell_type": "code",
   "execution_count": 12,
   "id": "ebe8cb1d-3a60-4ba9-90b4-2bf7becb2eb1",
   "metadata": {},
   "outputs": [
    {
     "data": {
      "text/plain": [
       "[10, 20, 30, 40]"
      ]
     },
     "execution_count": 12,
     "metadata": {},
     "output_type": "execute_result"
    }
   ],
   "source": [
    "value"
   ]
  },
  {
   "cell_type": "code",
   "execution_count": 13,
   "id": "51715f2e-697e-4794-bcbd-7053e7dddfc6",
   "metadata": {},
   "outputs": [
    {
     "data": {
      "text/plain": [
       "{'d': [10, 20, 30, 40],\n",
       " 'b': [10, 20, 30, 40],\n",
       " 'c': [10, 20, 30, 40],\n",
       " 'a': [10, 20, 30, 40]}"
      ]
     },
     "execution_count": 13,
     "metadata": {},
     "output_type": "execute_result"
    }
   ],
   "source": [
    "d4"
   ]
  },
  {
   "cell_type": "code",
   "execution_count": 14,
   "id": "4451a180-e9a3-4c10-a80f-552d8ffd8f6d",
   "metadata": {},
   "outputs": [
    {
     "name": "stdout",
     "output_type": "stream",
     "text": [
      "{'d': [10, 20, 30, 40], 'b': [10, 20, 30, 40], 'c': [10, 20, 30, 40], 'a': [10, 20, 30, 40]}\n"
     ]
    }
   ],
   "source": [
    "print(d4)"
   ]
  },
  {
   "cell_type": "code",
   "execution_count": 15,
   "id": "a49625ee-953f-4f16-89a5-18be208fda39",
   "metadata": {},
   "outputs": [
    {
     "data": {
      "text/plain": [
       "{1: 'one', 'two': 2, 1.1: 'floatvalue'}"
      ]
     },
     "execution_count": 15,
     "metadata": {},
     "output_type": "execute_result"
    }
   ],
   "source": [
    "#----------------------------------Accessing dictionary items-------------------------------------------------------------\n",
    "d={1:'one','two':2,1.1:'floatvalue'}\n",
    "d"
   ]
  },
  {
   "cell_type": "code",
   "execution_count": 16,
   "id": "b3677e25-0df4-47c8-9fd6-072d53f03e72",
   "metadata": {},
   "outputs": [
    {
     "name": "stdout",
     "output_type": "stream",
     "text": [
      "{1: 'one', 'two': 2, 1.1: 'floatvalue'}\n"
     ]
    }
   ],
   "source": [
    "print(d)"
   ]
  },
  {
   "cell_type": "code",
   "execution_count": 25,
   "id": "9f00c6dc-8a76-40a0-946b-13faef8b9fce",
   "metadata": {},
   "outputs": [
    {
     "data": {
      "text/plain": [
       "'one'"
      ]
     },
     "execution_count": 25,
     "metadata": {},
     "output_type": "execute_result"
    }
   ],
   "source": [
    "d[1]# here 1 is not index it is key; d[key]"
   ]
  },
  {
   "cell_type": "code",
   "execution_count": 19,
   "id": "5641b580-a2d1-482f-b5ed-3eac8f0e5801",
   "metadata": {},
   "outputs": [
    {
     "data": {
      "text/plain": [
       "2"
      ]
     },
     "execution_count": 19,
     "metadata": {},
     "output_type": "execute_result"
    }
   ],
   "source": [
    "d['two']"
   ]
  },
  {
   "cell_type": "code",
   "execution_count": 20,
   "id": "308e0eae-3da3-4dd2-9df1-b8eea2ea0dc9",
   "metadata": {},
   "outputs": [
    {
     "data": {
      "text/plain": [
       "'floatvalue'"
      ]
     },
     "execution_count": 20,
     "metadata": {},
     "output_type": "execute_result"
    }
   ],
   "source": [
    "d[1.1]"
   ]
  },
  {
   "cell_type": "code",
   "execution_count": 24,
   "id": "555dd1fd-7763-49e2-8008-d375b05bb96e",
   "metadata": {},
   "outputs": [
    {
     "data": {
      "text/plain": [
       "'one'"
      ]
     },
     "execution_count": 24,
     "metadata": {},
     "output_type": "execute_result"
    }
   ],
   "source": [
    "#----------get method------------\n",
    "d.get(1) #d.get(key)"
   ]
  },
  {
   "cell_type": "code",
   "execution_count": 22,
   "id": "1c5c92ff-f320-47fa-abc3-f4f31dc8c8f2",
   "metadata": {},
   "outputs": [
    {
     "data": {
      "text/plain": [
       "2"
      ]
     },
     "execution_count": 22,
     "metadata": {},
     "output_type": "execute_result"
    }
   ],
   "source": [
    "d.get('two')"
   ]
  },
  {
   "cell_type": "code",
   "execution_count": 23,
   "id": "448e7512-3e26-4a5b-bddc-cc0335814b14",
   "metadata": {},
   "outputs": [
    {
     "data": {
      "text/plain": [
       "'floatvalue'"
      ]
     },
     "execution_count": 23,
     "metadata": {},
     "output_type": "execute_result"
    }
   ],
   "source": [
    "d.get(1.1)"
   ]
  },
  {
   "cell_type": "code",
   "execution_count": 26,
   "id": "15ff2a95-bcda-49f3-a635-a1de15f9999b",
   "metadata": {},
   "outputs": [
    {
     "data": {
      "text/plain": [
       "{1: 'one', 'two': 2, 1.1: 'floatvalue'}"
      ]
     },
     "execution_count": 26,
     "metadata": {},
     "output_type": "execute_result"
    }
   ],
   "source": [
    "#--------------------------------------add/remove dictionary items------------------------------------------------------\n",
    "d"
   ]
  },
  {
   "cell_type": "code",
   "execution_count": 30,
   "id": "65a98ba0-1cc3-449b-99a2-c19e3b3c899f",
   "metadata": {},
   "outputs": [],
   "source": [
    "d[1]='changedValue' #changing the dictionary value of a particular key"
   ]
  },
  {
   "cell_type": "code",
   "execution_count": 28,
   "id": "f9d34a94-cd10-44d3-9001-70a9e376b848",
   "metadata": {},
   "outputs": [
    {
     "data": {
      "text/plain": [
       "{1: 'changedValue', 'two': 2, 1.1: 'floatvalue'}"
      ]
     },
     "execution_count": 28,
     "metadata": {},
     "output_type": "execute_result"
    }
   ],
   "source": [
    "d"
   ]
  },
  {
   "cell_type": "code",
   "execution_count": 31,
   "id": "a137fe72-b5c6-498e-8683-a4a930803ab3",
   "metadata": {},
   "outputs": [],
   "source": [
    "d1={1.1:'newValue'}\n",
    "d.update(d1)# updates the dictionary value for key with value in d1 for that key"
   ]
  },
  {
   "cell_type": "code",
   "execution_count": 32,
   "id": "f914bdae-41b2-44af-9caa-411747f4b49d",
   "metadata": {},
   "outputs": [
    {
     "data": {
      "text/plain": [
       "{1: 'changedValue', 'two': 2, 1.1: 'newValue'}"
      ]
     },
     "execution_count": 32,
     "metadata": {},
     "output_type": "execute_result"
    }
   ],
   "source": [
    "d"
   ]
  },
  {
   "cell_type": "code",
   "execution_count": 33,
   "id": "4a39446a-00e4-454a-8fe7-28ddbf0784bb",
   "metadata": {},
   "outputs": [],
   "source": [
    "d={1: 'one', 'two': 2, 1.1: 'floatvalue'}"
   ]
  },
  {
   "cell_type": "code",
   "execution_count": 34,
   "id": "cf4cc1aa-c4db-4192-89e2-a89ec097865d",
   "metadata": {},
   "outputs": [
    {
     "data": {
      "text/plain": [
       "{1: 'one', 'two': 2, 1.1: 'floatvalue'}"
      ]
     },
     "execution_count": 34,
     "metadata": {},
     "output_type": "execute_result"
    }
   ],
   "source": [
    "d"
   ]
  },
  {
   "cell_type": "code",
   "execution_count": 37,
   "id": "21fa2eb9-2438-419f-941e-8b7d0535cda0",
   "metadata": {},
   "outputs": [],
   "source": [
    "d1={1:'ONE',2:'TWO'}\n",
    "d.update(d1) #update will add all the dictionary items of d1 to d; if the keys are same, update the value in d with d1 value"
   ]
  },
  {
   "cell_type": "code",
   "execution_count": 38,
   "id": "7a167052-8711-444b-876d-231fe6687bf0",
   "metadata": {},
   "outputs": [
    {
     "data": {
      "text/plain": [
       "{1: 'ONE', 'two': 2, 1.1: 'floatvalue', 2: 'TWO'}"
      ]
     },
     "execution_count": 38,
     "metadata": {},
     "output_type": "execute_result"
    }
   ],
   "source": [
    "d"
   ]
  },
  {
   "cell_type": "code",
   "execution_count": 39,
   "id": "1cfaffc4-c977-449e-b0b3-629a3f0d12bd",
   "metadata": {},
   "outputs": [
    {
     "data": {
      "text/plain": [
       "{1: 'ONE', 'two': 2, 1.1: 'floatvalue', 2: 'TWO'}"
      ]
     },
     "execution_count": 39,
     "metadata": {},
     "output_type": "execute_result"
    }
   ],
   "source": [
    "d"
   ]
  },
  {
   "cell_type": "code",
   "execution_count": 42,
   "id": "c61efdef-d27d-49ea-b3b8-e2eb2153e22b",
   "metadata": {},
   "outputs": [],
   "source": [
    "d[3]='Three' # adding item with key"
   ]
  },
  {
   "cell_type": "code",
   "execution_count": 43,
   "id": "56784022-c2de-4ece-9854-fadb61954e64",
   "metadata": {},
   "outputs": [
    {
     "data": {
      "text/plain": [
       "{1: 'ONE', 'two': 2, 1.1: 'floatvalue', 2: 'TWO', 3: 'Three'}"
      ]
     },
     "execution_count": 43,
     "metadata": {},
     "output_type": "execute_result"
    }
   ],
   "source": [
    "d"
   ]
  },
  {
   "cell_type": "code",
   "execution_count": 45,
   "id": "d3dc88cc-f981-4e76-8d92-94214d1f3176",
   "metadata": {},
   "outputs": [
    {
     "data": {
      "text/plain": [
       "'Three'"
      ]
     },
     "execution_count": 45,
     "metadata": {},
     "output_type": "execute_result"
    }
   ],
   "source": [
    "d.pop(3) #removes item with key as 3"
   ]
  },
  {
   "cell_type": "code",
   "execution_count": 46,
   "id": "51356920-6ba2-446c-a00b-e0f1d43348e3",
   "metadata": {},
   "outputs": [
    {
     "data": {
      "text/plain": [
       "{1: 'ONE', 'two': 2, 1.1: 'floatvalue', 2: 'TWO'}"
      ]
     },
     "execution_count": 46,
     "metadata": {},
     "output_type": "execute_result"
    }
   ],
   "source": [
    "d"
   ]
  },
  {
   "cell_type": "code",
   "execution_count": 47,
   "id": "f68bc439-6cd2-4f7e-ace8-2805d2ccd4b7",
   "metadata": {},
   "outputs": [
    {
     "data": {
      "text/plain": [
       "(2, 'TWO')"
      ]
     },
     "execution_count": 47,
     "metadata": {},
     "output_type": "execute_result"
    }
   ],
   "source": [
    "d.popitem() # removes a random item"
   ]
  },
  {
   "cell_type": "code",
   "execution_count": 48,
   "id": "48722db8-e01b-40b7-a06c-fad48866ad15",
   "metadata": {},
   "outputs": [
    {
     "data": {
      "text/plain": [
       "{1: 'ONE', 'two': 2, 1.1: 'floatvalue'}"
      ]
     },
     "execution_count": 48,
     "metadata": {},
     "output_type": "execute_result"
    }
   ],
   "source": [
    "d"
   ]
  },
  {
   "cell_type": "code",
   "execution_count": 49,
   "id": "2cb02c92-4de2-4d5d-a271-4101a4ef536d",
   "metadata": {},
   "outputs": [],
   "source": [
    "del[d[1.1]] #removing item using del method"
   ]
  },
  {
   "cell_type": "code",
   "execution_count": 50,
   "id": "7d381dc5-df68-4655-9c90-20bdcc745c09",
   "metadata": {},
   "outputs": [
    {
     "data": {
      "text/plain": [
       "{1: 'ONE', 'two': 2}"
      ]
     },
     "execution_count": 50,
     "metadata": {},
     "output_type": "execute_result"
    }
   ],
   "source": [
    "d"
   ]
  },
  {
   "cell_type": "code",
   "execution_count": 51,
   "id": "7f410996-46fa-427f-847c-9e5f53a859ba",
   "metadata": {},
   "outputs": [],
   "source": [
    "d.clear() #deletes all items of the dictionary"
   ]
  },
  {
   "cell_type": "code",
   "execution_count": 52,
   "id": "c80049bf-0af8-4b11-b586-d98d0017693c",
   "metadata": {},
   "outputs": [
    {
     "data": {
      "text/plain": [
       "{}"
      ]
     },
     "execution_count": 52,
     "metadata": {},
     "output_type": "execute_result"
    }
   ],
   "source": [
    "d"
   ]
  },
  {
   "cell_type": "code",
   "execution_count": 53,
   "id": "deb2e1bc-d9f8-4b6a-950c-c1ec5143dfd3",
   "metadata": {},
   "outputs": [
    {
     "ename": "NameError",
     "evalue": "name 'd' is not defined",
     "output_type": "error",
     "traceback": [
      "\u001b[1;31m---------------------------------------------------------------------------\u001b[0m",
      "\u001b[1;31mNameError\u001b[0m                                 Traceback (most recent call last)",
      "Cell \u001b[1;32mIn[53], line 2\u001b[0m\n\u001b[0;32m      1\u001b[0m \u001b[38;5;28;01mdel\u001b[39;00m d \u001b[38;5;66;03m#deleting the dictionary object\u001b[39;00m\n\u001b[1;32m----> 2\u001b[0m d\n",
      "\u001b[1;31mNameError\u001b[0m: name 'd' is not defined"
     ]
    }
   ],
   "source": [
    "del d #deleting the dictionary object\n",
    "d"
   ]
  },
  {
   "cell_type": "code",
   "execution_count": 54,
   "id": "263a7885-02fa-494e-80af-29b633a6eaeb",
   "metadata": {},
   "outputs": [],
   "source": [
    "#------------------------------------------copying dictionary-------------------------------------------\n",
    "d={1:'ONE',2:'TWO',3:'Three',4:'Four'}\n"
   ]
  },
  {
   "cell_type": "code",
   "execution_count": 55,
   "id": "5801d19e-7a34-4a5e-b4a7-4cb2e252a15e",
   "metadata": {},
   "outputs": [
    {
     "data": {
      "text/plain": [
       "{1: 'ONE', 2: 'TWO', 3: 'Three', 4: 'Four'}"
      ]
     },
     "execution_count": 55,
     "metadata": {},
     "output_type": "execute_result"
    }
   ],
   "source": [
    "d"
   ]
  },
  {
   "cell_type": "code",
   "execution_count": 56,
   "id": "3e12e5b0-7bca-4fe6-86e5-d3bbaddf8c54",
   "metadata": {},
   "outputs": [],
   "source": [
    "d1=d #creating a new reference to d; id values will be same and changes made to the d object will be reflected in d1 also, as they points to the same"
   ]
  },
  {
   "cell_type": "code",
   "execution_count": 57,
   "id": "990b9f5e-5d14-488f-a5a6-24ef528c3da3",
   "metadata": {},
   "outputs": [
    {
     "data": {
      "text/plain": [
       "{1: 'ONE', 2: 'TWO', 3: 'Three', 4: 'Four'}"
      ]
     },
     "execution_count": 57,
     "metadata": {},
     "output_type": "execute_result"
    }
   ],
   "source": [
    "d1"
   ]
  },
  {
   "cell_type": "code",
   "execution_count": 58,
   "id": "e383d29d-6f53-44a1-b751-a8d39d206494",
   "metadata": {},
   "outputs": [
    {
     "data": {
      "text/plain": [
       "2647390179200"
      ]
     },
     "execution_count": 58,
     "metadata": {},
     "output_type": "execute_result"
    }
   ],
   "source": [
    "id(d)"
   ]
  },
  {
   "cell_type": "code",
   "execution_count": 59,
   "id": "0ba899d3-24f9-4cbc-a6df-ab84667ad65f",
   "metadata": {},
   "outputs": [
    {
     "data": {
      "text/plain": [
       "2647390179200"
      ]
     },
     "execution_count": 59,
     "metadata": {},
     "output_type": "execute_result"
    }
   ],
   "source": [
    "id(d1)"
   ]
  },
  {
   "cell_type": "code",
   "execution_count": 60,
   "id": "347d38a5-8102-47b8-adcf-833ecaeab7aa",
   "metadata": {},
   "outputs": [],
   "source": [
    "d2=d.copy() # creating a copy of d; id value will be different; changes made in d will not be reflected in d2, as they points to different"
   ]
  },
  {
   "cell_type": "code",
   "execution_count": 61,
   "id": "a2c1c738-8320-4a79-9ef1-5444d2a911d2",
   "metadata": {},
   "outputs": [
    {
     "data": {
      "text/plain": [
       "{1: 'ONE', 2: 'TWO', 3: 'Three', 4: 'Four'}"
      ]
     },
     "execution_count": 61,
     "metadata": {},
     "output_type": "execute_result"
    }
   ],
   "source": [
    "d2"
   ]
  },
  {
   "cell_type": "code",
   "execution_count": 62,
   "id": "7737e769-9fee-49bb-961c-089ddb5467b4",
   "metadata": {},
   "outputs": [],
   "source": [
    "d[5]='Five'"
   ]
  },
  {
   "cell_type": "code",
   "execution_count": 63,
   "id": "70560990-6aa5-4a19-8fbd-44d9b9155db6",
   "metadata": {},
   "outputs": [
    {
     "data": {
      "text/plain": [
       "{1: 'ONE', 2: 'TWO', 3: 'Three', 4: 'Four', 5: 'Five'}"
      ]
     },
     "execution_count": 63,
     "metadata": {},
     "output_type": "execute_result"
    }
   ],
   "source": [
    "d"
   ]
  },
  {
   "cell_type": "code",
   "execution_count": 64,
   "id": "b85df8aa-f0ce-47c2-8c58-428b4e52abf2",
   "metadata": {},
   "outputs": [
    {
     "data": {
      "text/plain": [
       "{1: 'ONE', 2: 'TWO', 3: 'Three', 4: 'Four'}"
      ]
     },
     "execution_count": 64,
     "metadata": {},
     "output_type": "execute_result"
    }
   ],
   "source": [
    "d2"
   ]
  },
  {
   "cell_type": "code",
   "execution_count": 65,
   "id": "bf4192a5-7115-4db8-b9b0-45de5a4007e0",
   "metadata": {},
   "outputs": [
    {
     "data": {
      "text/plain": [
       "({1: 'ONE', 2: 'TWO', 3: 'Three', 4: 'Four', 5: 'Five'},\n",
       " {1: 'ONE', 2: 'TWO', 3: 'Three', 4: 'Four'})"
      ]
     },
     "execution_count": 65,
     "metadata": {},
     "output_type": "execute_result"
    }
   ],
   "source": [
    "d,d2"
   ]
  },
  {
   "cell_type": "code",
   "execution_count": 66,
   "id": "175070bb-7f2c-4574-824f-2fae8aad4917",
   "metadata": {},
   "outputs": [],
   "source": [
    "#----------------------------------looping Dictionary--------------------------------------------------\n",
    "d={1:'ONE',2:'TWO',3:'Three',4:'Four'}"
   ]
  },
  {
   "cell_type": "code",
   "execution_count": 67,
   "id": "988d9c74-7c9b-4d90-a010-81dc51540576",
   "metadata": {},
   "outputs": [
    {
     "data": {
      "text/plain": [
       "{1: 'ONE', 2: 'TWO', 3: 'Three', 4: 'Four'}"
      ]
     },
     "execution_count": 67,
     "metadata": {},
     "output_type": "execute_result"
    }
   ],
   "source": [
    "d"
   ]
  },
  {
   "cell_type": "code",
   "execution_count": 69,
   "id": "b440d809-7d1a-47fa-addf-063d17c6087d",
   "metadata": {},
   "outputs": [
    {
     "name": "stdout",
     "output_type": "stream",
     "text": [
      "1\n",
      "2\n",
      "3\n",
      "4\n"
     ]
    }
   ],
   "source": [
    "for i in d:\n",
    "    print(i) #i refers to Keys"
   ]
  },
  {
   "cell_type": "code",
   "execution_count": 71,
   "id": "f53ddce5-b2a9-47cd-baec-5452a786cd62",
   "metadata": {},
   "outputs": [
    {
     "name": "stdout",
     "output_type": "stream",
     "text": [
      "1 : ONE\n",
      "2 : TWO\n",
      "3 : Three\n",
      "4 : Four\n"
     ]
    }
   ],
   "source": [
    "for i in d:\n",
    "    print(i,':',d[i]) # key, value pairs"
   ]
  },
  {
   "cell_type": "code",
   "execution_count": 72,
   "id": "2063c2ef-f5a4-4ef8-bcd8-4cdae1469aa1",
   "metadata": {},
   "outputs": [
    {
     "name": "stdout",
     "output_type": "stream",
     "text": [
      "ONE\n",
      "TWO\n",
      "Three\n",
      "Four\n"
     ]
    }
   ],
   "source": [
    "for i in d:\n",
    "    print(d[i]) # printing dictionary items"
   ]
  },
  {
   "cell_type": "code",
   "execution_count": 73,
   "id": "ce453b4c-3b11-40ea-9452-d49a6b4d5ac9",
   "metadata": {},
   "outputs": [
    {
     "name": "stdout",
     "output_type": "stream",
     "text": [
      "1\n",
      "2\n",
      "3\n",
      "4\n"
     ]
    }
   ],
   "source": [
    "for i in d.keys():\n",
    "    print(i)"
   ]
  },
  {
   "cell_type": "code",
   "execution_count": 74,
   "id": "e1a2ca27-6ff5-4591-802f-2a6be8bc93b7",
   "metadata": {},
   "outputs": [
    {
     "name": "stdout",
     "output_type": "stream",
     "text": [
      "ONE\n",
      "TWO\n",
      "Three\n",
      "Four\n"
     ]
    }
   ],
   "source": [
    "for i in d.values():\n",
    "    print(i)"
   ]
  },
  {
   "cell_type": "code",
   "execution_count": 75,
   "id": "b9cd4c34-13d2-4247-af00-1c79c4983f92",
   "metadata": {},
   "outputs": [
    {
     "data": {
      "text/plain": [
       "{1: 'ONE', 2: 'TWO', 3: 'Three', 4: 'Four'}"
      ]
     },
     "execution_count": 75,
     "metadata": {},
     "output_type": "execute_result"
    }
   ],
   "source": [
    "#-----------------------------------membership-----------------------\n",
    "d"
   ]
  },
  {
   "cell_type": "code",
   "execution_count": 78,
   "id": "8f02efc0-272c-4a2f-9491-38f5cf1e5f0a",
   "metadata": {},
   "outputs": [
    {
     "data": {
      "text/plain": [
       "True"
      ]
     },
     "execution_count": 78,
     "metadata": {},
     "output_type": "execute_result"
    }
   ],
   "source": [
    "3 in d #checks for key 3 present in dictionary"
   ]
  },
  {
   "cell_type": "code",
   "execution_count": 79,
   "id": "3cfa18d5-e11d-4157-ba95-36234cd3e6d8",
   "metadata": {},
   "outputs": [
    {
     "data": {
      "text/plain": [
       "False"
      ]
     },
     "execution_count": 79,
     "metadata": {},
     "output_type": "execute_result"
    }
   ],
   "source": [
    "'ONE' in d # works only for keys of dictionary"
   ]
  },
  {
   "cell_type": "code",
   "execution_count": 80,
   "id": "c4910b58-24ca-49d4-8a34-1ab5b962ade6",
   "metadata": {},
   "outputs": [
    {
     "data": {
      "text/plain": [
       "True"
      ]
     },
     "execution_count": 80,
     "metadata": {},
     "output_type": "execute_result"
    }
   ],
   "source": [
    "2 in d"
   ]
  },
  {
   "cell_type": "code",
   "execution_count": 81,
   "id": "dc9f39bd-d338-44d4-a516-43ed67d526ff",
   "metadata": {},
   "outputs": [
    {
     "data": {
      "text/plain": [
       "False"
      ]
     },
     "execution_count": 81,
     "metadata": {},
     "output_type": "execute_result"
    }
   ],
   "source": [
    "'TWO' in d"
   ]
  },
  {
   "cell_type": "code",
   "execution_count": 82,
   "id": "8c566573-be5f-4c77-9ed2-7ec2adb948d0",
   "metadata": {},
   "outputs": [
    {
     "data": {
      "text/plain": [
       "{1: 'ONE', 2: 'TWO', 3: 'Three', 4: 'Four'}"
      ]
     },
     "execution_count": 82,
     "metadata": {},
     "output_type": "execute_result"
    }
   ],
   "source": [
    "#------------------------------all/any-------------------------------------------\n",
    "#works on keys\n",
    "d"
   ]
  },
  {
   "cell_type": "code",
   "execution_count": 83,
   "id": "73b82169-0a89-4391-ace4-7fb08141abed",
   "metadata": {},
   "outputs": [
    {
     "data": {
      "text/plain": [
       "True"
      ]
     },
     "execution_count": 83,
     "metadata": {},
     "output_type": "execute_result"
    }
   ],
   "source": [
    "all(d)"
   ]
  },
  {
   "cell_type": "code",
   "execution_count": 84,
   "id": "d64a55d6-7356-44a4-bfda-8f536283c428",
   "metadata": {},
   "outputs": [
    {
     "data": {
      "text/plain": [
       "True"
      ]
     },
     "execution_count": 84,
     "metadata": {},
     "output_type": "execute_result"
    }
   ],
   "source": [
    "any(d)"
   ]
  },
  {
   "cell_type": "code",
   "execution_count": 85,
   "id": "8a08859f-95c0-49ea-bef3-28fcffd3c5ef",
   "metadata": {},
   "outputs": [],
   "source": [
    "d[0]='ZERO'"
   ]
  },
  {
   "cell_type": "code",
   "execution_count": 86,
   "id": "03a08648-504b-4a27-a6ca-8a36e2d6e03a",
   "metadata": {},
   "outputs": [
    {
     "data": {
      "text/plain": [
       "{1: 'ONE', 2: 'TWO', 3: 'Three', 4: 'Four', 0: 'ZERO'}"
      ]
     },
     "execution_count": 86,
     "metadata": {},
     "output_type": "execute_result"
    }
   ],
   "source": [
    "d"
   ]
  },
  {
   "cell_type": "code",
   "execution_count": 88,
   "id": "8d594a8a-3461-43d0-afdb-30af0b6b16df",
   "metadata": {},
   "outputs": [
    {
     "data": {
      "text/plain": [
       "False"
      ]
     },
     "execution_count": 88,
     "metadata": {},
     "output_type": "execute_result"
    }
   ],
   "source": [
    "all(d) #here 0 is added in key;so all returns false and any returns true"
   ]
  },
  {
   "cell_type": "code",
   "execution_count": 89,
   "id": "ee6f2a27-91e3-44a9-afcd-918dbda10b1e",
   "metadata": {},
   "outputs": [
    {
     "data": {
      "text/plain": [
       "True"
      ]
     },
     "execution_count": 89,
     "metadata": {},
     "output_type": "execute_result"
    }
   ],
   "source": [
    "any(d)"
   ]
  },
  {
   "cell_type": "code",
   "execution_count": 90,
   "id": "569ce0e9-49fa-4722-97ff-9a5ec5fb16b0",
   "metadata": {},
   "outputs": [],
   "source": [
    "d1={0:'Zero'}"
   ]
  },
  {
   "cell_type": "code",
   "execution_count": 91,
   "id": "f8287045-38eb-4c21-a927-1d7a1db1f35f",
   "metadata": {},
   "outputs": [
    {
     "data": {
      "text/plain": [
       "{0: 'Zero'}"
      ]
     },
     "execution_count": 91,
     "metadata": {},
     "output_type": "execute_result"
    }
   ],
   "source": [
    "d1"
   ]
  },
  {
   "cell_type": "code",
   "execution_count": 92,
   "id": "e862fa6c-6734-4609-9d07-277c16ca6618",
   "metadata": {},
   "outputs": [
    {
     "data": {
      "text/plain": [
       "False"
      ]
     },
     "execution_count": 92,
     "metadata": {},
     "output_type": "execute_result"
    }
   ],
   "source": [
    "any(d1)"
   ]
  }
 ],
 "metadata": {
  "kernelspec": {
   "display_name": "Python 3 (ipykernel)",
   "language": "python",
   "name": "python3"
  },
  "language_info": {
   "codemirror_mode": {
    "name": "ipython",
    "version": 3
   },
   "file_extension": ".py",
   "mimetype": "text/x-python",
   "name": "python",
   "nbconvert_exporter": "python",
   "pygments_lexer": "ipython3",
   "version": "3.12.7"
  }
 },
 "nbformat": 4,
 "nbformat_minor": 5
}
