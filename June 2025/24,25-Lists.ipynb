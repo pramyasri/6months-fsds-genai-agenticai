{
 "cells": [
  {
   "cell_type": "code",
   "execution_count": 1,
   "id": "216bd087-ce95-4ca4-96a1-7d1680915457",
   "metadata": {},
   "outputs": [
    {
     "data": {
      "text/plain": [
       "[]"
      ]
     },
     "execution_count": 1,
     "metadata": {},
     "output_type": "execute_result"
    }
   ],
   "source": [
    "#Lists---------------------------------------------------------------------------\n",
    "\n",
    "l=[] #for list, we use []\n",
    "l"
   ]
  },
  {
   "cell_type": "code",
   "execution_count": 2,
   "id": "d54f2b9a-62b5-4f4b-bcae-40952252fa44",
   "metadata": {},
   "outputs": [
    {
     "data": {
      "text/plain": [
       "list"
      ]
     },
     "execution_count": 2,
     "metadata": {},
     "output_type": "execute_result"
    }
   ],
   "source": [
    "type(l)"
   ]
  },
  {
   "cell_type": "code",
   "execution_count": 3,
   "id": "669e29fb-a850-4c77-90d0-5c449e36e374",
   "metadata": {},
   "outputs": [
    {
     "name": "stdout",
     "output_type": "stream",
     "text": [
      "<class 'list'>\n"
     ]
    }
   ],
   "source": [
    "print(type(l))"
   ]
  },
  {
   "cell_type": "code",
   "execution_count": 18,
   "id": "acf4b856-f7b7-4cf0-ba0e-43528ca536eb",
   "metadata": {},
   "outputs": [],
   "source": [
    "l=[23,12,34]"
   ]
  },
  {
   "cell_type": "code",
   "execution_count": 19,
   "id": "4671ef59-0096-4730-ad77-b57050a23416",
   "metadata": {},
   "outputs": [
    {
     "data": {
      "text/plain": [
       "[23, 12, 34, (1+2j)]"
      ]
     },
     "execution_count": 19,
     "metadata": {},
     "output_type": "execute_result"
    }
   ],
   "source": [
    "l"
   ]
  },
  {
   "cell_type": "code",
   "execution_count": 6,
   "id": "bae6ae90-a4b4-4d27-9561-ad87cf292fca",
   "metadata": {},
   "outputs": [
    {
     "data": {
      "text/plain": [
       "23"
      ]
     },
     "execution_count": 6,
     "metadata": {},
     "output_type": "execute_result"
    }
   ],
   "source": [
    "l[0] #forward indexing"
   ]
  },
  {
   "cell_type": "code",
   "execution_count": 7,
   "id": "6a38208e-c92d-452b-8f3c-2735f00e9218",
   "metadata": {},
   "outputs": [
    {
     "ename": "IndexError",
     "evalue": "list index out of range",
     "output_type": "error",
     "traceback": [
      "\u001b[1;31m---------------------------------------------------------------------------\u001b[0m",
      "\u001b[1;31mIndexError\u001b[0m                                Traceback (most recent call last)",
      "Cell \u001b[1;32mIn[7], line 1\u001b[0m\n\u001b[1;32m----> 1\u001b[0m l[\u001b[38;5;241m5\u001b[39m]\n",
      "\u001b[1;31mIndexError\u001b[0m: list index out of range"
     ]
    }
   ],
   "source": [
    "l[5]"
   ]
  },
  {
   "cell_type": "code",
   "execution_count": 8,
   "id": "ef036807-b967-4d4f-85af-57a8fc0a9793",
   "metadata": {},
   "outputs": [
    {
     "ename": "IndexError",
     "evalue": "list index out of range",
     "output_type": "error",
     "traceback": [
      "\u001b[1;31m---------------------------------------------------------------------------\u001b[0m",
      "\u001b[1;31mIndexError\u001b[0m                                Traceback (most recent call last)",
      "Cell \u001b[1;32mIn[8], line 1\u001b[0m\n\u001b[1;32m----> 1\u001b[0m l[\u001b[38;5;241m3\u001b[39m]\n",
      "\u001b[1;31mIndexError\u001b[0m: list index out of range"
     ]
    }
   ],
   "source": [
    "l[3]"
   ]
  },
  {
   "cell_type": "code",
   "execution_count": 9,
   "id": "524f2d99-bf0b-4749-b4ab-3248dad770c1",
   "metadata": {},
   "outputs": [
    {
     "data": {
      "text/plain": [
       "34"
      ]
     },
     "execution_count": 9,
     "metadata": {},
     "output_type": "execute_result"
    }
   ],
   "source": [
    "l[2]"
   ]
  },
  {
   "cell_type": "code",
   "execution_count": 11,
   "id": "51f07fc9-0595-4dfd-b7b9-7dabbad941cd",
   "metadata": {},
   "outputs": [
    {
     "data": {
      "text/plain": [
       "34"
      ]
     },
     "execution_count": 11,
     "metadata": {},
     "output_type": "execute_result"
    }
   ],
   "source": [
    "l[-1]#backward indexng -starts from -1"
   ]
  },
  {
   "cell_type": "code",
   "execution_count": 12,
   "id": "fb299c24-ec51-4c4d-b56c-9d5783abe3fb",
   "metadata": {},
   "outputs": [
    {
     "data": {
      "text/plain": [
       "12"
      ]
     },
     "execution_count": 12,
     "metadata": {},
     "output_type": "execute_result"
    }
   ],
   "source": [
    "l[-2]"
   ]
  },
  {
   "cell_type": "code",
   "execution_count": 13,
   "id": "9a600d2c-9975-4563-b789-4281a4014a5a",
   "metadata": {},
   "outputs": [
    {
     "data": {
      "text/plain": [
       "[23, 12, 34]"
      ]
     },
     "execution_count": 13,
     "metadata": {},
     "output_type": "execute_result"
    }
   ],
   "source": [
    "l"
   ]
  },
  {
   "cell_type": "code",
   "execution_count": 16,
   "id": "a60202ef-e16f-463f-bced-569b76202f1f",
   "metadata": {},
   "outputs": [],
   "source": [
    "l[0]=10 # values are mutable"
   ]
  },
  {
   "cell_type": "code",
   "execution_count": 15,
   "id": "f70fd338-ae55-4ff7-8cb4-018f76613c7b",
   "metadata": {},
   "outputs": [
    {
     "data": {
      "text/plain": [
       "[10, 12, 34]"
      ]
     },
     "execution_count": 15,
     "metadata": {},
     "output_type": "execute_result"
    }
   ],
   "source": [
    "l"
   ]
  },
  {
   "cell_type": "code",
   "execution_count": 20,
   "id": "9d6a31d3-85b1-4791-84ad-86fcd81eb260",
   "metadata": {},
   "outputs": [],
   "source": [
    "l=[12,34,34.45,'str',[0,1,2,3],1+2j] # list can have values of different data types, including nested lists"
   ]
  },
  {
   "cell_type": "code",
   "execution_count": 21,
   "id": "bb8480c9-d0ed-4b7d-9b4a-6e1494f366ca",
   "metadata": {},
   "outputs": [
    {
     "data": {
      "text/plain": [
       "3"
      ]
     },
     "execution_count": 21,
     "metadata": {},
     "output_type": "execute_result"
    }
   ],
   "source": [
    "l[4][3] #accessing the nested list elements"
   ]
  },
  {
   "cell_type": "code",
   "execution_count": 22,
   "id": "16fea128-5d1d-44d3-a1db-a4fe2abc98e2",
   "metadata": {},
   "outputs": [
    {
     "data": {
      "text/plain": [
       "[12, 34, 34.45, 'str', [0, 1, 2, 3], (1+2j)]"
      ]
     },
     "execution_count": 22,
     "metadata": {},
     "output_type": "execute_result"
    }
   ],
   "source": [
    "l"
   ]
  },
  {
   "cell_type": "code",
   "execution_count": 24,
   "id": "50d465b4-38ef-4b46-91d8-f9a3c8036092",
   "metadata": {},
   "outputs": [
    {
     "data": {
      "text/plain": [
       "5"
      ]
     },
     "execution_count": 24,
     "metadata": {},
     "output_type": "execute_result"
    }
   ],
   "source": [
    "len(l) # length of list"
   ]
  },
  {
   "cell_type": "code",
   "execution_count": 29,
   "id": "6616eeb9-cc73-419f-b953-8a3ffda0fe36",
   "metadata": {},
   "outputs": [],
   "source": [
    "#list functions------------------------------------------------------------------"
   ]
  },
  {
   "cell_type": "code",
   "execution_count": 23,
   "id": "e492fb89-2f52-4852-bf27-a246a79a6bfd",
   "metadata": {},
   "outputs": [
    {
     "data": {
      "text/plain": [
       "[12, 34, 34.45, 'str', [0, 1, 2, 3], (1+2j)]"
      ]
     },
     "execution_count": 23,
     "metadata": {},
     "output_type": "execute_result"
    }
   ],
   "source": [
    "l"
   ]
  },
  {
   "cell_type": "code",
   "execution_count": 82,
   "id": "ecb0b2dc-c7f0-47b3-9a11-a2eec4bb9215",
   "metadata": {},
   "outputs": [],
   "source": [
    "l=[12,34,56,23,1]"
   ]
  },
  {
   "cell_type": "code",
   "execution_count": 83,
   "id": "df3aec24-45fc-46aa-9fb9-fdd555c6704c",
   "metadata": {},
   "outputs": [
    {
     "data": {
      "text/plain": [
       "[12, 34, 56, 23, 1]"
      ]
     },
     "execution_count": 83,
     "metadata": {},
     "output_type": "execute_result"
    }
   ],
   "source": [
    "l"
   ]
  },
  {
   "cell_type": "code",
   "execution_count": 84,
   "id": "21051ed1-faf1-4d1f-afc3-7418d1d27231",
   "metadata": {},
   "outputs": [
    {
     "data": {
      "text/plain": [
       "1"
      ]
     },
     "execution_count": 84,
     "metadata": {},
     "output_type": "execute_result"
    }
   ],
   "source": [
    "l.pop() #removes at a specified index, by default last element"
   ]
  },
  {
   "cell_type": "code",
   "execution_count": 85,
   "id": "e9b967ac-41e0-4d5a-8c63-b06a3ace5d66",
   "metadata": {},
   "outputs": [
    {
     "data": {
      "text/plain": [
       "[12, 34, 56, 23]"
      ]
     },
     "execution_count": 85,
     "metadata": {},
     "output_type": "execute_result"
    }
   ],
   "source": [
    "l"
   ]
  },
  {
   "cell_type": "code",
   "execution_count": 86,
   "id": "03fccd60-023b-4391-b328-731a6f70e011",
   "metadata": {},
   "outputs": [
    {
     "data": {
      "text/plain": [
       "56"
      ]
     },
     "execution_count": 86,
     "metadata": {},
     "output_type": "execute_result"
    }
   ],
   "source": [
    "l.pop(2)"
   ]
  },
  {
   "cell_type": "code",
   "execution_count": 87,
   "id": "7fb30ce9-7e98-431a-ad8a-edced0a15244",
   "metadata": {},
   "outputs": [
    {
     "data": {
      "text/plain": [
       "[12, 34, 23]"
      ]
     },
     "execution_count": 87,
     "metadata": {},
     "output_type": "execute_result"
    }
   ],
   "source": [
    "l"
   ]
  },
  {
   "cell_type": "code",
   "execution_count": 88,
   "id": "d66b19bc-6f81-422d-91c7-1b9e1942c012",
   "metadata": {},
   "outputs": [],
   "source": [
    "l.remove(34)#removes the first occurance of value, will not return the removed value like pop"
   ]
  },
  {
   "cell_type": "code",
   "execution_count": 89,
   "id": "0d8df32e-1b37-4003-9909-9c33deb54fd2",
   "metadata": {},
   "outputs": [
    {
     "data": {
      "text/plain": [
       "[12, 23]"
      ]
     },
     "execution_count": 89,
     "metadata": {},
     "output_type": "execute_result"
    }
   ],
   "source": [
    "l"
   ]
  },
  {
   "cell_type": "code",
   "execution_count": 90,
   "id": "e7ab64d0-6021-4e4e-851a-3693778a615b",
   "metadata": {},
   "outputs": [],
   "source": [
    "l.append(34)# adds elements at the end of list"
   ]
  },
  {
   "cell_type": "code",
   "execution_count": 91,
   "id": "689d6568-905e-45bc-b45b-4cd85981f79e",
   "metadata": {},
   "outputs": [
    {
     "data": {
      "text/plain": [
       "[12, 23, 34]"
      ]
     },
     "execution_count": 91,
     "metadata": {},
     "output_type": "execute_result"
    }
   ],
   "source": [
    "l"
   ]
  },
  {
   "cell_type": "code",
   "execution_count": 92,
   "id": "27c32511-e678-44b5-8077-5e5a6621c227",
   "metadata": {},
   "outputs": [],
   "source": [
    "l.append(34) #list allows duplicates"
   ]
  },
  {
   "cell_type": "code",
   "execution_count": 93,
   "id": "57089457-9c42-4244-9320-dd1922406952",
   "metadata": {},
   "outputs": [
    {
     "data": {
      "text/plain": [
       "[12, 23, 34, 34]"
      ]
     },
     "execution_count": 93,
     "metadata": {},
     "output_type": "execute_result"
    }
   ],
   "source": [
    "l"
   ]
  },
  {
   "cell_type": "code",
   "execution_count": 94,
   "id": "b4e2b9d9-b919-400c-b087-c598b0d96a31",
   "metadata": {},
   "outputs": [],
   "source": [
    "l1=[1,2]"
   ]
  },
  {
   "cell_type": "code",
   "execution_count": 95,
   "id": "a40e986c-0187-4b94-b68c-d529f463a446",
   "metadata": {},
   "outputs": [],
   "source": [
    "l.append(l1)"
   ]
  },
  {
   "cell_type": "code",
   "execution_count": 96,
   "id": "e073b880-31b5-4058-a18b-eb9db14e97d9",
   "metadata": {},
   "outputs": [
    {
     "data": {
      "text/plain": [
       "[12, 23, 34, 34, [1, 2]]"
      ]
     },
     "execution_count": 96,
     "metadata": {},
     "output_type": "execute_result"
    }
   ],
   "source": [
    "l"
   ]
  },
  {
   "cell_type": "code",
   "execution_count": 101,
   "id": "68d39feb-2f65-44bf-abe1-e8bc293f2376",
   "metadata": {},
   "outputs": [
    {
     "data": {
      "text/plain": [
       "[12, 34, 56, 23, 1]"
      ]
     },
     "execution_count": 101,
     "metadata": {},
     "output_type": "execute_result"
    }
   ],
   "source": [
    "l=[12,34,56,23,1]\n",
    "l"
   ]
  },
  {
   "cell_type": "code",
   "execution_count": 102,
   "id": "d72fece6-1e7a-4541-98d4-d75b6eb2a614",
   "metadata": {},
   "outputs": [],
   "source": [
    "l.insert(2,567) #inserts the value before the specified index, i.e, 567 will be added before 34, so that after insertion, 567 will be at 2nd index"
   ]
  },
  {
   "cell_type": "code",
   "execution_count": 103,
   "id": "a604806f-99ba-4b42-ad18-6b38f1fb22e5",
   "metadata": {},
   "outputs": [
    {
     "data": {
      "text/plain": [
       "[12, 34, 567, 56, 23, 1]"
      ]
     },
     "execution_count": 103,
     "metadata": {},
     "output_type": "execute_result"
    }
   ],
   "source": [
    "l"
   ]
  },
  {
   "cell_type": "code",
   "execution_count": 106,
   "id": "3544ea7b-4620-41c5-9b9c-dc85df7ca2b0",
   "metadata": {},
   "outputs": [],
   "source": [
    "l.clear() # Deletes all elements from the list, list becomes empty"
   ]
  },
  {
   "cell_type": "code",
   "execution_count": 107,
   "id": "02a901ba-c921-4970-bd57-252381af3992",
   "metadata": {},
   "outputs": [
    {
     "data": {
      "text/plain": [
       "[]"
      ]
     },
     "execution_count": 107,
     "metadata": {},
     "output_type": "execute_result"
    }
   ],
   "source": [
    "l"
   ]
  },
  {
   "cell_type": "code",
   "execution_count": 117,
   "id": "b10687b3-aa1e-4c1f-ac96-ef1378c5b247",
   "metadata": {},
   "outputs": [
    {
     "data": {
      "text/plain": [
       "[12, 34, 56, 23, 1]"
      ]
     },
     "execution_count": 117,
     "metadata": {},
     "output_type": "execute_result"
    }
   ],
   "source": [
    "l=[12,34,56,23,1]\n",
    "l"
   ]
  },
  {
   "cell_type": "code",
   "execution_count": 118,
   "id": "7ed2c032-39c6-462d-bf03-46836106b1d4",
   "metadata": {},
   "outputs": [],
   "source": [
    "l1=l #creates a new reference to l, but both points to same list; changes done through one reference, will be reflected in other reference also."
   ]
  },
  {
   "cell_type": "code",
   "execution_count": 119,
   "id": "a15701cc-af2b-4278-a22f-f6d9e9f6ac89",
   "metadata": {},
   "outputs": [
    {
     "data": {
      "text/plain": [
       "[12, 34, 56, 23, 1]"
      ]
     },
     "execution_count": 119,
     "metadata": {},
     "output_type": "execute_result"
    }
   ],
   "source": [
    "l1"
   ]
  },
  {
   "cell_type": "code",
   "execution_count": 120,
   "id": "6867962f-24d4-4b2e-9f97-43261ba82649",
   "metadata": {},
   "outputs": [
    {
     "name": "stdout",
     "output_type": "stream",
     "text": [
      "1573154672064\n",
      "1573154672064\n"
     ]
    }
   ],
   "source": [
    "print(id(l))\n",
    "print(id(l1))"
   ]
  },
  {
   "cell_type": "code",
   "execution_count": 121,
   "id": "5afe02b4-5395-4e41-a65d-8328a93b818c",
   "metadata": {},
   "outputs": [],
   "source": [
    "l2=l.copy() #creates a copy of list object; both will points to two different list objects; id will be different"
   ]
  },
  {
   "cell_type": "code",
   "execution_count": 122,
   "id": "64b73c2f-1313-4fa6-9731-e7845965ddcd",
   "metadata": {},
   "outputs": [
    {
     "data": {
      "text/plain": [
       "[12, 34, 56, 23, 1]"
      ]
     },
     "execution_count": 122,
     "metadata": {},
     "output_type": "execute_result"
    }
   ],
   "source": [
    "l2"
   ]
  },
  {
   "cell_type": "code",
   "execution_count": 123,
   "id": "4c4a6fc6-f568-4dd9-bc0e-f4ab1c9dcc86",
   "metadata": {},
   "outputs": [
    {
     "name": "stdout",
     "output_type": "stream",
     "text": [
      "1573154672064\n",
      "1573156496576\n"
     ]
    }
   ],
   "source": [
    "print(id(l))\n",
    "print(id(l2))"
   ]
  },
  {
   "cell_type": "code",
   "execution_count": 124,
   "id": "5be8d149-b903-431c-af91-65609a1f76a3",
   "metadata": {},
   "outputs": [],
   "source": [
    "l[0]=789 #changes made in original list will not be applicable in copied list"
   ]
  },
  {
   "cell_type": "code",
   "execution_count": 126,
   "id": "d73e7d4a-4876-40f8-ac10-fbccbacee92e",
   "metadata": {},
   "outputs": [
    {
     "name": "stdout",
     "output_type": "stream",
     "text": [
      "[789, 34, 56, 23, 1]\n",
      "[12, 34, 56, 23, 1]\n"
     ]
    }
   ],
   "source": [
    "print(l)\n",
    "print(l2)"
   ]
  },
  {
   "cell_type": "code",
   "execution_count": 138,
   "id": "a86f9127-7e70-44fb-9be1-687a2e312a2e",
   "metadata": {},
   "outputs": [
    {
     "data": {
      "text/plain": [
       "[10, 20, 30, 40, 50, 60]"
      ]
     },
     "execution_count": 138,
     "metadata": {},
     "output_type": "execute_result"
    }
   ],
   "source": [
    "l=[10,20,30,40,50,60]\n",
    "l"
   ]
  },
  {
   "cell_type": "code",
   "execution_count": 139,
   "id": "971c253d-2c0c-42ed-a15c-06950c090fd0",
   "metadata": {},
   "outputs": [],
   "source": [
    "l.append(10)"
   ]
  },
  {
   "cell_type": "code",
   "execution_count": 129,
   "id": "20c75184-05d1-429c-922b-91f3b0759e3f",
   "metadata": {},
   "outputs": [
    {
     "data": {
      "text/plain": [
       "[10, 20, 30, 40, 50, 60, 10]"
      ]
     },
     "execution_count": 129,
     "metadata": {},
     "output_type": "execute_result"
    }
   ],
   "source": [
    "l"
   ]
  },
  {
   "cell_type": "code",
   "execution_count": 140,
   "id": "27006d13-9aa8-45da-af14-22c137a3b921",
   "metadata": {},
   "outputs": [],
   "source": [
    "l.append(20)"
   ]
  },
  {
   "cell_type": "code",
   "execution_count": 141,
   "id": "ccc15d7c-f66e-4bdd-8240-019be2a222b9",
   "metadata": {},
   "outputs": [],
   "source": [
    "l.insert(3,30)"
   ]
  },
  {
   "cell_type": "code",
   "execution_count": 134,
   "id": "03b7dcd5-fda3-49c9-afee-b9ee043e38eb",
   "metadata": {},
   "outputs": [
    {
     "data": {
      "text/plain": [
       "[10, 20, 30, 30, 40, 50, 60, 10, 20, 3]"
      ]
     },
     "execution_count": 134,
     "metadata": {},
     "output_type": "execute_result"
    }
   ],
   "source": [
    "l"
   ]
  },
  {
   "cell_type": "code",
   "execution_count": 142,
   "id": "c4e64397-7773-4e48-9bef-294e9dea5d84",
   "metadata": {},
   "outputs": [],
   "source": [
    "l.insert(100,4) #not giving error, instead it is inserting at the end"
   ]
  },
  {
   "cell_type": "code",
   "execution_count": 143,
   "id": "67aa4ce2-dadc-4c19-9935-bf0aea4746b4",
   "metadata": {},
   "outputs": [
    {
     "data": {
      "text/plain": [
       "[10, 20, 30, 30, 40, 50, 60, 10, 20, 4]"
      ]
     },
     "execution_count": 143,
     "metadata": {},
     "output_type": "execute_result"
    }
   ],
   "source": [
    "l"
   ]
  },
  {
   "cell_type": "code",
   "execution_count": 145,
   "id": "b059b5bf-895a-4b23-ae16-f205c0aad2dc",
   "metadata": {},
   "outputs": [
    {
     "data": {
      "text/plain": [
       "2"
      ]
     },
     "execution_count": 145,
     "metadata": {},
     "output_type": "execute_result"
    }
   ],
   "source": [
    "l.count(10) # gives the number of times a value is repeated"
   ]
  },
  {
   "cell_type": "code",
   "execution_count": 146,
   "id": "52d77aaa-fb30-4612-bf0b-87325bb06ffa",
   "metadata": {},
   "outputs": [],
   "source": [
    "l.remove(30)"
   ]
  },
  {
   "cell_type": "code",
   "execution_count": 147,
   "id": "f85c81b4-0254-4a8b-bef2-1cfabfbd54d7",
   "metadata": {},
   "outputs": [
    {
     "data": {
      "text/plain": [
       "[10, 20, 30, 40, 50, 60, 10, 20, 4]"
      ]
     },
     "execution_count": 147,
     "metadata": {},
     "output_type": "execute_result"
    }
   ],
   "source": [
    "l"
   ]
  },
  {
   "cell_type": "code",
   "execution_count": 148,
   "id": "6b5b6922-c09c-4ef3-8953-cc069c07f050",
   "metadata": {},
   "outputs": [
    {
     "data": {
      "text/plain": [
       "1"
      ]
     },
     "execution_count": 148,
     "metadata": {},
     "output_type": "execute_result"
    }
   ],
   "source": [
    "l.count(30)"
   ]
  },
  {
   "cell_type": "code",
   "execution_count": 149,
   "id": "df6081bc-0bbd-4c42-8c2e-c97003a53201",
   "metadata": {},
   "outputs": [],
   "source": [
    "l.remove(30)"
   ]
  },
  {
   "cell_type": "code",
   "execution_count": 150,
   "id": "bc8f504e-28c4-42f6-bc17-c091707fe221",
   "metadata": {},
   "outputs": [
    {
     "data": {
      "text/plain": [
       "[10, 20, 40, 50, 60, 10, 20, 4]"
      ]
     },
     "execution_count": 150,
     "metadata": {},
     "output_type": "execute_result"
    }
   ],
   "source": [
    "l"
   ]
  },
  {
   "cell_type": "code",
   "execution_count": 151,
   "id": "b1e295b7-670e-4f4b-94ef-087f877be69f",
   "metadata": {},
   "outputs": [
    {
     "data": {
      "text/plain": [
       "0"
      ]
     },
     "execution_count": 151,
     "metadata": {},
     "output_type": "execute_result"
    }
   ],
   "source": [
    "l.count(30)"
   ]
  },
  {
   "cell_type": "code",
   "execution_count": 7,
   "id": "2c7b4434-4d2d-4896-a3ce-40c839a98f31",
   "metadata": {},
   "outputs": [
    {
     "data": {
      "text/plain": [
       "[1, 2, 3, 4, 5, 1, 2, 1, 1, 2]"
      ]
     },
     "execution_count": 7,
     "metadata": {},
     "output_type": "execute_result"
    }
   ],
   "source": [
    "#------------index---------------------------------\n",
    "l=[1,2,3,4,5,1,2,1,1,2]\n",
    "l"
   ]
  },
  {
   "cell_type": "code",
   "execution_count": 8,
   "id": "c8d539d8-e137-4585-bfdc-e4fd06c80bee",
   "metadata": {},
   "outputs": [
    {
     "data": {
      "text/plain": [
       "4"
      ]
     },
     "execution_count": 8,
     "metadata": {},
     "output_type": "execute_result"
    }
   ],
   "source": [
    "l.index(5) #gives the index of a particular value, present in list;gives error, if value is not present"
   ]
  },
  {
   "cell_type": "code",
   "execution_count": 10,
   "id": "1d66588c-6979-4e17-9f5f-51c970183910",
   "metadata": {},
   "outputs": [
    {
     "data": {
      "text/plain": [
       "0"
      ]
     },
     "execution_count": 10,
     "metadata": {},
     "output_type": "execute_result"
    }
   ],
   "source": [
    "l.index(1) #gives the first occurance index"
   ]
  },
  {
   "cell_type": "code",
   "execution_count": 170,
   "id": "c9cb5e26-e8af-4f7b-9da7-1079eb700b69",
   "metadata": {},
   "outputs": [
    {
     "data": {
      "text/plain": [
       "[10, 20, 20, 30, 40, 50]"
      ]
     },
     "execution_count": 170,
     "metadata": {},
     "output_type": "execute_result"
    }
   ],
   "source": [
    "#-----------------------------slicing----------------------------------------\n",
    "l=[10,20,20,30,40,50]\n",
    "l"
   ]
  },
  {
   "cell_type": "code",
   "execution_count": 171,
   "id": "7dbddf9a-a6a3-4af6-8d97-2a3213a5afc1",
   "metadata": {},
   "outputs": [
    {
     "data": {
      "text/plain": [
       "[10, 20, 20, 30, 40, 50]"
      ]
     },
     "execution_count": 171,
     "metadata": {},
     "output_type": "execute_result"
    }
   ],
   "source": [
    "l[::]"
   ]
  },
  {
   "cell_type": "code",
   "execution_count": 172,
   "id": "ee8c4810-d237-495c-a0a7-6685c3a703ce",
   "metadata": {},
   "outputs": [
    {
     "data": {
      "text/plain": [
       "[10, 20, 20, 30, 40, 50]"
      ]
     },
     "execution_count": 172,
     "metadata": {},
     "output_type": "execute_result"
    }
   ],
   "source": [
    "l[:]"
   ]
  },
  {
   "cell_type": "code",
   "execution_count": 173,
   "id": "3ccd93c3-4c93-41c3-895c-59fe1b3ee992",
   "metadata": {},
   "outputs": [
    {
     "data": {
      "text/plain": [
       "[10, 20, 20, 30, 40, 50]"
      ]
     },
     "execution_count": 173,
     "metadata": {},
     "output_type": "execute_result"
    }
   ],
   "source": [
    "l[0:]"
   ]
  },
  {
   "cell_type": "code",
   "execution_count": 174,
   "id": "03c23dbf-291b-45af-a6b1-85fad7cfaf6c",
   "metadata": {},
   "outputs": [
    {
     "data": {
      "text/plain": [
       "[10, 20, 20, 30, 40, 50]"
      ]
     },
     "execution_count": 174,
     "metadata": {},
     "output_type": "execute_result"
    }
   ],
   "source": [
    "l[-6:]"
   ]
  },
  {
   "cell_type": "code",
   "execution_count": 175,
   "id": "3aa807fc-aee4-4376-977a-da87623abbe9",
   "metadata": {},
   "outputs": [
    {
     "data": {
      "text/plain": [
       "[20, 30, 40, 50]"
      ]
     },
     "execution_count": 175,
     "metadata": {},
     "output_type": "execute_result"
    }
   ],
   "source": [
    "l[2:]"
   ]
  },
  {
   "cell_type": "code",
   "execution_count": 176,
   "id": "98dd5dfa-796e-49dc-a02a-6fd93e0c3947",
   "metadata": {},
   "outputs": [
    {
     "data": {
      "text/plain": [
       "[20, 30, 40, 50]"
      ]
     },
     "execution_count": 176,
     "metadata": {},
     "output_type": "execute_result"
    }
   ],
   "source": [
    "l[-4:]"
   ]
  },
  {
   "cell_type": "code",
   "execution_count": 177,
   "id": "12ad0b7d-93ce-4845-a699-75ceec7865d9",
   "metadata": {},
   "outputs": [
    {
     "data": {
      "text/plain": [
       "[10, 20, 20, 30]"
      ]
     },
     "execution_count": 177,
     "metadata": {},
     "output_type": "execute_result"
    }
   ],
   "source": [
    "l[0:4]"
   ]
  },
  {
   "cell_type": "code",
   "execution_count": 178,
   "id": "9de1ff0f-78d2-4cf0-892b-16ea47834edf",
   "metadata": {},
   "outputs": [
    {
     "data": {
      "text/plain": [
       "[10, 20]"
      ]
     },
     "execution_count": 178,
     "metadata": {},
     "output_type": "execute_result"
    }
   ],
   "source": [
    "l[0:4:2] #start:stop:step-count"
   ]
  },
  {
   "cell_type": "code",
   "execution_count": 179,
   "id": "d2f8ac75-902e-473e-aa62-2c5130ff73f3",
   "metadata": {},
   "outputs": [
    {
     "data": {
      "text/plain": [
       "[10, 20, 20, 30, 40, 50]"
      ]
     },
     "execution_count": 179,
     "metadata": {},
     "output_type": "execute_result"
    }
   ],
   "source": [
    "#deleting a list----------------------------------------------------------------\n",
    "l"
   ]
  },
  {
   "cell_type": "code",
   "execution_count": 180,
   "id": "77eaabd3-1866-40ba-8401-e28dfbdc02cb",
   "metadata": {},
   "outputs": [],
   "source": [
    "del l[2]"
   ]
  },
  {
   "cell_type": "code",
   "execution_count": 181,
   "id": "4a9f5e90-a7a3-4249-b126-9572f0731f77",
   "metadata": {},
   "outputs": [
    {
     "data": {
      "text/plain": [
       "[10, 20, 30, 40, 50]"
      ]
     },
     "execution_count": 181,
     "metadata": {},
     "output_type": "execute_result"
    }
   ],
   "source": [
    "l"
   ]
  },
  {
   "cell_type": "code",
   "execution_count": 182,
   "id": "91d67c91-4c5a-4ddf-bd8e-612a03615ef7",
   "metadata": {},
   "outputs": [],
   "source": [
    "del l[-5]"
   ]
  },
  {
   "cell_type": "code",
   "execution_count": 183,
   "id": "b9e56f3c-85d6-427d-aa51-da809fcf266c",
   "metadata": {},
   "outputs": [
    {
     "data": {
      "text/plain": [
       "[20, 30, 40, 50]"
      ]
     },
     "execution_count": 183,
     "metadata": {},
     "output_type": "execute_result"
    }
   ],
   "source": [
    "l"
   ]
  },
  {
   "cell_type": "code",
   "execution_count": 184,
   "id": "5b56be80-d2c2-4e68-b4ca-1f2ae8c795d1",
   "metadata": {},
   "outputs": [],
   "source": [
    "del l #deletes the whole list"
   ]
  },
  {
   "cell_type": "code",
   "execution_count": 185,
   "id": "72f7e369-ae2e-4bb2-9d93-29f05a530d7d",
   "metadata": {},
   "outputs": [
    {
     "ename": "NameError",
     "evalue": "name 'l' is not defined",
     "output_type": "error",
     "traceback": [
      "\u001b[1;31m---------------------------------------------------------------------------\u001b[0m",
      "\u001b[1;31mNameError\u001b[0m                                 Traceback (most recent call last)",
      "Cell \u001b[1;32mIn[185], line 1\u001b[0m\n\u001b[1;32m----> 1\u001b[0m l\n",
      "\u001b[1;31mNameError\u001b[0m: name 'l' is not defined"
     ]
    }
   ],
   "source": [
    "l"
   ]
  },
  {
   "cell_type": "code",
   "execution_count": 196,
   "id": "7847fd05-aa8f-447c-b2fe-39684c21d7c1",
   "metadata": {},
   "outputs": [
    {
     "name": "stdout",
     "output_type": "stream",
     "text": [
      "[1, 5, 2, 6]\n",
      "[34, 45, 2]\n"
     ]
    }
   ],
   "source": [
    "#joining the list----------------------------------------------------------\n",
    "l1=[1,5,2,6]\n",
    "l2=[34,45,2]\n",
    "print(l1)\n",
    "print(l2)"
   ]
  },
  {
   "cell_type": "code",
   "execution_count": 197,
   "id": "5c2911ab-dc23-4d28-bcfd-4de78f6473f7",
   "metadata": {},
   "outputs": [
    {
     "data": {
      "text/plain": [
       "[1, 5, 2, 6, 34, 45, 2]"
      ]
     },
     "execution_count": 197,
     "metadata": {},
     "output_type": "execute_result"
    }
   ],
   "source": [
    "l3=l1+l2 #joins the two list using + operator; but l1,l2 will not be modified\n",
    "l3"
   ]
  },
  {
   "cell_type": "code",
   "execution_count": 198,
   "id": "bf71e3bd-9931-48ac-b9dc-528b996c8b07",
   "metadata": {},
   "outputs": [
    {
     "name": "stdout",
     "output_type": "stream",
     "text": [
      "[1, 5, 2, 6]\n",
      "[34, 45, 2]\n",
      "[1, 5, 2, 6, 34, 45, 2]\n"
     ]
    }
   ],
   "source": [
    "print(l1)\n",
    "print(l2)\n",
    "print(l3)"
   ]
  },
  {
   "cell_type": "code",
   "execution_count": 199,
   "id": "bb2ad935-2df3-4ec4-8477-d331d5f2e810",
   "metadata": {},
   "outputs": [
    {
     "data": {
      "text/plain": [
       "[1, 5, 2, 6, 34, 45, 2]"
      ]
     },
     "execution_count": 199,
     "metadata": {},
     "output_type": "execute_result"
    }
   ],
   "source": [
    "l1.extend(l2) # appends l2 to the end of l1; l1 is extended\n",
    "l1"
   ]
  },
  {
   "cell_type": "code",
   "execution_count": 200,
   "id": "13fca44c-4279-400b-9962-e09b92570890",
   "metadata": {},
   "outputs": [
    {
     "data": {
      "text/plain": [
       "[1, 2, 3, 4, 5, 6]"
      ]
     },
     "execution_count": 200,
     "metadata": {},
     "output_type": "execute_result"
    }
   ],
   "source": [
    "#list membership---------------------------------------------------------\n",
    "l=[1,2,3,4,5,6]\n",
    "l"
   ]
  },
  {
   "cell_type": "code",
   "execution_count": 202,
   "id": "7c0f52cc-6678-467e-a69c-652656ab8548",
   "metadata": {},
   "outputs": [
    {
     "data": {
      "text/plain": [
       "True"
      ]
     },
     "execution_count": 202,
     "metadata": {},
     "output_type": "execute_result"
    }
   ],
   "source": [
    "3 in l # val in list-object; returns True/False based on the value exists in the list"
   ]
  },
  {
   "cell_type": "code",
   "execution_count": 203,
   "id": "3e52b68f-f9d8-4255-a761-e03c4202cff7",
   "metadata": {},
   "outputs": [
    {
     "name": "stdout",
     "output_type": "stream",
     "text": [
      "value is present\n"
     ]
    }
   ],
   "source": [
    "if 3 in l:\n",
    "    print(\"value is present\")\n",
    "else:\n",
    "    print(\"value is not present\")"
   ]
  },
  {
   "cell_type": "code",
   "execution_count": 204,
   "id": "33499d9a-0636-44b8-a35d-228d01c28152",
   "metadata": {},
   "outputs": [],
   "source": [
    "#-Reverse list---------------------------------------\n",
    "l=[1,2,3,4,5]"
   ]
  },
  {
   "cell_type": "code",
   "execution_count": 205,
   "id": "827310cc-818e-4071-bc1f-0535f73de789",
   "metadata": {},
   "outputs": [
    {
     "data": {
      "text/plain": [
       "[1, 2, 3, 4, 5]"
      ]
     },
     "execution_count": 205,
     "metadata": {},
     "output_type": "execute_result"
    }
   ],
   "source": [
    "l"
   ]
  },
  {
   "cell_type": "code",
   "execution_count": 209,
   "id": "d5c29cbb-d426-4ec1-9472-39bcf845567b",
   "metadata": {},
   "outputs": [],
   "source": [
    "l.reverse() #reverses and changes are made in the original list"
   ]
  },
  {
   "cell_type": "code",
   "execution_count": 221,
   "id": "f3e06580-28d1-454a-802d-3cb0055fcee7",
   "metadata": {},
   "outputs": [
    {
     "data": {
      "text/plain": [
       "[5, 4, 3, 2, 1]"
      ]
     },
     "execution_count": 221,
     "metadata": {},
     "output_type": "execute_result"
    }
   ],
   "source": [
    "l"
   ]
  },
  {
   "cell_type": "code",
   "execution_count": 213,
   "id": "66f0a428-7190-4b80-be05-ee5a87c982af",
   "metadata": {},
   "outputs": [
    {
     "data": {
      "text/plain": [
       "[1, 2, 3, 4, 5]"
      ]
     },
     "execution_count": 213,
     "metadata": {},
     "output_type": "execute_result"
    }
   ],
   "source": [
    "l[::-1]"
   ]
  },
  {
   "cell_type": "code",
   "execution_count": 214,
   "id": "f0ec34bb-1ae1-443e-83ae-90322d79a2bf",
   "metadata": {},
   "outputs": [
    {
     "data": {
      "text/plain": [
       "[5, 4, 3, 2, 1]"
      ]
     },
     "execution_count": 214,
     "metadata": {},
     "output_type": "execute_result"
    }
   ],
   "source": [
    "l"
   ]
  },
  {
   "cell_type": "code",
   "execution_count": 219,
   "id": "0f15a81e-72e3-4c61-a38b-961f06f7f117",
   "metadata": {},
   "outputs": [],
   "source": [
    "l1=l[::-1] # reverses the list; changes will not be made to the original;instead returns the reversed list"
   ]
  },
  {
   "cell_type": "code",
   "execution_count": 222,
   "id": "d722e9c4-8e00-493d-8649-6245d1970410",
   "metadata": {},
   "outputs": [
    {
     "data": {
      "text/plain": [
       "[1, 2, 3, 4, 5]"
      ]
     },
     "execution_count": 222,
     "metadata": {},
     "output_type": "execute_result"
    }
   ],
   "source": [
    "l1"
   ]
  },
  {
   "cell_type": "code",
   "execution_count": 11,
   "id": "a2c1b331-0c14-47a3-9137-2a38a8e69110",
   "metadata": {},
   "outputs": [],
   "source": [
    "#sorting the list-----------------------------------------------\n",
    "l=[1,23,3,42,5]"
   ]
  },
  {
   "cell_type": "code",
   "execution_count": 228,
   "id": "2a01dc48-2506-47b4-8f38-a856c4a714b2",
   "metadata": {},
   "outputs": [
    {
     "data": {
      "text/plain": [
       "[1, 23, 3, 42, 5]"
      ]
     },
     "execution_count": 228,
     "metadata": {},
     "output_type": "execute_result"
    }
   ],
   "source": [
    "l"
   ]
  },
  {
   "cell_type": "code",
   "execution_count": 231,
   "id": "187390d9-6d3f-45c5-889b-4ec7b959fce0",
   "metadata": {},
   "outputs": [],
   "source": [
    "l.sort() #sorts in ascending order by default"
   ]
  },
  {
   "cell_type": "code",
   "execution_count": 230,
   "id": "affe4d25-7217-4bee-a5d3-fcbb2ec0ab54",
   "metadata": {},
   "outputs": [
    {
     "data": {
      "text/plain": [
       "[1, 3, 5, 23, 42]"
      ]
     },
     "execution_count": 230,
     "metadata": {},
     "output_type": "execute_result"
    }
   ],
   "source": [
    "l"
   ]
  },
  {
   "cell_type": "code",
   "execution_count": 12,
   "id": "97bce8bb-2c58-48bf-814c-9232347c25ce",
   "metadata": {},
   "outputs": [],
   "source": [
    "l.sort(reverse=True) #sorts in descending order"
   ]
  },
  {
   "cell_type": "code",
   "execution_count": 13,
   "id": "2be5f090-0d9b-45ba-ae86-ce31230a88fc",
   "metadata": {},
   "outputs": [
    {
     "data": {
      "text/plain": [
       "[42, 23, 5, 3, 1]"
      ]
     },
     "execution_count": 13,
     "metadata": {},
     "output_type": "execute_result"
    }
   ],
   "source": [
    "l"
   ]
  },
  {
   "cell_type": "code",
   "execution_count": 16,
   "id": "a3355568-b667-443f-8bb5-bfa6e22700e2",
   "metadata": {},
   "outputs": [
    {
     "data": {
      "text/plain": [
       "[1, 3, 5, 23, 42]"
      ]
     },
     "execution_count": 16,
     "metadata": {},
     "output_type": "execute_result"
    }
   ],
   "source": [
    "sorted(l)#returns a sorted list"
   ]
  },
  {
   "cell_type": "code",
   "execution_count": 236,
   "id": "6f2905e7-2ed0-4667-bcdb-2f452711aba6",
   "metadata": {},
   "outputs": [
    {
     "data": {
      "text/plain": [
       "[42, 23, 5, 3, 1]"
      ]
     },
     "execution_count": 236,
     "metadata": {},
     "output_type": "execute_result"
    }
   ],
   "source": [
    "#looping list-----------------------------------------\n",
    "l"
   ]
  },
  {
   "cell_type": "code",
   "execution_count": 243,
   "id": "11881b2d-2acc-4b3f-aed3-2f35841ee191",
   "metadata": {},
   "outputs": [
    {
     "name": "stdout",
     "output_type": "stream",
     "text": [
      "42\n",
      "23\n",
      "5\n",
      "3\n",
      "1\n"
     ]
    }
   ],
   "source": [
    "for i in l: #iterates/loops through l\n",
    "    print(i)"
   ]
  },
  {
   "cell_type": "code",
   "execution_count": 244,
   "id": "f9e260f7-07eb-4cd9-b6c9-ce8db91fb57f",
   "metadata": {},
   "outputs": [
    {
     "name": "stdout",
     "output_type": "stream",
     "text": [
      "42 23 5 3 1 "
     ]
    }
   ],
   "source": [
    "for i in l: #iterates/loops through l\n",
    "    print(i,end=' ')"
   ]
  },
  {
   "cell_type": "code",
   "execution_count": 239,
   "id": "28feef73-e503-44ed-a5ff-b88337893943",
   "metadata": {},
   "outputs": [
    {
     "name": "stdout",
     "output_type": "stream",
     "text": [
      "(0, 42)\n",
      "(1, 23)\n",
      "(2, 5)\n",
      "(3, 3)\n",
      "(4, 1)\n"
     ]
    }
   ],
   "source": [
    "for i in enumerate(l): #loops through enumerate(l) - which gives index and value pair\n",
    "    print(i)"
   ]
  },
  {
   "cell_type": "code",
   "execution_count": 245,
   "id": "7f622f9f-bcdc-4bee-b279-01fe92509748",
   "metadata": {},
   "outputs": [
    {
     "data": {
      "text/plain": [
       "[42, 23, 5, 3, 1]"
      ]
     },
     "execution_count": 245,
     "metadata": {},
     "output_type": "execute_result"
    }
   ],
   "source": [
    "#all/any--------------------------------\n",
    "l"
   ]
  },
  {
   "cell_type": "code",
   "execution_count": 248,
   "id": "5a652c44-40a3-47d6-ad3b-910d6b46fdfe",
   "metadata": {},
   "outputs": [
    {
     "data": {
      "text/plain": [
       "True"
      ]
     },
     "execution_count": 248,
     "metadata": {},
     "output_type": "execute_result"
    }
   ],
   "source": [
    "all(l) #returns True, if all the list values are non zero values; else return false"
   ]
  },
  {
   "cell_type": "code",
   "execution_count": 249,
   "id": "ba210e93-5a12-4538-bd0e-4930b2d00220",
   "metadata": {},
   "outputs": [],
   "source": [
    "l=[1,2,0,3,4,5]"
   ]
  },
  {
   "cell_type": "code",
   "execution_count": 250,
   "id": "26c11e67-8281-4205-b580-e8f216e48189",
   "metadata": {},
   "outputs": [
    {
     "data": {
      "text/plain": [
       "False"
      ]
     },
     "execution_count": 250,
     "metadata": {},
     "output_type": "execute_result"
    }
   ],
   "source": [
    "all(l)"
   ]
  },
  {
   "cell_type": "code",
   "execution_count": 251,
   "id": "a27c50a6-7cb5-411b-a759-c8324888b000",
   "metadata": {},
   "outputs": [],
   "source": [
    "l=[1,2,3,4,5]"
   ]
  },
  {
   "cell_type": "code",
   "execution_count": 252,
   "id": "ecc41f21-ed2b-4d5a-addc-008961b03ab3",
   "metadata": {},
   "outputs": [
    {
     "data": {
      "text/plain": [
       "True"
      ]
     },
     "execution_count": 252,
     "metadata": {},
     "output_type": "execute_result"
    }
   ],
   "source": [
    "any(l) # returns True, if any one value is non-zero value; if all the values are zero values, returns false"
   ]
  },
  {
   "cell_type": "code",
   "execution_count": 253,
   "id": "546a753b-ce14-4613-a7a6-88d8ecdfc8d9",
   "metadata": {},
   "outputs": [],
   "source": [
    "l=[1,2,3,0,4]"
   ]
  },
  {
   "cell_type": "code",
   "execution_count": 254,
   "id": "20b7c95f-28ed-4fc5-8eca-023b27334691",
   "metadata": {},
   "outputs": [
    {
     "data": {
      "text/plain": [
       "True"
      ]
     },
     "execution_count": 254,
     "metadata": {},
     "output_type": "execute_result"
    }
   ],
   "source": [
    "any(l)"
   ]
  },
  {
   "cell_type": "code",
   "execution_count": 255,
   "id": "8999df25-3f51-4df7-a1ff-90fbb6501d09",
   "metadata": {},
   "outputs": [],
   "source": [
    "l=[0,0,0,0]"
   ]
  },
  {
   "cell_type": "code",
   "execution_count": 256,
   "id": "e8518779-001e-44ef-9a04-ea39966f0e47",
   "metadata": {},
   "outputs": [
    {
     "data": {
      "text/plain": [
       "False"
      ]
     },
     "execution_count": 256,
     "metadata": {},
     "output_type": "execute_result"
    }
   ],
   "source": [
    "any(l)"
   ]
  }
 ],
 "metadata": {
  "kernelspec": {
   "display_name": "Python 3 (ipykernel)",
   "language": "python",
   "name": "python3"
  },
  "language_info": {
   "codemirror_mode": {
    "name": "ipython",
    "version": 3
   },
   "file_extension": ".py",
   "mimetype": "text/x-python",
   "name": "python",
   "nbconvert_exporter": "python",
   "pygments_lexer": "ipython3",
   "version": "3.12.7"
  }
 },
 "nbformat": 4,
 "nbformat_minor": 5
}
