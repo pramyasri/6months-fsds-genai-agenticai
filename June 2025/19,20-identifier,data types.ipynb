{
 "cells": [
  {
   "cell_type": "code",
   "execution_count": 3,
   "id": "749c2b2b-0b58-486c-a1f3-d3219c38a637",
   "metadata": {},
   "outputs": [
    {
     "ename": "NameError",
     "evalue": "name 'keyword' is not defined",
     "output_type": "error",
     "traceback": [
      "\u001b[1;31m---------------------------------------------------------------------------\u001b[0m",
      "\u001b[1;31mNameError\u001b[0m                                 Traceback (most recent call last)",
      "Cell \u001b[1;32mIn[3], line 3\u001b[0m\n\u001b[0;32m      1\u001b[0m \u001b[38;5;66;03m#Keywords-------------------------------------------------------------------------------\u001b[39;00m\n\u001b[1;32m----> 3\u001b[0m keyword\u001b[38;5;241m.\u001b[39mkwlist\n",
      "\u001b[1;31mNameError\u001b[0m: name 'keyword' is not defined"
     ]
    }
   ],
   "source": [
    "#Keywords-------------------------------------------------------------------------------\n",
    "\n",
    "keyword.kwlist"
   ]
  },
  {
   "cell_type": "code",
   "execution_count": 7,
   "id": "f971e8c3-f6ad-4463-84e8-2a38622f540d",
   "metadata": {},
   "outputs": [],
   "source": [
    " import keyword # we need to import the keyword to know the default keywords present in python"
   ]
  },
  {
   "cell_type": "code",
   "execution_count": 6,
   "id": "9d73f4fc-253b-438e-82fe-2be2aae6392a",
   "metadata": {},
   "outputs": [
    {
     "name": "stdout",
     "output_type": "stream",
     "text": [
      "['False', 'None', 'True', 'and', 'as', 'assert', 'async', 'await', 'break', 'class', 'continue', 'def', 'del', 'elif', 'else', 'except', 'finally', 'for', 'from', 'global', 'if', 'import', 'in', 'is', 'lambda', 'nonlocal', 'not', 'or', 'pass', 'raise', 'return', 'try', 'while', 'with', 'yield']\n"
     ]
    }
   ],
   "source": [
    "print(keyword.kwlist)"
   ]
  },
  {
   "cell_type": "code",
   "execution_count": 9,
   "id": "bc05b911-0e40-4501-8f7a-693d54cd9481",
   "metadata": {},
   "outputs": [
    {
     "data": {
      "text/plain": [
       "35"
      ]
     },
     "execution_count": 9,
     "metadata": {},
     "output_type": "execute_result"
    }
   ],
   "source": [
    "len(keyword.kwlist) #Total 35 keywords in Python"
   ]
  },
  {
   "cell_type": "code",
   "execution_count": 3,
   "id": "c283678e-c4a0-4cb1-bb57-255a99bb5572",
   "metadata": {},
   "outputs": [
    {
     "name": "stdout",
     "output_type": "stream",
     "text": [
      "10\n",
      "34\n",
      "23.34\n",
      "a\n",
      "test string\n"
     ]
    }
   ],
   "source": [
    "#Identifiers  --------------------------------------------------------------------------------------------------------------\n",
    "\n",
    "#There are feew rules for identifiers\n",
    "#1. No special characters are allowed\n",
    "#2. No keyword is allowed\n",
    "#3. Can not start with a number, instead can end with number\n",
    "#4. only '_' can be used and it can be at the statrt of variable name\n",
    "#5. Variables are case sensitive, i.e, a and A are two different variables\n",
    "\n",
    "#examples - a, a23, num1, _t, AS_sdf\n",
    "\n",
    "a=10\n",
    "print(a)\n",
    "a23=34\n",
    "print(a23)\n",
    "num1=23.34\n",
    "print(num1)\n",
    "_t='a'\n",
    "print(_t)\n",
    "AS_sdf=\"test string\"\n",
    "print(AS_sdf)"
   ]
  },
  {
   "cell_type": "code",
   "execution_count": 4,
   "id": "a5a2431c-703a-4473-8ea4-75908aeb830e",
   "metadata": {},
   "outputs": [
    {
     "data": {
      "text/plain": [
       "10"
      ]
     },
     "execution_count": 4,
     "metadata": {},
     "output_type": "execute_result"
    }
   ],
   "source": [
    "#Comments - ----------------------------------------------\n",
    "\n",
    "#hash(#) is used for commenting in Python\n",
    "\n",
    "#single line comment\n",
    "val1=10\n",
    "val1"
   ]
  },
  {
   "cell_type": "code",
   "execution_count": 5,
   "id": "419d2c7d-d5ea-4f17-b23e-0c988be6acca",
   "metadata": {},
   "outputs": [
    {
     "data": {
      "text/plain": [
       "10"
      ]
     },
     "execution_count": 5,
     "metadata": {},
     "output_type": "execute_result"
    }
   ],
   "source": [
    "#Multi\n",
    "#Line\n",
    "#comment -----------# to be used for every line to be commented\n",
    "\n",
    "val1=10\n",
    "val1"
   ]
  },
  {
   "cell_type": "code",
   "execution_count": 6,
   "id": "457acea7-ae4d-4017-8dec-c195e2456de8",
   "metadata": {},
   "outputs": [
    {
     "data": {
      "text/plain": [
       "10"
      ]
     },
     "execution_count": 6,
     "metadata": {},
     "output_type": "execute_result"
    }
   ],
   "source": [
    "'''\n",
    "Triple quote can also\n",
    "be used as multi line comment---------but the difference is if # is used, then it is ignored by interpreter, \n",
    "where as, triple quote will be executed by the interpreter\n",
    "'''\n",
    "val1=10\n",
    "val1"
   ]
  },
  {
   "cell_type": "code",
   "execution_count": 4,
   "id": "cfd60374-d09a-42f2-b6c0-dbe6073d190d",
   "metadata": {},
   "outputs": [
    {
     "data": {
      "text/plain": [
       "(20, int, '0x7ffe074a2c18')"
      ]
     },
     "execution_count": 4,
     "metadata": {},
     "output_type": "execute_result"
    }
   ],
   "source": [
    "#Statements-------------------------------------------------------------------------------------------------------------------\n",
    "\n",
    "p=20 #Creates an integer object for 20 and assigns p to 20\n",
    "q=20 #creates a reference to 20 ;p, q will point to same address location\n",
    "r=q #r is assigned with q, hence all three p,q,r will be pointing to same address\n",
    "\n",
    "p,type(p),hex(id(p))"
   ]
  },
  {
   "cell_type": "code",
   "execution_count": 2,
   "id": "cdd2d6ef-d714-4774-a1df-dcddb13afca4",
   "metadata": {},
   "outputs": [
    {
     "data": {
      "text/plain": [
       "(20, int, 140729020722200)"
      ]
     },
     "execution_count": 2,
     "metadata": {},
     "output_type": "execute_result"
    }
   ],
   "source": [
    "q,type(q),hex(id(q))"
   ]
  },
  {
   "cell_type": "code",
   "execution_count": 6,
   "id": "da2631ad-7876-43e9-8024-fce6ce125be3",
   "metadata": {},
   "outputs": [
    {
     "data": {
      "text/plain": [
       "(20, int, '0x7ffe074a2c18')"
      ]
     },
     "execution_count": 6,
     "metadata": {},
     "output_type": "execute_result"
    }
   ],
   "source": [
    "r,type(r),hex(id(r))"
   ]
  },
  {
   "cell_type": "code",
   "execution_count": 8,
   "id": "dec11040-bd52-4c4b-a9d0-2da879f7e278",
   "metadata": {},
   "outputs": [
    {
     "data": {
      "text/plain": [
       "30"
      ]
     },
     "execution_count": 8,
     "metadata": {},
     "output_type": "execute_result"
    }
   ],
   "source": [
    "p=20\n",
    "p=p+10 #variable overwriting\n",
    "p"
   ]
  },
  {
   "cell_type": "code",
   "execution_count": 9,
   "id": "197dd185-23ba-449a-b701-08591887e71b",
   "metadata": {},
   "outputs": [
    {
     "name": "stdout",
     "output_type": "stream",
     "text": [
      "10\n",
      "23.45\n",
      "asd\n"
     ]
    }
   ],
   "source": [
    "#Variable assignments----------------------------------------------------------------------------------------------------\n",
    "a=10\n",
    "b=23.45\n",
    "c='asd'\n",
    "\n",
    "print(a)\n",
    "print(b)\n",
    "print(c)"
   ]
  },
  {
   "cell_type": "code",
   "execution_count": 10,
   "id": "52ccd4b0-7147-4248-b1cf-eb4c85f553d9",
   "metadata": {},
   "outputs": [
    {
     "name": "stdout",
     "output_type": "stream",
     "text": [
      "10\n",
      "23.45\n",
      "asd\n"
     ]
    }
   ],
   "source": [
    "#Multiple Assignments -----------------------------------------------\n",
    "a,b,c=10,23.45,'asd'\n",
    "print(a)\n",
    "print(b)\n",
    "print(c)"
   ]
  },
  {
   "cell_type": "code",
   "execution_count": 11,
   "id": "6118d6ac-858d-458d-b693-ee1196fbaa51",
   "metadata": {},
   "outputs": [
    {
     "name": "stdout",
     "output_type": "stream",
     "text": [
      "44 44 44 44\n"
     ]
    }
   ],
   "source": [
    "p1=p2=p3=p4=44 # All variables pointing to the same value\n",
    "print(p1,p2,p3,p4)"
   ]
  },
  {
   "cell_type": "code",
   "execution_count": 18,
   "id": "530009ab-7922-4e67-a4e3-147a43372c6c",
   "metadata": {},
   "outputs": [
    {
     "name": "stdout",
     "output_type": "stream",
     "text": [
      "10\n",
      "<class 'int'>\n",
      "28\n",
      "10 is integer? True\n"
     ]
    }
   ],
   "source": [
    "#---------------------------------------------------Data Types-------------------------------------------------------------------\n",
    "#---------------------------------------------------Numeric-----------------\n",
    "\n",
    "import sys\n",
    "\n",
    "#---------------------int----------------------------------------------------\n",
    "val1=10\n",
    "print(val1)\n",
    "print(type(val1)) \n",
    "type(val1)\n",
    "\n",
    "import sys\n",
    "print(sys.getsizeof(val1)) #size of integer object in bytes\n",
    "\n",
    "print(val1, \"is integer?\",isinstance(val1,int)) #val1 is an instance of integer"
   ]
  },
  {
   "cell_type": "code",
   "execution_count": 24,
   "id": "d9ea8ad8-2d78-47fa-90f0-9e8db376d1a0",
   "metadata": {},
   "outputs": [
    {
     "name": "stdout",
     "output_type": "stream",
     "text": [
      "10.34\n",
      "<class 'float'>\n",
      "24\n",
      "10.34 is float? True\n"
     ]
    }
   ],
   "source": [
    "#----------------------------------float------------------------------------------------------\n",
    "\n",
    "val2=10.34\n",
    "print(val2)\n",
    "print(type(val2)) \n",
    "type(val2)\n",
    "\n",
    "\n",
    "print(sys.getsizeof(val2)) #size of float object in bytes\n",
    "\n",
    "print(val2, \"is float?\",isinstance(val2,float)) #val2 is an instance of float"
   ]
  },
  {
   "cell_type": "code",
   "execution_count": 25,
   "id": "4034d90a-71bf-41c8-a050-309875b718a1",
   "metadata": {},
   "outputs": [
    {
     "name": "stdout",
     "output_type": "stream",
     "text": [
      "(10+2j)\n",
      "<class 'complex'>\n",
      "32\n",
      "(10+2j) is complex? True\n"
     ]
    }
   ],
   "source": [
    "#----------------------------------Complex------------------------------------------------------\n",
    "\n",
    "val3=10+2j\n",
    "print(val3)\n",
    "print(type(val3)) \n",
    "type(val3)\n",
    "\n",
    "\n",
    "print(sys.getsizeof(val3)) #size of complex object in bytes\n",
    "\n",
    "print(val3, \"is complex?\",isinstance(val3,complex)) #val3 is an instance of complex"
   ]
  },
  {
   "cell_type": "code",
   "execution_count": 30,
   "id": "63483131-7270-4e84-a660-e933a58dd67a",
   "metadata": {},
   "outputs": [
    {
     "data": {
      "text/plain": [
       "28"
      ]
     },
     "execution_count": 30,
     "metadata": {},
     "output_type": "execute_result"
    }
   ],
   "source": [
    "sys.getsizeof(int()) # size of integer object in bytes"
   ]
  },
  {
   "cell_type": "code",
   "execution_count": 31,
   "id": "53ad60a2-43a9-4617-981c-97f981118ad6",
   "metadata": {},
   "outputs": [
    {
     "data": {
      "text/plain": [
       "24"
      ]
     },
     "execution_count": 31,
     "metadata": {},
     "output_type": "execute_result"
    }
   ],
   "source": [
    "sys.getsizeof(float()) # size of float object in bytes"
   ]
  },
  {
   "cell_type": "code",
   "execution_count": 32,
   "id": "ad9b07d7-e0ac-402c-b1ea-71464f600edb",
   "metadata": {},
   "outputs": [
    {
     "data": {
      "text/plain": [
       "32"
      ]
     },
     "execution_count": 32,
     "metadata": {},
     "output_type": "execute_result"
    }
   ],
   "source": [
    "sys.getsizeof(complex()) # size of complex object in bytes"
   ]
  },
  {
   "cell_type": "code",
   "execution_count": 36,
   "id": "3f75a67f-5798-4cc0-ba32-b504791666b7",
   "metadata": {},
   "outputs": [
    {
     "name": "stdout",
     "output_type": "stream",
     "text": [
      "Type of b1 -  <class 'bool'>\n",
      "Type of b2 -  <class 'bool'>\n",
      "b1 is instanceof True\n"
     ]
    }
   ],
   "source": [
    "#----------------------------------Boolean----------------------------------------------\n",
    "b1=True\n",
    "b2=True\n",
    "\n",
    "print(\"Type of b1 - \",type(b1))\n",
    "print(\"Type of b2 - \",type(b2))\n",
    "\n",
    "print('b1 is instance of',isinstance(b1,bool))"
   ]
  },
  {
   "cell_type": "code",
   "execution_count": 1,
   "id": "0f971dad-de54-45c7-b2a8-1a71d12de3bb",
   "metadata": {},
   "outputs": [
    {
     "data": {
      "text/plain": [
       "False"
      ]
     },
     "execution_count": 1,
     "metadata": {},
     "output_type": "execute_result"
    }
   ],
   "source": [
    "bool(0)"
   ]
  },
  {
   "cell_type": "code",
   "execution_count": 2,
   "id": "be45bbb8-1bf3-428c-8ddf-958db54985ce",
   "metadata": {},
   "outputs": [
    {
     "data": {
      "text/plain": [
       "True"
      ]
     },
     "execution_count": 2,
     "metadata": {},
     "output_type": "execute_result"
    }
   ],
   "source": [
    "bool(1)"
   ]
  },
  {
   "cell_type": "code",
   "execution_count": 3,
   "id": "a09f992d-9dfa-42d7-b031-469500baff45",
   "metadata": {},
   "outputs": [
    {
     "data": {
      "text/plain": [
       "False"
      ]
     },
     "execution_count": 3,
     "metadata": {},
     "output_type": "execute_result"
    }
   ],
   "source": [
    "bool(None)"
   ]
  },
  {
   "cell_type": "code",
   "execution_count": 6,
   "id": "395702cb-6d12-4638-adb2-fc2d6600b01b",
   "metadata": {},
   "outputs": [
    {
     "name": "stdout",
     "output_type": "stream",
     "text": [
      "hello world\n",
      "hello world\n",
      "Hello\n",
      "        World\n"
     ]
    }
   ],
   "source": [
    "#----------------------------Strings---------------------------------\n",
    "\n",
    "#String creation\n",
    "s1='hello world'\n",
    "print(s1)\n",
    "\n",
    "s2=\"hello world\"\n",
    "print(s2)\n",
    "\n",
    "s3='''Hello\n",
    "        World'''\n",
    "print(s3)"
   ]
  },
  {
   "cell_type": "code",
   "execution_count": 8,
   "id": "548f2878-a5d7-4f04-9dee-5ab10d95d9e7",
   "metadata": {},
   "outputs": [
    {
     "name": "stdout",
     "output_type": "stream",
     "text": [
      "happy Monday Everyone\n"
     ]
    }
   ],
   "source": [
    "string=('happy '\n",
    "       'Monday '\n",
    "       'Everyone')\n",
    "print(string)"
   ]
  },
  {
   "cell_type": "code",
   "execution_count": 14,
   "id": "dc4079c2-f0b4-43ba-8dd4-540db4d2e0b8",
   "metadata": {},
   "outputs": [
    {
     "name": "stdout",
     "output_type": "stream",
     "text": [
      "hello \n",
      "hello hello hello hello hello \n"
     ]
    }
   ],
   "source": [
    "s1=\"hello \"\n",
    "print(s1)\n",
    "\n",
    "s1=s1*5\n",
    "print(s1)"
   ]
  },
  {
   "cell_type": "code",
   "execution_count": 15,
   "id": "5f54d1cd-7f98-4bee-90e9-71206d3a95d3",
   "metadata": {},
   "outputs": [
    {
     "data": {
      "text/plain": [
       "30"
      ]
     },
     "execution_count": 15,
     "metadata": {},
     "output_type": "execute_result"
    }
   ],
   "source": [
    "len(s1)"
   ]
  },
  {
   "cell_type": "code",
   "execution_count": 16,
   "id": "a20a3f3b-edd2-4eef-9ef5-b8bf46fd7dbb",
   "metadata": {},
   "outputs": [
    {
     "name": "stdout",
     "output_type": "stream",
     "text": [
      "hello python\n"
     ]
    }
   ],
   "source": [
    "#indexing and slicing---------------------------------\n",
    "\n",
    "s=\"hello python\"\n",
    "print(s)"
   ]
  },
  {
   "cell_type": "code",
   "execution_count": 17,
   "id": "d6ca915a-d871-42a0-a1ec-b4823885de3d",
   "metadata": {},
   "outputs": [
    {
     "data": {
      "text/plain": [
       "'h'"
      ]
     },
     "execution_count": 17,
     "metadata": {},
     "output_type": "execute_result"
    }
   ],
   "source": [
    "s[0]"
   ]
  },
  {
   "cell_type": "code",
   "execution_count": 18,
   "id": "f1e1920c-4d18-4c31-9183-56224308f515",
   "metadata": {},
   "outputs": [
    {
     "data": {
      "text/plain": [
       "'e'"
      ]
     },
     "execution_count": 18,
     "metadata": {},
     "output_type": "execute_result"
    }
   ],
   "source": [
    "s[1]"
   ]
  },
  {
   "cell_type": "code",
   "execution_count": 19,
   "id": "4eb562a5-84c1-48bb-b36a-88073f2231d5",
   "metadata": {},
   "outputs": [
    {
     "data": {
      "text/plain": [
       "'n'"
      ]
     },
     "execution_count": 19,
     "metadata": {},
     "output_type": "execute_result"
    }
   ],
   "source": [
    "s[-1]"
   ]
  },
  {
   "cell_type": "code",
   "execution_count": 20,
   "id": "6e941332-9620-439a-8031-c409121318e7",
   "metadata": {},
   "outputs": [
    {
     "data": {
      "text/plain": [
       "'p'"
      ]
     },
     "execution_count": 20,
     "metadata": {},
     "output_type": "execute_result"
    }
   ],
   "source": [
    "s[6]"
   ]
  },
  {
   "cell_type": "code",
   "execution_count": 21,
   "id": "7c950aef-2112-4690-815b-13cad0196a9c",
   "metadata": {},
   "outputs": [
    {
     "data": {
      "text/plain": [
       "' '"
      ]
     },
     "execution_count": 21,
     "metadata": {},
     "output_type": "execute_result"
    }
   ],
   "source": [
    "s[5]"
   ]
  },
  {
   "cell_type": "code",
   "execution_count": 22,
   "id": "723bfc67-cfe4-4472-98e9-06fb50d2413b",
   "metadata": {},
   "outputs": [
    {
     "ename": "IndexError",
     "evalue": "string index out of range",
     "output_type": "error",
     "traceback": [
      "\u001b[1;31m---------------------------------------------------------------------------\u001b[0m",
      "\u001b[1;31mIndexError\u001b[0m                                Traceback (most recent call last)",
      "Cell \u001b[1;32mIn[22], line 1\u001b[0m\n\u001b[1;32m----> 1\u001b[0m s[\u001b[38;5;241m13\u001b[39m]\n",
      "\u001b[1;31mIndexError\u001b[0m: string index out of range"
     ]
    }
   ],
   "source": [
    "s[13]"
   ]
  },
  {
   "cell_type": "code",
   "execution_count": 23,
   "id": "9ca0cea2-1013-4d00-9c09-28555b87c40e",
   "metadata": {},
   "outputs": [
    {
     "data": {
      "text/plain": [
       "'hello'"
      ]
     },
     "execution_count": 23,
     "metadata": {},
     "output_type": "execute_result"
    }
   ],
   "source": [
    "s[0:5]"
   ]
  },
  {
   "cell_type": "code",
   "execution_count": 24,
   "id": "d18f217c-5eb7-4f9f-abc0-f5fcac0039bb",
   "metadata": {},
   "outputs": [
    {
     "data": {
      "text/plain": [
       "'hello python'"
      ]
     },
     "execution_count": 24,
     "metadata": {},
     "output_type": "execute_result"
    }
   ],
   "source": [
    "s[0:]"
   ]
  },
  {
   "cell_type": "code",
   "execution_count": 25,
   "id": "9df09a93-8e82-4c0a-86bc-caf9f0725016",
   "metadata": {},
   "outputs": [
    {
     "data": {
      "text/plain": [
       "'hello python'"
      ]
     },
     "execution_count": 25,
     "metadata": {},
     "output_type": "execute_result"
    }
   ],
   "source": [
    "s[:]"
   ]
  },
  {
   "cell_type": "code",
   "execution_count": 26,
   "id": "d1980473-a42e-4abb-8912-4fa7c6de2cc1",
   "metadata": {},
   "outputs": [
    {
     "data": {
      "text/plain": [
       "'hello'"
      ]
     },
     "execution_count": 26,
     "metadata": {},
     "output_type": "execute_result"
    }
   ],
   "source": [
    "s[:5]"
   ]
  },
  {
   "cell_type": "code",
   "execution_count": 27,
   "id": "95d66156-a52b-4323-9063-260a5616570e",
   "metadata": {},
   "outputs": [
    {
     "data": {
      "text/plain": [
       "'hon'"
      ]
     },
     "execution_count": 27,
     "metadata": {},
     "output_type": "execute_result"
    }
   ],
   "source": [
    "s[-3:]"
   ]
  },
  {
   "cell_type": "code",
   "execution_count": 28,
   "id": "427f0195-913b-4f21-a33b-3c0bcbbe1efd",
   "metadata": {},
   "outputs": [
    {
     "data": {
      "text/plain": [
       "'hello pyt'"
      ]
     },
     "execution_count": 28,
     "metadata": {},
     "output_type": "execute_result"
    }
   ],
   "source": [
    "s[:-3]"
   ]
  },
  {
   "cell_type": "code",
   "execution_count": 30,
   "id": "e3722a5d-f443-40ac-bbb9-99b807275ac5",
   "metadata": {},
   "outputs": [
    {
     "data": {
      "text/plain": [
       "'h'"
      ]
     },
     "execution_count": 30,
     "metadata": {},
     "output_type": "execute_result"
    }
   ],
   "source": [
    "s[-12]"
   ]
  },
  {
   "cell_type": "code",
   "execution_count": 32,
   "id": "3116c911-ba5b-4d71-a969-6d96c4cf73db",
   "metadata": {},
   "outputs": [
    {
     "data": {
      "text/plain": [
       "'hello '"
      ]
     },
     "execution_count": 32,
     "metadata": {},
     "output_type": "execute_result"
    }
   ],
   "source": [
    "s[-12:-6]"
   ]
  },
  {
   "cell_type": "code",
   "execution_count": 33,
   "id": "e675f533-a73d-4dda-92ad-5037f58f8733",
   "metadata": {},
   "outputs": [],
   "source": [
    "#-----------Update-delete string\n",
    "\n",
    "s='hello'"
   ]
  },
  {
   "cell_type": "code",
   "execution_count": 34,
   "id": "8d2cde88-2f78-4ae7-accf-dd4da162d5a7",
   "metadata": {},
   "outputs": [
    {
     "data": {
      "text/plain": [
       "'e'"
      ]
     },
     "execution_count": 34,
     "metadata": {},
     "output_type": "execute_result"
    }
   ],
   "source": [
    "s[1]"
   ]
  },
  {
   "cell_type": "code",
   "execution_count": 35,
   "id": "ba770eb8-bace-4ced-9325-66860d87d671",
   "metadata": {},
   "outputs": [
    {
     "ename": "TypeError",
     "evalue": "'str' object does not support item assignment",
     "output_type": "error",
     "traceback": [
      "\u001b[1;31m---------------------------------------------------------------------------\u001b[0m",
      "\u001b[1;31mTypeError\u001b[0m                                 Traceback (most recent call last)",
      "Cell \u001b[1;32mIn[35], line 1\u001b[0m\n\u001b[1;32m----> 1\u001b[0m s[\u001b[38;5;241m1\u001b[39m]\u001b[38;5;241m=\u001b[39m\u001b[38;5;124m'\u001b[39m\u001b[38;5;124mt\u001b[39m\u001b[38;5;124m'\u001b[39m\n",
      "\u001b[1;31mTypeError\u001b[0m: 'str' object does not support item assignment"
     ]
    }
   ],
   "source": [
    "s[1]='t'#immutable"
   ]
  },
  {
   "cell_type": "code",
   "execution_count": 36,
   "id": "a0993e71-862b-4849-87fd-5c01f9f94f98",
   "metadata": {},
   "outputs": [
    {
     "data": {
      "text/plain": [
       "'he'"
      ]
     },
     "execution_count": 36,
     "metadata": {},
     "output_type": "execute_result"
    }
   ],
   "source": [
    "s[0:2]"
   ]
  },
  {
   "cell_type": "code",
   "execution_count": 37,
   "id": "8d2797b5-653e-4943-9d63-d6a08e97d1d7",
   "metadata": {},
   "outputs": [
    {
     "ename": "TypeError",
     "evalue": "'str' object does not support item assignment",
     "output_type": "error",
     "traceback": [
      "\u001b[1;31m---------------------------------------------------------------------------\u001b[0m",
      "\u001b[1;31mTypeError\u001b[0m                                 Traceback (most recent call last)",
      "Cell \u001b[1;32mIn[37], line 1\u001b[0m\n\u001b[1;32m----> 1\u001b[0m s[\u001b[38;5;241m0\u001b[39m:\u001b[38;5;241m2\u001b[39m]\u001b[38;5;241m=\u001b[39m\u001b[38;5;124m'\u001b[39m\u001b[38;5;124msd\u001b[39m\u001b[38;5;124m'\u001b[39m\n",
      "\u001b[1;31mTypeError\u001b[0m: 'str' object does not support item assignment"
     ]
    }
   ],
   "source": [
    "s[0:2]='sd'"
   ]
  },
  {
   "cell_type": "code",
   "execution_count": 38,
   "id": "55413e1f-92d3-40cb-acec-c7694932f421",
   "metadata": {},
   "outputs": [
    {
     "ename": "NameError",
     "evalue": "name 's' is not defined",
     "output_type": "error",
     "traceback": [
      "\u001b[1;31m---------------------------------------------------------------------------\u001b[0m",
      "\u001b[1;31mNameError\u001b[0m                                 Traceback (most recent call last)",
      "Cell \u001b[1;32mIn[38], line 2\u001b[0m\n\u001b[0;32m      1\u001b[0m \u001b[38;5;28;01mdel\u001b[39;00m s\n\u001b[1;32m----> 2\u001b[0m \u001b[38;5;28mprint\u001b[39m(s)\n",
      "\u001b[1;31mNameError\u001b[0m: name 's' is not defined"
     ]
    }
   ],
   "source": [
    "del s #------------------deletes the string------------\n",
    "print(s)"
   ]
  },
  {
   "cell_type": "code",
   "execution_count": 41,
   "id": "f2748304-5b17-46a9-85ca-ffe4d4d8679e",
   "metadata": {},
   "outputs": [
    {
     "name": "stdout",
     "output_type": "stream",
     "text": [
      "hello world\n",
      "('hello', 'world')\n"
     ]
    }
   ],
   "source": [
    "#-----------------string concatenation\n",
    "\n",
    "s1='hello'\n",
    "s2='world'\n",
    "s3=s1+' '+s2\n",
    "print(s3)"
   ]
  },
  {
   "cell_type": "code",
   "execution_count": null,
   "id": "f54f25c0-35bd-4c62-9d65-6798fbf12f8a",
   "metadata": {},
   "outputs": [],
   "source": []
  }
 ],
 "metadata": {
  "kernelspec": {
   "display_name": "Python 3 (ipykernel)",
   "language": "python",
   "name": "python3"
  },
  "language_info": {
   "codemirror_mode": {
    "name": "ipython",
    "version": 3
   },
   "file_extension": ".py",
   "mimetype": "text/x-python",
   "name": "python",
   "nbconvert_exporter": "python",
   "pygments_lexer": "ipython3",
   "version": "3.12.7"
  }
 },
 "nbformat": 4,
 "nbformat_minor": 5
}
