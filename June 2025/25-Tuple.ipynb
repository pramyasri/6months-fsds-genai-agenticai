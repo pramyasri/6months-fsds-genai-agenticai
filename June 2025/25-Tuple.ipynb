{
 "cells": [
  {
   "cell_type": "code",
   "execution_count": 2,
   "id": "fcc97100-99c9-4835-abef-89952d62a69a",
   "metadata": {},
   "outputs": [],
   "source": [
    "#----------Tuple creation------------------------------\n",
    "t=() #for tuple, we use ()"
   ]
  },
  {
   "cell_type": "code",
   "execution_count": 3,
   "id": "585549b8-8989-4ca0-b6da-b2f70f539872",
   "metadata": {},
   "outputs": [
    {
     "data": {
      "text/plain": [
       "()"
      ]
     },
     "execution_count": 3,
     "metadata": {},
     "output_type": "execute_result"
    }
   ],
   "source": [
    "t"
   ]
  },
  {
   "cell_type": "code",
   "execution_count": 4,
   "id": "7b91b4a6-1e4d-43cf-b213-8cc284f11611",
   "metadata": {},
   "outputs": [
    {
     "data": {
      "text/plain": [
       "tuple"
      ]
     },
     "execution_count": 4,
     "metadata": {},
     "output_type": "execute_result"
    }
   ],
   "source": [
    "type(t)"
   ]
  },
  {
   "cell_type": "code",
   "execution_count": 5,
   "id": "2a8df8ca-2758-4815-bd3b-f09ea940a452",
   "metadata": {},
   "outputs": [
    {
     "name": "stdout",
     "output_type": "stream",
     "text": [
      "<class 'tuple'>\n"
     ]
    }
   ],
   "source": [
    "print(type(t))"
   ]
  },
  {
   "cell_type": "code",
   "execution_count": 8,
   "id": "c3d246b4-9a1f-4f12-9823-d26b3bf52d2d",
   "metadata": {},
   "outputs": [
    {
     "data": {
      "text/plain": [
       "(1, 2, 3, 4, 5)"
      ]
     },
     "execution_count": 8,
     "metadata": {},
     "output_type": "execute_result"
    }
   ],
   "source": [
    "t=(1,2,3,4,5)\n",
    "t"
   ]
  },
  {
   "cell_type": "code",
   "execution_count": 10,
   "id": "26eced3a-d024-460c-81cf-22a3e97222db",
   "metadata": {},
   "outputs": [
    {
     "data": {
      "text/plain": [
       "(23.45, 5.2, 6.8)"
      ]
     },
     "execution_count": 10,
     "metadata": {},
     "output_type": "execute_result"
    }
   ],
   "source": [
    "t=(23.45,5.2,6.8)\n",
    "t"
   ]
  },
  {
   "cell_type": "code",
   "execution_count": 11,
   "id": "99b505bb-3ed7-4e4b-acc2-9324fb4c27eb",
   "metadata": {},
   "outputs": [
    {
     "data": {
      "text/plain": [
       "('a', 'b', 'sfd')"
      ]
     },
     "execution_count": 11,
     "metadata": {},
     "output_type": "execute_result"
    }
   ],
   "source": [
    "t=('a','b',\"sfd\")\n",
    "t"
   ]
  },
  {
   "cell_type": "code",
   "execution_count": 1,
   "id": "0644c1a5-a6cd-4b6a-881b-bcc6a8bb6a03",
   "metadata": {},
   "outputs": [
    {
     "data": {
      "text/plain": [
       "('a', 23, 34.45, [23, 2, 3], (12, 34), (1+2j), {56, 98})"
      ]
     },
     "execution_count": 1,
     "metadata": {},
     "output_type": "execute_result"
    }
   ],
   "source": [
    "t=('a',23,34.45,[23,2,3],(12,34),1+2j,{56,98}) #tuple can have values of differenct data types and can have list/set/tupple... as values\n",
    "t"
   ]
  },
  {
   "cell_type": "code",
   "execution_count": 15,
   "id": "cb6b44ff-8d70-41ed-bb6b-c5280eb5d056",
   "metadata": {},
   "outputs": [
    {
     "data": {
      "text/plain": [
       "'a'"
      ]
     },
     "execution_count": 15,
     "metadata": {},
     "output_type": "execute_result"
    }
   ],
   "source": [
    "t[0]"
   ]
  },
  {
   "cell_type": "code",
   "execution_count": 16,
   "id": "12b2138e-bb83-4ddc-a2f9-2fe1018f12a7",
   "metadata": {},
   "outputs": [
    {
     "data": {
      "text/plain": [
       "34.45"
      ]
     },
     "execution_count": 16,
     "metadata": {},
     "output_type": "execute_result"
    }
   ],
   "source": [
    "t[2]"
   ]
  },
  {
   "cell_type": "code",
   "execution_count": 18,
   "id": "158a72f7-c8db-4fdd-bef2-10f0d0c95d2f",
   "metadata": {},
   "outputs": [
    {
     "ename": "TypeError",
     "evalue": "'tuple' object does not support item assignment",
     "output_type": "error",
     "traceback": [
      "\u001b[1;31m---------------------------------------------------------------------------\u001b[0m",
      "\u001b[1;31mTypeError\u001b[0m                                 Traceback (most recent call last)",
      "Cell \u001b[1;32mIn[18], line 1\u001b[0m\n\u001b[1;32m----> 1\u001b[0m t[\u001b[38;5;241m0\u001b[39m]\u001b[38;5;241m=\u001b[39m\u001b[38;5;124m'\u001b[39m\u001b[38;5;124mb\u001b[39m\u001b[38;5;124m'\u001b[39m\n",
      "\u001b[1;31mTypeError\u001b[0m: 'tuple' object does not support item assignment"
     ]
    }
   ],
   "source": [
    "t[0]='b' #tuples are immutable - can not change values"
   ]
  },
  {
   "cell_type": "code",
   "execution_count": 21,
   "id": "4b0b51c3-708d-43e0-a1c2-8adc36ac50e4",
   "metadata": {},
   "outputs": [
    {
     "data": {
      "text/plain": [
       "23"
      ]
     },
     "execution_count": 21,
     "metadata": {},
     "output_type": "execute_result"
    }
   ],
   "source": [
    "t[3][0] #accessing the list/set/tuple... vaues inside the tuple"
   ]
  },
  {
   "cell_type": "code",
   "execution_count": 20,
   "id": "25cf9bdb-432e-4db5-86ac-43a46024f3a1",
   "metadata": {},
   "outputs": [
    {
     "data": {
      "text/plain": [
       "34"
      ]
     },
     "execution_count": 20,
     "metadata": {},
     "output_type": "execute_result"
    }
   ],
   "source": [
    "t[4][1]"
   ]
  },
  {
   "cell_type": "code",
   "execution_count": 26,
   "id": "429684f8-96e0-4a92-b382-9f70bbb24249",
   "metadata": {},
   "outputs": [
    {
     "data": {
      "text/plain": [
       "('a', 'b', 'ab', 'cda', 'a', 'b', 'a')"
      ]
     },
     "execution_count": 26,
     "metadata": {},
     "output_type": "execute_result"
    }
   ],
   "source": [
    "t=('a','b','ab','cd''a','a','b','a') #allows duplicates\n",
    "t"
   ]
  },
  {
   "cell_type": "code",
   "execution_count": 27,
   "id": "890a94ff-a1a5-44c7-bced-3776e8187d4c",
   "metadata": {},
   "outputs": [
    {
     "data": {
      "text/plain": [
       "('a', 'b', 'ab', 'cda', 'a', 'b', 'a')"
      ]
     },
     "execution_count": 27,
     "metadata": {},
     "output_type": "execute_result"
    }
   ],
   "source": [
    "#slicing----------------------------------------------------------------------\n",
    "t[:]"
   ]
  },
  {
   "cell_type": "code",
   "execution_count": 28,
   "id": "9a8af455-17f1-495f-8728-50f086c742e5",
   "metadata": {},
   "outputs": [
    {
     "data": {
      "text/plain": [
       "('a', 'b', 'ab', 'cda', 'a', 'b', 'a')"
      ]
     },
     "execution_count": 28,
     "metadata": {},
     "output_type": "execute_result"
    }
   ],
   "source": [
    "t[0:]"
   ]
  },
  {
   "cell_type": "code",
   "execution_count": 29,
   "id": "96e37d07-5748-4789-a097-f4fac9b4402a",
   "metadata": {},
   "outputs": [
    {
     "data": {
      "text/plain": [
       "('a', 'b', 'ab')"
      ]
     },
     "execution_count": 29,
     "metadata": {},
     "output_type": "execute_result"
    }
   ],
   "source": [
    "t[0:3]"
   ]
  },
  {
   "cell_type": "code",
   "execution_count": 30,
   "id": "6cfcb2f3-b30f-46cc-ad74-a454e08e4e76",
   "metadata": {},
   "outputs": [
    {
     "data": {
      "text/plain": [
       "7"
      ]
     },
     "execution_count": 30,
     "metadata": {},
     "output_type": "execute_result"
    }
   ],
   "source": [
    "len(t)"
   ]
  },
  {
   "cell_type": "code",
   "execution_count": 31,
   "id": "496830e7-af73-4d15-8a89-ba15ea61863d",
   "metadata": {},
   "outputs": [
    {
     "data": {
      "text/plain": [
       "('a', 'b', 'a')"
      ]
     },
     "execution_count": 31,
     "metadata": {},
     "output_type": "execute_result"
    }
   ],
   "source": [
    "t[4:7]"
   ]
  },
  {
   "cell_type": "code",
   "execution_count": 32,
   "id": "d648476d-e4e5-4695-8e66-3923aa1bf6bb",
   "metadata": {},
   "outputs": [
    {
     "data": {
      "text/plain": [
       "('a', 'b', 'ab', 'cda', 'a')"
      ]
     },
     "execution_count": 32,
     "metadata": {},
     "output_type": "execute_result"
    }
   ],
   "source": [
    "t[:5]"
   ]
  },
  {
   "cell_type": "code",
   "execution_count": 38,
   "id": "5831191a-e285-4e06-b274-2fc9870b2d6d",
   "metadata": {},
   "outputs": [
    {
     "data": {
      "text/plain": [
       "('a', 'b', 'a', 'cda', 'ab', 'b', 'a')"
      ]
     },
     "execution_count": 38,
     "metadata": {},
     "output_type": "execute_result"
    }
   ],
   "source": [
    "t[::-1] #shows the reversed tuple as result"
   ]
  },
  {
   "cell_type": "code",
   "execution_count": 39,
   "id": "812c486d-2b2c-4b57-9288-49a0ab7e8087",
   "metadata": {},
   "outputs": [
    {
     "data": {
      "text/plain": [
       "('a', 'b', 'c', 'a', 'a')"
      ]
     },
     "execution_count": 39,
     "metadata": {},
     "output_type": "execute_result"
    }
   ],
   "source": [
    "#--------------deleting tuple------------------\n",
    "t=('a','b','c','a','a')\n",
    "t"
   ]
  },
  {
   "cell_type": "code",
   "execution_count": 41,
   "id": "058ecb71-6c73-4b14-9a8f-007395b6954a",
   "metadata": {},
   "outputs": [
    {
     "ename": "TypeError",
     "evalue": "'tuple' object doesn't support item deletion",
     "output_type": "error",
     "traceback": [
      "\u001b[1;31m---------------------------------------------------------------------------\u001b[0m",
      "\u001b[1;31mTypeError\u001b[0m                                 Traceback (most recent call last)",
      "Cell \u001b[1;32mIn[41], line 1\u001b[0m\n\u001b[1;32m----> 1\u001b[0m \u001b[38;5;28;01mdel\u001b[39;00m t[\u001b[38;5;241m0\u001b[39m]\n",
      "\u001b[1;31mTypeError\u001b[0m: 'tuple' object doesn't support item deletion"
     ]
    }
   ],
   "source": [
    "del t[0] #cannot delete the values of a tuple as tuple is immutable"
   ]
  },
  {
   "cell_type": "code",
   "execution_count": 42,
   "id": "830e1cab-bbf3-4568-8d9e-8a19258a27b3",
   "metadata": {},
   "outputs": [],
   "source": [
    "del t # deleting the entire tuple is possible"
   ]
  },
  {
   "cell_type": "code",
   "execution_count": 43,
   "id": "0685b463-acba-493c-90df-b318251edae1",
   "metadata": {},
   "outputs": [
    {
     "ename": "NameError",
     "evalue": "name 't' is not defined",
     "output_type": "error",
     "traceback": [
      "\u001b[1;31m---------------------------------------------------------------------------\u001b[0m",
      "\u001b[1;31mNameError\u001b[0m                                 Traceback (most recent call last)",
      "Cell \u001b[1;32mIn[43], line 1\u001b[0m\n\u001b[1;32m----> 1\u001b[0m t\n",
      "\u001b[1;31mNameError\u001b[0m: name 't' is not defined"
     ]
    }
   ],
   "source": [
    "t"
   ]
  },
  {
   "cell_type": "code",
   "execution_count": 67,
   "id": "9285b55b-b6f7-4708-bab4-fd5dd6c14899",
   "metadata": {},
   "outputs": [
    {
     "data": {
      "text/plain": [
       "('a', 'ser', 'b', 'sd', 'a')"
      ]
     },
     "execution_count": 67,
     "metadata": {},
     "output_type": "execute_result"
    }
   ],
   "source": [
    "#-------------looping-------------------------\n",
    "t=('a','ser','b','sd','a')\n",
    "t"
   ]
  },
  {
   "cell_type": "code",
   "execution_count": 68,
   "id": "609bd92a-2f13-4a35-9091-158db3abf0f6",
   "metadata": {},
   "outputs": [
    {
     "name": "stdout",
     "output_type": "stream",
     "text": [
      "a\n",
      "ser\n",
      "b\n",
      "sd\n",
      "a\n"
     ]
    }
   ],
   "source": [
    "for i in t:\n",
    "    print(i)"
   ]
  },
  {
   "cell_type": "code",
   "execution_count": 69,
   "id": "26c91821-e0f2-4ee4-a170-642161407888",
   "metadata": {},
   "outputs": [
    {
     "name": "stdout",
     "output_type": "stream",
     "text": [
      "(0, 'a')\n",
      "(1, 'ser')\n",
      "(2, 'b')\n",
      "(3, 'sd')\n",
      "(4, 'a')\n"
     ]
    }
   ],
   "source": [
    "for i in enumerate(t):\n",
    "    print(i)"
   ]
  },
  {
   "cell_type": "code",
   "execution_count": 70,
   "id": "a499c069-57dc-44ca-be84-8a4701113644",
   "metadata": {},
   "outputs": [
    {
     "data": {
      "text/plain": [
       "('a', 'ser', 'b', 'sd', 'a')"
      ]
     },
     "execution_count": 70,
     "metadata": {},
     "output_type": "execute_result"
    }
   ],
   "source": [
    "#--------membership------------------------\n",
    "t"
   ]
  },
  {
   "cell_type": "code",
   "execution_count": 71,
   "id": "daa20690-984c-48b9-b4e5-5ea7c2e2f00e",
   "metadata": {},
   "outputs": [
    {
     "data": {
      "text/plain": [
       "True"
      ]
     },
     "execution_count": 71,
     "metadata": {},
     "output_type": "execute_result"
    }
   ],
   "source": [
    "'a' in t #returns True/False based on value present in tuple"
   ]
  },
  {
   "cell_type": "code",
   "execution_count": 72,
   "id": "02b54836-5c57-47c1-9e0c-207dde7df338",
   "metadata": {},
   "outputs": [
    {
     "name": "stdout",
     "output_type": "stream",
     "text": [
      "value is present\n"
     ]
    }
   ],
   "source": [
    "if 'b' in t:\n",
    "    print(\"value is present\")\n",
    "else:\n",
    "    print(\"value is not present\")"
   ]
  },
  {
   "cell_type": "code",
   "execution_count": 73,
   "id": "b3b0e9c3-ede9-455e-8025-9a5de989c07f",
   "metadata": {},
   "outputs": [
    {
     "data": {
      "text/plain": [
       "('a', 'ser', 'b', 'sd', 'a')"
      ]
     },
     "execution_count": 73,
     "metadata": {},
     "output_type": "execute_result"
    }
   ],
   "source": [
    "#-----------index()----------------------------------------------\n",
    "t"
   ]
  },
  {
   "cell_type": "code",
   "execution_count": 74,
   "id": "c0ed2103-97fb-445d-849d-833d0b2b2b66",
   "metadata": {},
   "outputs": [
    {
     "data": {
      "text/plain": [
       "0"
      ]
     },
     "execution_count": 74,
     "metadata": {},
     "output_type": "execute_result"
    }
   ],
   "source": [
    "t.index('a') #returns the index of first occurance"
   ]
  },
  {
   "cell_type": "code",
   "execution_count": 75,
   "id": "b7bdd27a-e557-4fc7-83eb-d4740c3e5107",
   "metadata": {},
   "outputs": [
    {
     "data": {
      "text/plain": [
       "1"
      ]
     },
     "execution_count": 75,
     "metadata": {},
     "output_type": "execute_result"
    }
   ],
   "source": [
    "t.index('ser')"
   ]
  },
  {
   "cell_type": "code",
   "execution_count": 76,
   "id": "f0fae66e-ce96-4d8b-a7eb-55077fb239e1",
   "metadata": {},
   "outputs": [
    {
     "ename": "ValueError",
     "evalue": "tuple.index(x): x not in tuple",
     "output_type": "error",
     "traceback": [
      "\u001b[1;31m---------------------------------------------------------------------------\u001b[0m",
      "\u001b[1;31mValueError\u001b[0m                                Traceback (most recent call last)",
      "Cell \u001b[1;32mIn[76], line 1\u001b[0m\n\u001b[1;32m----> 1\u001b[0m t\u001b[38;5;241m.\u001b[39mindex(\u001b[38;5;241m23\u001b[39m)\n",
      "\u001b[1;31mValueError\u001b[0m: tuple.index(x): x not in tuple"
     ]
    }
   ],
   "source": [
    "t.index(23)"
   ]
  },
  {
   "cell_type": "code",
   "execution_count": 77,
   "id": "094d9f08-ab3e-4ae8-af9a-c3fa4d799edc",
   "metadata": {},
   "outputs": [
    {
     "data": {
      "text/plain": [
       "('a', 'ser', 'b', 'sd', 'a')"
      ]
     },
     "execution_count": 77,
     "metadata": {},
     "output_type": "execute_result"
    }
   ],
   "source": [
    "#--------------------------sort------------------------------------------\n",
    "t"
   ]
  },
  {
   "cell_type": "code",
   "execution_count": 78,
   "id": "556c427a-89ef-42dc-b7e3-0cc88572837f",
   "metadata": {},
   "outputs": [
    {
     "ename": "AttributeError",
     "evalue": "'tuple' object has no attribute 'sort'",
     "output_type": "error",
     "traceback": [
      "\u001b[1;31m---------------------------------------------------------------------------\u001b[0m",
      "\u001b[1;31mAttributeError\u001b[0m                            Traceback (most recent call last)",
      "Cell \u001b[1;32mIn[78], line 1\u001b[0m\n\u001b[1;32m----> 1\u001b[0m t\u001b[38;5;241m.\u001b[39msort()\n\u001b[0;32m      2\u001b[0m t\n",
      "\u001b[1;31mAttributeError\u001b[0m: 'tuple' object has no attribute 'sort'"
     ]
    }
   ],
   "source": [
    "t.sort()\n",
    "t"
   ]
  },
  {
   "cell_type": "code",
   "execution_count": 80,
   "id": "d5f77bd6-7621-4661-9a56-4ef72623f716",
   "metadata": {},
   "outputs": [
    {
     "data": {
      "text/plain": [
       "['a', 'a', 'b', 'sd', 'ser']"
      ]
     },
     "execution_count": 80,
     "metadata": {},
     "output_type": "execute_result"
    }
   ],
   "source": [
    "sorted(t) #returns sorted tuple; original tuple is not changed"
   ]
  },
  {
   "cell_type": "code",
   "execution_count": 82,
   "id": "5402c9c8-5ad1-4b4c-a010-4a7f58d9552e",
   "metadata": {},
   "outputs": [
    {
     "data": {
      "text/plain": [
       "['ser', 'sd', 'b', 'a', 'a']"
      ]
     },
     "execution_count": 82,
     "metadata": {},
     "output_type": "execute_result"
    }
   ],
   "source": [
    "sorted(t,reverse=True)"
   ]
  },
  {
   "cell_type": "code",
   "execution_count": 83,
   "id": "36f1ed33-e347-4a9f-870a-0a464bbdd8c5",
   "metadata": {},
   "outputs": [
    {
     "data": {
      "text/plain": [
       "('a', 'ser', 'b', 'sd', 'a')"
      ]
     },
     "execution_count": 83,
     "metadata": {},
     "output_type": "execute_result"
    }
   ],
   "source": [
    "t"
   ]
  },
  {
   "cell_type": "code",
   "execution_count": 85,
   "id": "7a21d36f-7e09-4df4-9ba8-bb5067d7f3c5",
   "metadata": {},
   "outputs": [
    {
     "data": {
      "text/plain": [
       "('a', 'sd', 'b', 'ser', 'a')"
      ]
     },
     "execution_count": 85,
     "metadata": {},
     "output_type": "execute_result"
    }
   ],
   "source": [
    "t[::-1]#this also return sorted array;original is not modified"
   ]
  },
  {
   "cell_type": "code",
   "execution_count": 88,
   "id": "c21e043c-bb6e-4285-8be6-420b1f745488",
   "metadata": {},
   "outputs": [
    {
     "data": {
      "text/plain": [
       "(1, 'a', 'test', 34.56, [2, 3])"
      ]
     },
     "execution_count": 88,
     "metadata": {},
     "output_type": "execute_result"
    }
   ],
   "source": [
    "t=(1,'a','test',34.56,[2,3])\n",
    "t"
   ]
  },
  {
   "cell_type": "code",
   "execution_count": 89,
   "id": "a0410459-ec42-4159-ae51-2e1ee8146dfe",
   "metadata": {},
   "outputs": [
    {
     "ename": "TypeError",
     "evalue": "'<' not supported between instances of 'str' and 'int'",
     "output_type": "error",
     "traceback": [
      "\u001b[1;31m---------------------------------------------------------------------------\u001b[0m",
      "\u001b[1;31mTypeError\u001b[0m                                 Traceback (most recent call last)",
      "Cell \u001b[1;32mIn[89], line 1\u001b[0m\n\u001b[1;32m----> 1\u001b[0m \u001b[38;5;28msorted\u001b[39m(t)\n",
      "\u001b[1;31mTypeError\u001b[0m: '<' not supported between instances of 'str' and 'int'"
     ]
    }
   ],
   "source": [
    "sorted(t)"
   ]
  },
  {
   "cell_type": "code",
   "execution_count": null,
   "id": "f457a708-e2b2-4085-8ce0-dd57afeb8790",
   "metadata": {},
   "outputs": [],
   "source": []
  }
 ],
 "metadata": {
  "kernelspec": {
   "display_name": "Python 3 (ipykernel)",
   "language": "python",
   "name": "python3"
  },
  "language_info": {
   "codemirror_mode": {
    "name": "ipython",
    "version": 3
   },
   "file_extension": ".py",
   "mimetype": "text/x-python",
   "name": "python",
   "nbconvert_exporter": "python",
   "pygments_lexer": "ipython3",
   "version": "3.12.7"
  }
 },
 "nbformat": 4,
 "nbformat_minor": 5
}
