{
 "cells": [
  {
   "cell_type": "code",
   "execution_count": 1,
   "id": "75743ec6-6d90-43c3-b530-a4bc373290fb",
   "metadata": {},
   "outputs": [
    {
     "data": {
      "text/plain": [
       "-3.3333333333333335"
      ]
     },
     "execution_count": 1,
     "metadata": {},
     "output_type": "execute_result"
    }
   ],
   "source": [
    "-10/3"
   ]
  },
  {
   "cell_type": "code",
   "execution_count": 2,
   "id": "b2889abc-2e7e-4efe-b720-23d423ec39f1",
   "metadata": {},
   "outputs": [
    {
     "data": {
      "text/plain": [
       "-4"
      ]
     },
     "execution_count": 2,
     "metadata": {},
     "output_type": "execute_result"
    }
   ],
   "source": [
    "-10//3 #floored integer"
   ]
  },
  {
   "cell_type": "code",
   "execution_count": 3,
   "id": "ce69a769-b1ef-4c06-979f-f3a17b52db73",
   "metadata": {},
   "outputs": [
    {
     "ename": "TypeError",
     "evalue": "unsupported operand type(s) for +: 'int' and 'str'",
     "output_type": "error",
     "traceback": [
      "\u001b[1;31m---------------------------------------------------------------------------\u001b[0m",
      "\u001b[1;31mTypeError\u001b[0m                                 Traceback (most recent call last)",
      "Cell \u001b[1;32mIn[3], line 1\u001b[0m\n\u001b[1;32m----> 1\u001b[0m \u001b[38;5;241m3\u001b[39m\u001b[38;5;241m+\u001b[39m\u001b[38;5;124m'\u001b[39m\u001b[38;5;124mnit\u001b[39m\u001b[38;5;124m'\u001b[39m\n",
      "\u001b[1;31mTypeError\u001b[0m: unsupported operand type(s) for +: 'int' and 'str'"
     ]
    }
   ],
   "source": [
    "3+'nit' #not allowed"
   ]
  },
  {
   "cell_type": "code",
   "execution_count": 4,
   "id": "944add9b-8bcc-40db-aced-fd6d6dbc5df8",
   "metadata": {},
   "outputs": [
    {
     "data": {
      "text/plain": [
       "'nitnitnit'"
      ]
     },
     "execution_count": 4,
     "metadata": {},
     "output_type": "execute_result"
    }
   ],
   "source": [
    "3*'nit'"
   ]
  },
  {
   "cell_type": "code",
   "execution_count": 5,
   "id": "4f3471b1-2092-423a-8b55-d2a7483a9775",
   "metadata": {},
   "outputs": [
    {
     "data": {
      "text/plain": [
       "'nitwe'"
      ]
     },
     "execution_count": 5,
     "metadata": {},
     "output_type": "execute_result"
    }
   ],
   "source": [
    "'nit'+'we'"
   ]
  },
  {
   "cell_type": "code",
   "execution_count": 6,
   "id": "91819eed-e3c7-455f-a1d2-45b9808610bf",
   "metadata": {},
   "outputs": [
    {
     "name": "stdout",
     "output_type": "stream",
     "text": [
      "nitwe\n"
     ]
    }
   ],
   "source": [
    "print('nit'+'we')"
   ]
  },
  {
   "cell_type": "code",
   "execution_count": 7,
   "id": "aef85424-455f-406f-b42e-30bf0b09d171",
   "metadata": {},
   "outputs": [
    {
     "name": "stdout",
     "output_type": "stream",
     "text": [
      "c:\n",
      "it\n"
     ]
    }
   ],
   "source": [
    "print('c:\\nit')"
   ]
  },
  {
   "cell_type": "code",
   "execution_count": 8,
   "id": "e6c469a4-9b83-45a4-8dfb-93320ee59d5f",
   "metadata": {},
   "outputs": [
    {
     "name": "stdout",
     "output_type": "stream",
     "text": [
      "c:\\nit\n"
     ]
    }
   ],
   "source": [
    "print('c:\\\\nit')"
   ]
  },
  {
   "cell_type": "code",
   "execution_count": 9,
   "id": "a84c3064-4bc1-43b1-9632-f40fb315ebc1",
   "metadata": {},
   "outputs": [
    {
     "name": "stdout",
     "output_type": "stream",
     "text": [
      "c:\\nit\n"
     ]
    }
   ],
   "source": [
    "print(r'c:\\nit') #raw string"
   ]
  },
  {
   "cell_type": "code",
   "execution_count": 10,
   "id": "4ab3a735-ced4-45c6-9ea6-903c17542d18",
   "metadata": {},
   "outputs": [
    {
     "data": {
      "text/plain": [
       "'nitwe'"
      ]
     },
     "execution_count": 10,
     "metadata": {},
     "output_type": "execute_result"
    }
   ],
   "source": [
    "_"
   ]
  },
  {
   "cell_type": "code",
   "execution_count": 11,
   "id": "97265e12-0da6-4ed8-b235-d96998dbf08c",
   "metadata": {},
   "outputs": [
    {
     "data": {
      "text/plain": [
       "str"
      ]
     },
     "execution_count": 11,
     "metadata": {},
     "output_type": "execute_result"
    }
   ],
   "source": [
    "type(_)"
   ]
  },
  {
   "cell_type": "code",
   "execution_count": 12,
   "id": "fcdeb4e4-22c9-4bb3-98e7-6e96c33073dc",
   "metadata": {},
   "outputs": [
    {
     "name": "stdout",
     "output_type": "stream",
     "text": [
      "Welcome to Python 3.12's help utility! If this is your first time using\n",
      "Python, you should definitely check out the tutorial at\n",
      "https://docs.python.org/3.12/tutorial/.\n",
      "\n",
      "Enter the name of any module, keyword, or topic to get help on writing\n",
      "Python programs and using Python modules.  To get a list of available\n",
      "modules, keywords, symbols, or topics, enter \"modules\", \"keywords\",\n",
      "\"symbols\", or \"topics\".\n",
      "\n",
      "Each module also comes with a one-line summary of what it does; to list\n",
      "the modules whose name or summary contain a given string such as \"spam\",\n",
      "enter \"modules spam\".\n",
      "\n",
      "To quit this help utility and return to the interpreter,\n",
      "enter \"q\" or \"quit\".\n",
      "\n"
     ]
    },
    {
     "name": "stdin",
     "output_type": "stream",
     "text": [
      "help>  q\n"
     ]
    },
    {
     "name": "stdout",
     "output_type": "stream",
     "text": [
      "\n",
      "You are now leaving help and returning to the Python interpreter.\n",
      "If you want to ask for help on a particular object directly from the\n",
      "interpreter, you can type \"help(object)\".  Executing \"help('string')\"\n",
      "has the same effect as typing a particular string at the help> prompt.\n"
     ]
    }
   ],
   "source": [
    "help()"
   ]
  },
  {
   "cell_type": "code",
   "execution_count": null,
   "id": "306c4d9c-a455-40d1-a270-a7f067884a84",
   "metadata": {},
   "outputs": [],
   "source": [
    "help()"
   ]
  },
  {
   "cell_type": "code",
   "execution_count": 13,
   "id": "8874af23-91f1-4026-a485-7c5b41f9c665",
   "metadata": {},
   "outputs": [
    {
     "data": {
      "text/plain": [
       "3.141592653589793"
      ]
     },
     "execution_count": 13,
     "metadata": {},
     "output_type": "execute_result"
    }
   ],
   "source": [
    "import math\n",
    "math.pi\n"
   ]
  },
  {
   "cell_type": "code",
   "execution_count": 14,
   "id": "4c2ab200-6edc-499f-af61-6ce90bad7ac7",
   "metadata": {},
   "outputs": [],
   "source": [
    "math.pi=3.15 #in python, there is no concept of constants; even pi value can be changed;\n"
   ]
  },
  {
   "cell_type": "code",
   "execution_count": 15,
   "id": "e16ef2ab-8392-4d6d-8b3e-2f0326f6f3ed",
   "metadata": {},
   "outputs": [
    {
     "data": {
      "text/plain": [
       "3.15"
      ]
     },
     "execution_count": 15,
     "metadata": {},
     "output_type": "execute_result"
    }
   ],
   "source": [
    "math.pi"
   ]
  },
  {
   "cell_type": "code",
   "execution_count": 16,
   "id": "e5718964-bfac-4db4-b0a7-ea4102480314",
   "metadata": {},
   "outputs": [],
   "source": [
    "#-----------------------------------Another data type - range--------------------------------------\n",
    "r=range(0,10) # range has three arguments - start, stop, step count; from start till stop(excluded) with given step count"
   ]
  },
  {
   "cell_type": "code",
   "execution_count": 17,
   "id": "8bf81790-5bb3-478e-89fd-57d3175ad70a",
   "metadata": {},
   "outputs": [
    {
     "data": {
      "text/plain": [
       "range(0, 10)"
      ]
     },
     "execution_count": 17,
     "metadata": {},
     "output_type": "execute_result"
    }
   ],
   "source": [
    "r"
   ]
  },
  {
   "cell_type": "code",
   "execution_count": 18,
   "id": "fe5e51af-4fd1-4d10-a797-5d545f229bec",
   "metadata": {},
   "outputs": [
    {
     "data": {
      "text/plain": [
       "range"
      ]
     },
     "execution_count": 18,
     "metadata": {},
     "output_type": "execute_result"
    }
   ],
   "source": [
    "type(r)"
   ]
  },
  {
   "cell_type": "code",
   "execution_count": 19,
   "id": "f4e76bc8-c3b3-4e2a-b976-6d9f0b474a08",
   "metadata": {},
   "outputs": [
    {
     "data": {
      "text/plain": [
       "[0, 1, 2, 3, 4, 5, 6, 7, 8, 9]"
      ]
     },
     "execution_count": 19,
     "metadata": {},
     "output_type": "execute_result"
    }
   ],
   "source": [
    "list(range(0,10))"
   ]
  },
  {
   "cell_type": "code",
   "execution_count": 20,
   "id": "c18f127d-762d-4f04-81a7-7a9838fcccfc",
   "metadata": {},
   "outputs": [
    {
     "data": {
      "text/plain": [
       "[0, 1, 2, 3, 4, 5, 6, 7, 8, 9]"
      ]
     },
     "execution_count": 20,
     "metadata": {},
     "output_type": "execute_result"
    }
   ],
   "source": [
    "list(r)"
   ]
  },
  {
   "cell_type": "code",
   "execution_count": 21,
   "id": "93413a37-9524-4460-8761-cfea0151feff",
   "metadata": {},
   "outputs": [
    {
     "data": {
      "text/plain": [
       "range(0, 10)"
      ]
     },
     "execution_count": 21,
     "metadata": {},
     "output_type": "execute_result"
    }
   ],
   "source": [
    "r"
   ]
  },
  {
   "cell_type": "code",
   "execution_count": 22,
   "id": "7013408c-7491-483b-adb0-e1c30b9dd05b",
   "metadata": {},
   "outputs": [
    {
     "data": {
      "text/plain": [
       "[1, 2, 3]"
      ]
     },
     "execution_count": 22,
     "metadata": {},
     "output_type": "execute_result"
    }
   ],
   "source": [
    "l=[1,2,3]\n",
    "l"
   ]
  },
  {
   "cell_type": "code",
   "execution_count": 23,
   "id": "11f19067-686a-4b5c-983f-12c47c5442cb",
   "metadata": {},
   "outputs": [
    {
     "data": {
      "text/plain": [
       "[1, 2, 3]"
      ]
     },
     "execution_count": 23,
     "metadata": {},
     "output_type": "execute_result"
    }
   ],
   "source": [
    "list(l)"
   ]
  },
  {
   "cell_type": "code",
   "execution_count": 24,
   "id": "4dd6144c-2026-4dcc-8749-6862cc13c83f",
   "metadata": {},
   "outputs": [
    {
     "data": {
      "text/plain": [
       "list"
      ]
     },
     "execution_count": 24,
     "metadata": {},
     "output_type": "execute_result"
    }
   ],
   "source": [
    "list"
   ]
  },
  {
   "cell_type": "code",
   "execution_count": 25,
   "id": "0da0fed4-340f-4cd8-a810-fda8681c721a",
   "metadata": {},
   "outputs": [
    {
     "data": {
      "text/plain": [
       "[0, 2, 4, 6, 8]"
      ]
     },
     "execution_count": 25,
     "metadata": {},
     "output_type": "execute_result"
    }
   ],
   "source": [
    "list(range(0,10,2))"
   ]
  },
  {
   "cell_type": "code",
   "execution_count": 26,
   "id": "8b2979d7-d573-4223-b943-07d47fd457fa",
   "metadata": {},
   "outputs": [
    {
     "data": {
      "text/plain": [
       "[-90, -88, -86, -84, -82, -80, -78, -76, -74, -72]"
      ]
     },
     "execution_count": 26,
     "metadata": {},
     "output_type": "execute_result"
    }
   ],
   "source": [
    "list(range(-90,-70,2))"
   ]
  },
  {
   "cell_type": "markdown",
   "id": "2114655f-3d15-4019-aa18-65244f006e80",
   "metadata": {},
   "source": [
    "#Operators-------------------------------------------------------------------------------------------------------------------------"
   ]
  },
  {
   "cell_type": "code",
   "execution_count": 27,
   "id": "a702da81-066f-4e98-980b-28be17bc7230",
   "metadata": {},
   "outputs": [],
   "source": [
    "a,b=10,5"
   ]
  },
  {
   "cell_type": "code",
   "execution_count": 28,
   "id": "752e14e8-8475-4c4c-a392-5b14a572f6c0",
   "metadata": {},
   "outputs": [
    {
     "data": {
      "text/plain": [
       "10"
      ]
     },
     "execution_count": 28,
     "metadata": {},
     "output_type": "execute_result"
    }
   ],
   "source": [
    "a"
   ]
  },
  {
   "cell_type": "code",
   "execution_count": 29,
   "id": "945e2433-94e7-4a9d-9c70-2afb4ebd1719",
   "metadata": {},
   "outputs": [
    {
     "data": {
      "text/plain": [
       "5"
      ]
     },
     "execution_count": 29,
     "metadata": {},
     "output_type": "execute_result"
    }
   ],
   "source": [
    "b"
   ]
  },
  {
   "cell_type": "code",
   "execution_count": 30,
   "id": "8f7de384-b6c9-4760-826e-144b52c4b545",
   "metadata": {},
   "outputs": [
    {
     "name": "stdout",
     "output_type": "stream",
     "text": [
      "a= 10 b= 5\n",
      "a+b= 15\n",
      "a-b=5\n",
      "a*b=50\n",
      "a/b= 2.0\n",
      "a//b= 2\n",
      "a**b= 100000\n"
     ]
    }
   ],
   "source": [
    "#---------------------------------------Arithmatic operators-------------------------------------------------\n",
    "print('a=',a,'b=',b)\n",
    "print('a+b=',a+b)\n",
    "print('a-b={}'.format(a-b))\n",
    "print(f'a*b={a*b}')\n",
    "print('a/b=',a/b)#floating point division\n",
    "print('a//b=',a//b)#floored division\n",
    "print('a**b=',a**b)#to the power of"
   ]
  },
  {
   "cell_type": "code",
   "execution_count": 31,
   "id": "de2ee9e2-d4f8-4b1c-b02f-2a9a5e4cf2ab",
   "metadata": {},
   "outputs": [
    {
     "name": "stdout",
     "output_type": "stream",
     "text": [
      "before operation a+=: a= 10 b= 5\n",
      "After operation a+=: a= 15 b= 5 \n",
      "\n",
      "before operation a-=: a= 15 b= 5\n",
      "after operation a-=: a= 10 b= 5 \n",
      "\n",
      "before operation a*=: a= 10 b= 5\n",
      "after operation a*=: a= 50 b= 5 \n",
      "\n",
      "before operation a/=: a= 50 b= 5\n",
      "after operation a/=: a= 10.0 b= 5 \n",
      "\n",
      "before operation a**=: a= 10.0 b= 5\n",
      "after operation a**=: a= 100000.0 b= 5 \n",
      "\n",
      "before operation a//=: a= 100000.0 b= 5\n",
      "after operation a//=: a= 20000.0 b= 5 \n",
      "\n"
     ]
    }
   ],
   "source": [
    "#-------------------------------------------Assignment Operators-----------------------------------------------------\n",
    "a,b=10,5\n",
    "print('before operation a+=:','a=',a,'b=',b)\n",
    "a+=b\n",
    "print('After operation a+=:','a=',a,'b=',b,'\\n')\n",
    "print('before operation a-=:','a=',a,'b=',b)\n",
    "a-=b\n",
    "print('after operation a-=:','a=',a,'b=',b,'\\n')\n",
    "print('before operation a*=:','a=',a,'b=',b)\n",
    "a*=b\n",
    "print('after operation a*=:','a=',a,'b=',b,'\\n')\n",
    "print('before operation a/=:','a=',a,'b=',b)\n",
    "a/=b\n",
    "print('after operation a/=:','a=',a,'b=',b,'\\n')\n",
    "print('before operation a**=:','a=',a,'b=',b)\n",
    "a**=b\n",
    "print('after operation a**=:','a=',a,'b=',b,'\\n')\n",
    "print('before operation a//=:','a=',a,'b=',b)\n",
    "a//=b\n",
    "print('after operation a//=:','a=',a,'b=',b,'\\n')"
   ]
  },
  {
   "cell_type": "code",
   "execution_count": 32,
   "id": "dbe0c7fd-0d81-4a86-b835-32db2724e289",
   "metadata": {},
   "outputs": [
    {
     "data": {
      "text/plain": [
       "5.0"
      ]
     },
     "execution_count": 32,
     "metadata": {},
     "output_type": "execute_result"
    }
   ],
   "source": [
    "10/2"
   ]
  },
  {
   "cell_type": "code",
   "execution_count": 33,
   "id": "849e7d71-2b65-43e1-860c-4df487b4e9cc",
   "metadata": {},
   "outputs": [
    {
     "data": {
      "text/plain": [
       "5"
      ]
     },
     "execution_count": 33,
     "metadata": {},
     "output_type": "execute_result"
    }
   ],
   "source": [
    "10//2"
   ]
  },
  {
   "cell_type": "code",
   "execution_count": 34,
   "id": "0f4000d5-1179-4461-88e1-3e09724c9294",
   "metadata": {},
   "outputs": [
    {
     "data": {
      "text/plain": [
       "5.0"
      ]
     },
     "execution_count": 34,
     "metadata": {},
     "output_type": "execute_result"
    }
   ],
   "source": [
    "10.0/2"
   ]
  },
  {
   "cell_type": "code",
   "execution_count": 35,
   "id": "99ddda96-301a-48f5-b64a-be01daf3b0df",
   "metadata": {},
   "outputs": [
    {
     "data": {
      "text/plain": [
       "5.0"
      ]
     },
     "execution_count": 35,
     "metadata": {},
     "output_type": "execute_result"
    }
   ],
   "source": [
    "10.0//2"
   ]
  },
  {
   "cell_type": "code",
   "execution_count": 36,
   "id": "323011ff-dbbd-48ab-90aa-54f285c1ae69",
   "metadata": {},
   "outputs": [
    {
     "name": "stdout",
     "output_type": "stream",
     "text": [
      "a= 5 b= 6\n",
      "5>6=False\n",
      "5<6=True\n",
      "5>=6=False\n",
      "5<=6=True\n",
      "5==6=False\n",
      "5>6=False\n"
     ]
    }
   ],
   "source": [
    "#---------------------------------------relational operators-------------------------------------------------\n",
    "a,b=5,6\n",
    "print('a=',a,'b=',b)\n",
    "print(f'{a}>{b}={a>b}')\n",
    "print(f'{a}<{b}={a<b}')\n",
    "print(f'{a}>={b}={a>=b}')\n",
    "print(f'{a}<={b}={a<=b}')\n",
    "print(f'{a}=={b}={a==b}')\n",
    "print(f'{a}>{b}={a>b}')"
   ]
  },
  {
   "cell_type": "markdown",
   "id": "793d46d7-15a3-4f64-8662-33eccfa8fe66",
   "metadata": {},
   "source": [
    "#Number System\n"
   ]
  },
  {
   "cell_type": "code",
   "execution_count": 37,
   "id": "4bcb7fee-4b1c-4e26-a1ab-0d30ecc22cc8",
   "metadata": {},
   "outputs": [
    {
     "data": {
      "text/plain": [
       "'0b11001'"
      ]
     },
     "execution_count": 37,
     "metadata": {},
     "output_type": "execute_result"
    }
   ],
   "source": [
    "#Binary\n",
    "#Octal\n",
    "#Decimal\n",
    "#Hexa decimal\n",
    "\n",
    "#----------------------------------------------Binary-------------------------------------------\n",
    "bin(25) #prefixed with 0b"
   ]
  },
  {
   "cell_type": "code",
   "execution_count": 38,
   "id": "bdae7322-e428-449c-8cdf-eb43916012ef",
   "metadata": {},
   "outputs": [
    {
     "data": {
      "text/plain": [
       "25"
      ]
     },
     "execution_count": 38,
     "metadata": {},
     "output_type": "execute_result"
    }
   ],
   "source": [
    "int(0b11001)"
   ]
  },
  {
   "cell_type": "code",
   "execution_count": 98,
   "id": "ba3680ad-d482-41a3-95a0-ba7a4184f90f",
   "metadata": {},
   "outputs": [
    {
     "data": {
      "text/plain": [
       "15"
      ]
     },
     "execution_count": 98,
     "metadata": {},
     "output_type": "execute_result"
    }
   ],
   "source": [
    "a=0b1111\n",
    "a"
   ]
  },
  {
   "cell_type": "code",
   "execution_count": 100,
   "id": "d4dba5fd-5e90-4ddf-97f8-a9445ff26d7e",
   "metadata": {},
   "outputs": [
    {
     "data": {
      "text/plain": [
       "'0b1111'"
      ]
     },
     "execution_count": 100,
     "metadata": {},
     "output_type": "execute_result"
    }
   ],
   "source": [
    "bin(a)"
   ]
  },
  {
   "cell_type": "code",
   "execution_count": 99,
   "id": "5a2aa861-964f-4ff1-83dd-51913c798fe6",
   "metadata": {},
   "outputs": [
    {
     "data": {
      "text/plain": [
       "'0b1111'"
      ]
     },
     "execution_count": 99,
     "metadata": {},
     "output_type": "execute_result"
    }
   ],
   "source": [
    "bin(15)"
   ]
  },
  {
   "cell_type": "code",
   "execution_count": 101,
   "id": "f96a1c4d-e59f-44f0-9bd4-7209edbf0f4e",
   "metadata": {},
   "outputs": [
    {
     "ename": "SyntaxError",
     "evalue": "invalid digit '2' in binary literal (1941633150.py, line 1)",
     "output_type": "error",
     "traceback": [
      "\u001b[1;36m  Cell \u001b[1;32mIn[101], line 1\u001b[1;36m\u001b[0m\n\u001b[1;33m    a=0b23\u001b[0m\n\u001b[1;37m        ^\u001b[0m\n\u001b[1;31mSyntaxError\u001b[0m\u001b[1;31m:\u001b[0m invalid digit '2' in binary literal\n"
     ]
    }
   ],
   "source": [
    "a=0b23 #binary format(0b) allows only two digits 0/1; if others are specified, error will come"
   ]
  },
  {
   "cell_type": "code",
   "execution_count": 39,
   "id": "8cebc6a6-0803-4f40-811e-af8cabbbdb3b",
   "metadata": {},
   "outputs": [
    {
     "data": {
      "text/plain": [
       "'0o31'"
      ]
     },
     "execution_count": 39,
     "metadata": {},
     "output_type": "execute_result"
    }
   ],
   "source": [
    "#-------------------------------------------Octal--------------------------------------------------\n",
    "oct(25)"
   ]
  },
  {
   "cell_type": "code",
   "execution_count": 40,
   "id": "e4d8c442-85f5-4298-bfe8-113ec947d4a1",
   "metadata": {},
   "outputs": [
    {
     "data": {
      "text/plain": [
       "25"
      ]
     },
     "execution_count": 40,
     "metadata": {},
     "output_type": "execute_result"
    }
   ],
   "source": [
    "int(0o31)"
   ]
  },
  {
   "cell_type": "code",
   "execution_count": 102,
   "id": "671df212-7462-40a6-8953-da18ed020807",
   "metadata": {},
   "outputs": [
    {
     "data": {
      "text/plain": [
       "1253"
      ]
     },
     "execution_count": 102,
     "metadata": {},
     "output_type": "execute_result"
    }
   ],
   "source": [
    "a=0o2345\n",
    "a"
   ]
  },
  {
   "cell_type": "code",
   "execution_count": 103,
   "id": "8aca1371-ab41-49ca-bd04-bc7e799712ae",
   "metadata": {},
   "outputs": [
    {
     "data": {
      "text/plain": [
       "'0o2345'"
      ]
     },
     "execution_count": 103,
     "metadata": {},
     "output_type": "execute_result"
    }
   ],
   "source": [
    "oct(a)"
   ]
  },
  {
   "cell_type": "code",
   "execution_count": 105,
   "id": "7cf20cf1-8dca-49e7-a5ed-04c8544da3a7",
   "metadata": {},
   "outputs": [
    {
     "ename": "SyntaxError",
     "evalue": "invalid digit '8' in octal literal (3279028764.py, line 1)",
     "output_type": "error",
     "traceback": [
      "\u001b[1;36m  Cell \u001b[1;32mIn[105], line 1\u001b[1;36m\u001b[0m\n\u001b[1;33m    a=0o189#octal format allows\u001b[0m\n\u001b[1;37m         ^\u001b[0m\n\u001b[1;31mSyntaxError\u001b[0m\u001b[1;31m:\u001b[0m invalid digit '8' in octal literal\n"
     ]
    }
   ],
   "source": [
    "a=0o189#octal format(0o) allows digits 0-7; if not error will come; "
   ]
  },
  {
   "cell_type": "code",
   "execution_count": 41,
   "id": "73cb034e-fdef-4195-b85b-bab09d030f83",
   "metadata": {},
   "outputs": [
    {
     "data": {
      "text/plain": [
       "'0x1'"
      ]
     },
     "execution_count": 41,
     "metadata": {},
     "output_type": "execute_result"
    }
   ],
   "source": [
    "#----------------------------------------Hexa decimal-------------------------------\n",
    "hex(1)"
   ]
  },
  {
   "cell_type": "code",
   "execution_count": 42,
   "id": "efd2661c-3e04-43e9-ad49-04a084b1e7be",
   "metadata": {},
   "outputs": [
    {
     "data": {
      "text/plain": [
       "'0xa'"
      ]
     },
     "execution_count": 42,
     "metadata": {},
     "output_type": "execute_result"
    }
   ],
   "source": [
    "hex(10)"
   ]
  },
  {
   "cell_type": "code",
   "execution_count": 43,
   "id": "d6d8b0a8-bd15-4cef-ae80-42d069d54186",
   "metadata": {},
   "outputs": [
    {
     "data": {
      "text/plain": [
       "'0xf'"
      ]
     },
     "execution_count": 43,
     "metadata": {},
     "output_type": "execute_result"
    }
   ],
   "source": [
    "hex(15)"
   ]
  },
  {
   "cell_type": "code",
   "execution_count": 44,
   "id": "99a17c3c-fb10-44c3-a611-bc4f0fcb802a",
   "metadata": {},
   "outputs": [
    {
     "data": {
      "text/plain": [
       "'0x10'"
      ]
     },
     "execution_count": 44,
     "metadata": {},
     "output_type": "execute_result"
    }
   ],
   "source": [
    "hex(16)"
   ]
  },
  {
   "cell_type": "code",
   "execution_count": 45,
   "id": "050fb4bb-adfc-49ec-abd8-02bcde0e607a",
   "metadata": {},
   "outputs": [
    {
     "data": {
      "text/plain": [
       "254"
      ]
     },
     "execution_count": 45,
     "metadata": {},
     "output_type": "execute_result"
    }
   ],
   "source": [
    "int(0xfe)"
   ]
  },
  {
   "cell_type": "code",
   "execution_count": 107,
   "id": "540a7609-0f9c-47e2-a8d7-4167c3e2a9e7",
   "metadata": {},
   "outputs": [
    {
     "data": {
      "text/plain": [
       "313"
      ]
     },
     "execution_count": 107,
     "metadata": {},
     "output_type": "execute_result"
    }
   ],
   "source": [
    "a=0x139\n",
    "a"
   ]
  },
  {
   "cell_type": "code",
   "execution_count": 112,
   "id": "e8b4be9f-acd8-4a3b-823a-70954df93652",
   "metadata": {},
   "outputs": [
    {
     "name": "stdout",
     "output_type": "stream",
     "text": [
      "<class 'int'>\n"
     ]
    }
   ],
   "source": [
    "a=0xabcdef #hexa decimal format allows digits 0-9 and characters a-f; else error\n",
    "a\n",
    "print(type(a))"
   ]
  },
  {
   "cell_type": "code",
   "execution_count": 111,
   "id": "6ebebd30-bfea-480a-813f-8754d83a01de",
   "metadata": {},
   "outputs": [
    {
     "data": {
      "text/plain": [
       "'0xabcdef'"
      ]
     },
     "execution_count": 111,
     "metadata": {},
     "output_type": "execute_result"
    }
   ],
   "source": [
    "hex(a)"
   ]
  },
  {
   "cell_type": "code",
   "execution_count": 116,
   "id": "2f875de6-d8ce-407a-939f-d3231b9abaa7",
   "metadata": {},
   "outputs": [
    {
     "ename": "SyntaxError",
     "evalue": "invalid syntax (294824740.py, line 1)",
     "output_type": "error",
     "traceback": [
      "\u001b[1;36m  Cell \u001b[1;32mIn[116], line 1\u001b[1;36m\u001b[0m\n\u001b[1;33m    f=0b11.01#float allows binary but not decimal point for binary format\u001b[0m\n\u001b[1;37m          ^\u001b[0m\n\u001b[1;31mSyntaxError\u001b[0m\u001b[1;31m:\u001b[0m invalid syntax\n"
     ]
    }
   ],
   "source": [
    "f=0b11.01#float allows binary but not decimal point for binary format"
   ]
  },
  {
   "cell_type": "code",
   "execution_count": 119,
   "id": "94fda3fc-fc63-4b98-bf7f-eb060b1cc042",
   "metadata": {},
   "outputs": [
    {
     "data": {
      "text/plain": [
       "157"
      ]
     },
     "execution_count": 119,
     "metadata": {},
     "output_type": "execute_result"
    }
   ],
   "source": [
    "f=0o235\n",
    "f"
   ]
  },
  {
   "cell_type": "code",
   "execution_count": 120,
   "id": "6166d3ac-8e97-45d9-9e14-476b5a930835",
   "metadata": {},
   "outputs": [
    {
     "ename": "SyntaxError",
     "evalue": "invalid syntax (3663017292.py, line 1)",
     "output_type": "error",
     "traceback": [
      "\u001b[1;36m  Cell \u001b[1;32mIn[120], line 1\u001b[1;36m\u001b[0m\n\u001b[1;33m    f=0o235.1\u001b[0m\n\u001b[1;37m           ^\u001b[0m\n\u001b[1;31mSyntaxError\u001b[0m\u001b[1;31m:\u001b[0m invalid syntax\n"
     ]
    }
   ],
   "source": [
    "f=0o235.1"
   ]
  },
  {
   "cell_type": "code",
   "execution_count": 121,
   "id": "0e1379c8-69d1-4df7-939d-d619d1851ce4",
   "metadata": {},
   "outputs": [
    {
     "ename": "SyntaxError",
     "evalue": "invalid octal literal (4121688031.py, line 1)",
     "output_type": "error",
     "traceback": [
      "\u001b[1;36m  Cell \u001b[1;32mIn[121], line 1\u001b[1;36m\u001b[0m\n\u001b[1;33m    f=0o\u001b[0m\n\u001b[1;37m       ^\u001b[0m\n\u001b[1;31mSyntaxError\u001b[0m\u001b[1;31m:\u001b[0m invalid octal literal\n"
     ]
    }
   ],
   "source": [
    "f=0o"
   ]
  },
  {
   "cell_type": "code",
   "execution_count": 123,
   "id": "a5f74d65-0925-432d-8b5a-cb5b71325607",
   "metadata": {},
   "outputs": [
    {
     "data": {
      "text/plain": [
       "1000.0"
      ]
     },
     "execution_count": 123,
     "metadata": {},
     "output_type": "execute_result"
    }
   ],
   "source": [
    "#e letter in float------------------------------------\n",
    "f=1e3\n",
    "f"
   ]
  },
  {
   "cell_type": "code",
   "execution_count": 127,
   "id": "4600723e-2235-45ed-98f3-a7c2e19d4135",
   "metadata": {},
   "outputs": [
    {
     "ename": "NameError",
     "evalue": "name 'e4' is not defined",
     "output_type": "error",
     "traceback": [
      "\u001b[1;31m---------------------------------------------------------------------------\u001b[0m",
      "\u001b[1;31mNameError\u001b[0m                                 Traceback (most recent call last)",
      "Cell \u001b[1;32mIn[127], line 1\u001b[0m\n\u001b[1;32m----> 1\u001b[0m e\u001b[38;5;241m=\u001b[39me4\n",
      "\u001b[1;31mNameError\u001b[0m: name 'e4' is not defined"
     ]
    }
   ],
   "source": [
    "e=e4"
   ]
  },
  {
   "cell_type": "code",
   "execution_count": 130,
   "id": "ab2232d4-edc9-4a85-a6ea-3d17c4387ee3",
   "metadata": {},
   "outputs": [
    {
     "data": {
      "text/plain": [
       "12000.0"
      ]
     },
     "execution_count": 130,
     "metadata": {},
     "output_type": "execute_result"
    }
   ],
   "source": [
    "e=1.2e4#e is allowed only after a digit\n",
    "e"
   ]
  },
  {
   "cell_type": "code",
   "execution_count": 134,
   "id": "e6ab3b62-f9e5-45b7-bc00-8a019891ad93",
   "metadata": {},
   "outputs": [
    {
     "ename": "AttributeError",
     "evalue": "'int' object has no attribute 'e1'",
     "output_type": "error",
     "traceback": [
      "\u001b[1;31m---------------------------------------------------------------------------\u001b[0m",
      "\u001b[1;31mAttributeError\u001b[0m                            Traceback (most recent call last)",
      "Cell \u001b[1;32mIn[134], line 1\u001b[0m\n\u001b[1;32m----> 1\u001b[0m e\u001b[38;5;241m=\u001b[39m\u001b[38;5;241m0xe1\u001b[39m\u001b[38;5;241m.\u001b[39me1\n\u001b[0;32m      2\u001b[0m e\n",
      "\u001b[1;31mAttributeError\u001b[0m: 'int' object has no attribute 'e1'"
     ]
    }
   ],
   "source": [
    "e=0xe1.e1\n",
    "e"
   ]
  },
  {
   "cell_type": "code",
   "execution_count": 137,
   "id": "94585349-68af-490d-8d0a-894594154e3f",
   "metadata": {},
   "outputs": [
    {
     "data": {
      "text/plain": [
       "30.0"
      ]
     },
     "execution_count": 137,
     "metadata": {},
     "output_type": "execute_result"
    }
   ],
   "source": [
    "f=3e1\n",
    "f"
   ]
  },
  {
   "cell_type": "code",
   "execution_count": 126,
   "id": "643622cc-9cd7-4611-9576-fded608359fe",
   "metadata": {},
   "outputs": [
    {
     "data": {
      "text/plain": [
       "240000.0"
      ]
     },
     "execution_count": 126,
     "metadata": {},
     "output_type": "execute_result"
    }
   ],
   "source": [
    "f=2.4E5#only letter e is allowed; small/capital not a matter\n",
    "f"
   ]
  },
  {
   "cell_type": "code",
   "execution_count": 140,
   "id": "39e42a40-8090-41e5-b9f3-cfcdac70ab3b",
   "metadata": {},
   "outputs": [
    {
     "data": {
      "text/plain": [
       "(1+2j)"
      ]
     },
     "execution_count": 140,
     "metadata": {},
     "output_type": "execute_result"
    }
   ],
   "source": [
    "j=1+2j\n",
    "j"
   ]
  },
  {
   "cell_type": "code",
   "execution_count": 143,
   "id": "ae6f5557-2a13-43c7-8a46-9cdacc59f12f",
   "metadata": {},
   "outputs": [
    {
     "ename": "SyntaxError",
     "evalue": "invalid digit '2' in binary literal (4202699897.py, line 2)",
     "output_type": "error",
     "traceback": [
      "\u001b[1;36m  Cell \u001b[1;32mIn[143], line 2\u001b[1;36m\u001b[0m\n\u001b[1;33m    c2=12+0b12j #imaginary part cannot be binary\u001b[0m\n\u001b[1;37m             ^\u001b[0m\n\u001b[1;31mSyntaxError\u001b[0m\u001b[1;31m:\u001b[0m invalid digit '2' in binary literal\n"
     ]
    }
   ],
   "source": [
    "c1=12+23j\n",
    "c2=12+0b12j #imaginary part cannot be binary\n",
    "print(c1)\n",
    "print(c2)"
   ]
  },
  {
   "cell_type": "code",
   "execution_count": 145,
   "id": "99df4743-0452-4e24-8a6b-d8da76d7b08e",
   "metadata": {},
   "outputs": [
    {
     "ename": "SyntaxError",
     "evalue": "invalid octal literal (235696097.py, line 2)",
     "output_type": "error",
     "traceback": [
      "\u001b[1;36m  Cell \u001b[1;32mIn[145], line 2\u001b[1;36m\u001b[0m\n\u001b[1;33m    c2=12+0o127j #imaginary part cannot be octal\u001b[0m\n\u001b[1;37m              ^\u001b[0m\n\u001b[1;31mSyntaxError\u001b[0m\u001b[1;31m:\u001b[0m invalid octal literal\n"
     ]
    }
   ],
   "source": [
    "c1=12+23j\n",
    "c2=12+0o127j #imaginary part cannot be octal\n",
    "print(c1)\n",
    "print(c2)"
   ]
  },
  {
   "cell_type": "code",
   "execution_count": 148,
   "id": "c845e3f6-a61e-43ef-917e-e179d05b0307",
   "metadata": {},
   "outputs": [
    {
     "ename": "SyntaxError",
     "evalue": "invalid hexadecimal literal (785630491.py, line 2)",
     "output_type": "error",
     "traceback": [
      "\u001b[1;36m  Cell \u001b[1;32mIn[148], line 2\u001b[1;36m\u001b[0m\n\u001b[1;33m    c2=12+0x12dj #imaginary part cannot be hexa decimal\u001b[0m\n\u001b[1;37m              ^\u001b[0m\n\u001b[1;31mSyntaxError\u001b[0m\u001b[1;31m:\u001b[0m invalid hexadecimal literal\n"
     ]
    }
   ],
   "source": [
    "c1=12+23j\n",
    "c2=12+0x12dj #imaginary part cannot be hexa decimal\n",
    "print(c1)\n",
    "print(c2)"
   ]
  },
  {
   "cell_type": "code",
   "execution_count": 149,
   "id": "6bca3026-5cae-4ccf-b650-35e4d13a45c6",
   "metadata": {},
   "outputs": [
    {
     "name": "stdout",
     "output_type": "stream",
     "text": [
      "(12+23j)\n",
      "(12+12j)\n"
     ]
    }
   ],
   "source": [
    "c1=12+23j\n",
    "c2=12+12j #imaginary part cannot be binary\n",
    "print(c1)\n",
    "print(c2)"
   ]
  },
  {
   "cell_type": "code",
   "execution_count": 46,
   "id": "c5887441-e4b5-4820-ad40-2b7630104c02",
   "metadata": {},
   "outputs": [],
   "source": [
    "a=5\n",
    "b=6\n"
   ]
  },
  {
   "cell_type": "code",
   "execution_count": 47,
   "id": "4696689d-f319-4d58-ad6d-14859b880628",
   "metadata": {},
   "outputs": [
    {
     "data": {
      "text/plain": [
       "5"
      ]
     },
     "execution_count": 47,
     "metadata": {},
     "output_type": "execute_result"
    }
   ],
   "source": [
    "a\n"
   ]
  },
  {
   "cell_type": "code",
   "execution_count": 48,
   "id": "326f87ae-2a33-494e-8392-364e0057ff45",
   "metadata": {},
   "outputs": [
    {
     "data": {
      "text/plain": [
       "6"
      ]
     },
     "execution_count": 48,
     "metadata": {},
     "output_type": "execute_result"
    }
   ],
   "source": [
    "b"
   ]
  },
  {
   "cell_type": "code",
   "execution_count": 49,
   "id": "24e7832f-dc2a-41cc-b1a4-242f5a2c680a",
   "metadata": {},
   "outputs": [],
   "source": [
    "a,b=b,a"
   ]
  },
  {
   "cell_type": "code",
   "execution_count": 50,
   "id": "5f5edc37-6b7a-4338-8205-e619526cfe84",
   "metadata": {},
   "outputs": [
    {
     "data": {
      "text/plain": [
       "6"
      ]
     },
     "execution_count": 50,
     "metadata": {},
     "output_type": "execute_result"
    }
   ],
   "source": [
    "a"
   ]
  },
  {
   "cell_type": "code",
   "execution_count": 51,
   "id": "30aa9f4d-fb01-40c5-a6b7-b9242b99cb87",
   "metadata": {},
   "outputs": [
    {
     "data": {
      "text/plain": [
       "5"
      ]
     },
     "execution_count": 51,
     "metadata": {},
     "output_type": "execute_result"
    }
   ],
   "source": [
    "b"
   ]
  },
  {
   "cell_type": "code",
   "execution_count": 52,
   "id": "bcebd39a-909d-4561-b969-f6a7c1f31c64",
   "metadata": {},
   "outputs": [
    {
     "data": {
      "text/plain": [
       "12"
      ]
     },
     "execution_count": 52,
     "metadata": {},
     "output_type": "execute_result"
    }
   ],
   "source": [
    "#----------------------------Bit wise operators------------------------------------------------\n",
    "12"
   ]
  },
  {
   "cell_type": "code",
   "execution_count": 53,
   "id": "f18bbf5b-d9ae-49a4-bea2-43b7028cd547",
   "metadata": {},
   "outputs": [
    {
     "data": {
      "text/plain": [
       "-13"
      ]
     },
     "execution_count": 53,
     "metadata": {},
     "output_type": "execute_result"
    }
   ],
   "source": [
    "~12"
   ]
  },
  {
   "cell_type": "code",
   "execution_count": 54,
   "id": "5e05bf7e-22ee-469c-ab60-12d76ee09b8c",
   "metadata": {},
   "outputs": [
    {
     "data": {
      "text/plain": [
       "48"
      ]
     },
     "execution_count": 54,
     "metadata": {},
     "output_type": "execute_result"
    }
   ],
   "source": [
    "12<<2"
   ]
  },
  {
   "cell_type": "code",
   "execution_count": 55,
   "id": "4526a5df-339c-41eb-b6f9-7823f36d45ce",
   "metadata": {},
   "outputs": [],
   "source": [
    "a=23\n",
    "b=50"
   ]
  },
  {
   "cell_type": "code",
   "execution_count": 56,
   "id": "a5c03d81-4dd7-402f-86b2-1d1eb5094ce5",
   "metadata": {},
   "outputs": [
    {
     "data": {
      "text/plain": [
       "(23, 50)"
      ]
     },
     "execution_count": 56,
     "metadata": {},
     "output_type": "execute_result"
    }
   ],
   "source": [
    "a,b#will print a and b side by side as a tuple"
   ]
  },
  {
   "cell_type": "code",
   "execution_count": 57,
   "id": "8e46ddcb-b268-4152-8ccd-98350b8b2f5c",
   "metadata": {},
   "outputs": [
    {
     "data": {
      "text/plain": [
       "tuple"
      ]
     },
     "execution_count": 57,
     "metadata": {},
     "output_type": "execute_result"
    }
   ],
   "source": [
    "type((a,b))"
   ]
  },
  {
   "cell_type": "code",
   "execution_count": 58,
   "id": "f950946b-43db-4495-85ff-769411cc354d",
   "metadata": {},
   "outputs": [],
   "source": [
    "x=None\n",
    "x"
   ]
  },
  {
   "cell_type": "code",
   "execution_count": 59,
   "id": "987b1070-12c0-4565-a3f9-41f2eeeb994f",
   "metadata": {},
   "outputs": [
    {
     "data": {
      "text/plain": [
       "NoneType"
      ]
     },
     "execution_count": 59,
     "metadata": {},
     "output_type": "execute_result"
    }
   ],
   "source": [
    "type(x)"
   ]
  },
  {
   "cell_type": "code",
   "execution_count": 60,
   "id": "66cdc9e2-20b7-45b8-a6c1-e05ef23e1c81",
   "metadata": {},
   "outputs": [],
   "source": [
    "#identifier can be of any length; no limit in python\n",
    "aaaaaaaaaaaaaaaaaaaaaaaaaaaaaaaaaaaaaaaaaaaaaaaaaaaaaaaaaaaaaaaaaaaaaaaaaaaaaaaaaaaaaaaaaaaaaaaaaaa=23"
   ]
  },
  {
   "cell_type": "code",
   "execution_count": 61,
   "id": "ef1c5cd3-e783-43a2-9891-f88043594421",
   "metadata": {},
   "outputs": [
    {
     "data": {
      "text/plain": [
       "23"
      ]
     },
     "execution_count": 61,
     "metadata": {},
     "output_type": "execute_result"
    }
   ],
   "source": [
    "aaaaaaaaaaaaaaaaaaaaaaaaaaaaaaaaaaaaaaaaaaaaaaaaaaaaaaaaaaaaaaaaaaaaaaaaaaaaaaaaaaaaaaaaaaaaaaaaaaa"
   ]
  },
  {
   "cell_type": "code",
   "execution_count": 62,
   "id": "20a4b881-a339-4464-9e11-125620d72836",
   "metadata": {},
   "outputs": [
    {
     "ename": "SyntaxError",
     "evalue": "invalid syntax (540031018.py, line 1)",
     "output_type": "error",
     "traceback": [
      "\u001b[1;36m  Cell \u001b[1;32mIn[62], line 1\u001b[1;36m\u001b[0m\n\u001b[1;33m    r a=12 #no space is allowed for variable names\u001b[0m\n\u001b[1;37m      ^\u001b[0m\n\u001b[1;31mSyntaxError\u001b[0m\u001b[1;31m:\u001b[0m invalid syntax\n"
     ]
    }
   ],
   "source": [
    "r a=12 #no space is allowed for variable names"
   ]
  },
  {
   "cell_type": "code",
   "execution_count": 63,
   "id": "94b85d94-a2dd-4bdf-8912-787c897375e1",
   "metadata": {},
   "outputs": [],
   "source": [
    "ra = 12"
   ]
  },
  {
   "cell_type": "code",
   "execution_count": 64,
   "id": "8a463d90-b7fe-426a-8f35-0919070143cf",
   "metadata": {},
   "outputs": [
    {
     "data": {
      "text/plain": [
       "12"
      ]
     },
     "execution_count": 64,
     "metadata": {},
     "output_type": "execute_result"
    }
   ],
   "source": [
    "ra"
   ]
  },
  {
   "cell_type": "code",
   "execution_count": 65,
   "id": "8f88d606-5197-49c1-9cab-309a272bea25",
   "metadata": {},
   "outputs": [
    {
     "data": {
      "text/plain": [
       "2"
      ]
     },
     "execution_count": 65,
     "metadata": {},
     "output_type": "execute_result"
    }
   ],
   "source": [
    "True+True"
   ]
  },
  {
   "cell_type": "code",
   "execution_count": 66,
   "id": "bd33bb91-7613-4478-951f-79f929955760",
   "metadata": {},
   "outputs": [
    {
     "data": {
      "text/plain": [
       "0"
      ]
     },
     "execution_count": 66,
     "metadata": {},
     "output_type": "execute_result"
    }
   ],
   "source": [
    "True-True"
   ]
  },
  {
   "cell_type": "code",
   "execution_count": 67,
   "id": "59565fc2-fc54-4268-815b-e3663c4b6e86",
   "metadata": {},
   "outputs": [
    {
     "ename": "TypeError",
     "evalue": "unsupported operand type(s) for +: 'NoneType' and 'bool'",
     "output_type": "error",
     "traceback": [
      "\u001b[1;31m---------------------------------------------------------------------------\u001b[0m",
      "\u001b[1;31mTypeError\u001b[0m                                 Traceback (most recent call last)",
      "Cell \u001b[1;32mIn[67], line 1\u001b[0m\n\u001b[1;32m----> 1\u001b[0m \u001b[38;5;28;01mNone\u001b[39;00m\u001b[38;5;241m+\u001b[39m\u001b[38;5;28;01mTrue\u001b[39;00m\n",
      "\u001b[1;31mTypeError\u001b[0m: unsupported operand type(s) for +: 'NoneType' and 'bool'"
     ]
    }
   ],
   "source": [
    "None+True"
   ]
  },
  {
   "cell_type": "code",
   "execution_count": 68,
   "id": "ab4d4dd1-54fd-4d5c-9de7-d0b40b8a1c72",
   "metadata": {},
   "outputs": [
    {
     "data": {
      "text/plain": [
       "1"
      ]
     },
     "execution_count": 68,
     "metadata": {},
     "output_type": "execute_result"
    }
   ],
   "source": [
    "False+True"
   ]
  },
  {
   "cell_type": "code",
   "execution_count": 69,
   "id": "d1eace70-f018-4254-a64c-3fdab7cf3a1e",
   "metadata": {},
   "outputs": [
    {
     "data": {
      "text/plain": [
       "-1"
      ]
     },
     "execution_count": 69,
     "metadata": {},
     "output_type": "execute_result"
    }
   ],
   "source": [
    "False-True"
   ]
  },
  {
   "cell_type": "code",
   "execution_count": 70,
   "id": "27e799be-6eac-4b74-90f8-c89ac1563b72",
   "metadata": {},
   "outputs": [
    {
     "data": {
      "text/plain": [
       "['False',\n",
       " 'None',\n",
       " 'True',\n",
       " 'and',\n",
       " 'as',\n",
       " 'assert',\n",
       " 'async',\n",
       " 'await',\n",
       " 'break',\n",
       " 'class',\n",
       " 'continue',\n",
       " 'def',\n",
       " 'del',\n",
       " 'elif',\n",
       " 'else',\n",
       " 'except',\n",
       " 'finally',\n",
       " 'for',\n",
       " 'from',\n",
       " 'global',\n",
       " 'if',\n",
       " 'import',\n",
       " 'in',\n",
       " 'is',\n",
       " 'lambda',\n",
       " 'nonlocal',\n",
       " 'not',\n",
       " 'or',\n",
       " 'pass',\n",
       " 'raise',\n",
       " 'return',\n",
       " 'try',\n",
       " 'while',\n",
       " 'with',\n",
       " 'yield']"
      ]
     },
     "execution_count": 70,
     "metadata": {},
     "output_type": "execute_result"
    }
   ],
   "source": [
    "import keyword\n",
    "keyword.kwlist"
   ]
  },
  {
   "cell_type": "code",
   "execution_count": 71,
   "id": "e30879c1-dc24-4d06-a0f3-3825e74424b0",
   "metadata": {},
   "outputs": [
    {
     "data": {
      "text/plain": [
       "<enumerate at 0x1c9903c0a40>"
      ]
     },
     "execution_count": 71,
     "metadata": {},
     "output_type": "execute_result"
    }
   ],
   "source": [
    "enumerate(keyword.kwlist)"
   ]
  },
  {
   "cell_type": "code",
   "execution_count": 72,
   "id": "8de038f1-a60f-4e8f-bdb7-e6421b978430",
   "metadata": {},
   "outputs": [
    {
     "name": "stdout",
     "output_type": "stream",
     "text": [
      "(0, 'False')\n",
      "(1, 'None')\n",
      "(2, 'True')\n",
      "(3, 'and')\n",
      "(4, 'as')\n",
      "(5, 'assert')\n",
      "(6, 'async')\n",
      "(7, 'await')\n",
      "(8, 'break')\n",
      "(9, 'class')\n",
      "(10, 'continue')\n",
      "(11, 'def')\n",
      "(12, 'del')\n",
      "(13, 'elif')\n",
      "(14, 'else')\n",
      "(15, 'except')\n",
      "(16, 'finally')\n",
      "(17, 'for')\n",
      "(18, 'from')\n",
      "(19, 'global')\n",
      "(20, 'if')\n",
      "(21, 'import')\n",
      "(22, 'in')\n",
      "(23, 'is')\n",
      "(24, 'lambda')\n",
      "(25, 'nonlocal')\n",
      "(26, 'not')\n",
      "(27, 'or')\n",
      "(28, 'pass')\n",
      "(29, 'raise')\n",
      "(30, 'return')\n",
      "(31, 'try')\n",
      "(32, 'while')\n",
      "(33, 'with')\n",
      "(34, 'yield')\n"
     ]
    }
   ],
   "source": [
    "for i in enumerate(keyword.kwlist):\n",
    "    print(i)"
   ]
  },
  {
   "cell_type": "code",
   "execution_count": 73,
   "id": "d2dcab63-8d6e-45a2-88fb-8c764613cb1d",
   "metadata": {},
   "outputs": [],
   "source": [
    "t1=enumerate(keyword.kwlist)"
   ]
  },
  {
   "cell_type": "code",
   "execution_count": 74,
   "id": "92b766b6-5b81-42f1-a808-4df1d55cfc86",
   "metadata": {},
   "outputs": [
    {
     "data": {
      "text/plain": [
       "<enumerate at 0x1c9903c09a0>"
      ]
     },
     "execution_count": 74,
     "metadata": {},
     "output_type": "execute_result"
    }
   ],
   "source": [
    "t1"
   ]
  },
  {
   "cell_type": "code",
   "execution_count": 75,
   "id": "38cd0f25-9872-4bd7-8888-8985f6096da7",
   "metadata": {},
   "outputs": [
    {
     "name": "stdout",
     "output_type": "stream",
     "text": [
      "(0, 'False')\n",
      "(1, 'None')\n",
      "(2, 'True')\n",
      "(3, 'and')\n",
      "(4, 'as')\n",
      "(5, 'assert')\n",
      "(6, 'async')\n",
      "(7, 'await')\n",
      "(8, 'break')\n",
      "(9, 'class')\n",
      "(10, 'continue')\n",
      "(11, 'def')\n",
      "(12, 'del')\n",
      "(13, 'elif')\n",
      "(14, 'else')\n",
      "(15, 'except')\n",
      "(16, 'finally')\n",
      "(17, 'for')\n",
      "(18, 'from')\n",
      "(19, 'global')\n",
      "(20, 'if')\n",
      "(21, 'import')\n",
      "(22, 'in')\n",
      "(23, 'is')\n",
      "(24, 'lambda')\n",
      "(25, 'nonlocal')\n",
      "(26, 'not')\n",
      "(27, 'or')\n",
      "(28, 'pass')\n",
      "(29, 'raise')\n",
      "(30, 'return')\n",
      "(31, 'try')\n",
      "(32, 'while')\n",
      "(33, 'with')\n",
      "(34, 'yield')\n"
     ]
    }
   ],
   "source": [
    "for i in t1:\n",
    "    print(i)"
   ]
  },
  {
   "cell_type": "code",
   "execution_count": 76,
   "id": "981a106a-7f83-461c-93f6-035675f8cee1",
   "metadata": {},
   "outputs": [],
   "source": [
    "#enumerate will give indexed values"
   ]
  },
  {
   "cell_type": "code",
   "execution_count": 77,
   "id": "9657f10a-fd88-4496-aafd-bb042dedf661",
   "metadata": {},
   "outputs": [],
   "source": [
    "#we can also give index using pandas also\n",
    "import pandas as pd\n",
    "df=pd.DataFrame(keyword.kwlist)"
   ]
  },
  {
   "cell_type": "code",
   "execution_count": 78,
   "id": "4090981c-3957-49c9-b4a9-1198a197107c",
   "metadata": {},
   "outputs": [
    {
     "data": {
      "text/html": [
       "<div>\n",
       "<style scoped>\n",
       "    .dataframe tbody tr th:only-of-type {\n",
       "        vertical-align: middle;\n",
       "    }\n",
       "\n",
       "    .dataframe tbody tr th {\n",
       "        vertical-align: top;\n",
       "    }\n",
       "\n",
       "    .dataframe thead th {\n",
       "        text-align: right;\n",
       "    }\n",
       "</style>\n",
       "<table border=\"1\" class=\"dataframe\">\n",
       "  <thead>\n",
       "    <tr style=\"text-align: right;\">\n",
       "      <th></th>\n",
       "      <th>0</th>\n",
       "    </tr>\n",
       "  </thead>\n",
       "  <tbody>\n",
       "    <tr>\n",
       "      <th>0</th>\n",
       "      <td>False</td>\n",
       "    </tr>\n",
       "    <tr>\n",
       "      <th>1</th>\n",
       "      <td>None</td>\n",
       "    </tr>\n",
       "    <tr>\n",
       "      <th>2</th>\n",
       "      <td>True</td>\n",
       "    </tr>\n",
       "    <tr>\n",
       "      <th>3</th>\n",
       "      <td>and</td>\n",
       "    </tr>\n",
       "    <tr>\n",
       "      <th>4</th>\n",
       "      <td>as</td>\n",
       "    </tr>\n",
       "    <tr>\n",
       "      <th>5</th>\n",
       "      <td>assert</td>\n",
       "    </tr>\n",
       "    <tr>\n",
       "      <th>6</th>\n",
       "      <td>async</td>\n",
       "    </tr>\n",
       "    <tr>\n",
       "      <th>7</th>\n",
       "      <td>await</td>\n",
       "    </tr>\n",
       "    <tr>\n",
       "      <th>8</th>\n",
       "      <td>break</td>\n",
       "    </tr>\n",
       "    <tr>\n",
       "      <th>9</th>\n",
       "      <td>class</td>\n",
       "    </tr>\n",
       "    <tr>\n",
       "      <th>10</th>\n",
       "      <td>continue</td>\n",
       "    </tr>\n",
       "    <tr>\n",
       "      <th>11</th>\n",
       "      <td>def</td>\n",
       "    </tr>\n",
       "    <tr>\n",
       "      <th>12</th>\n",
       "      <td>del</td>\n",
       "    </tr>\n",
       "    <tr>\n",
       "      <th>13</th>\n",
       "      <td>elif</td>\n",
       "    </tr>\n",
       "    <tr>\n",
       "      <th>14</th>\n",
       "      <td>else</td>\n",
       "    </tr>\n",
       "    <tr>\n",
       "      <th>15</th>\n",
       "      <td>except</td>\n",
       "    </tr>\n",
       "    <tr>\n",
       "      <th>16</th>\n",
       "      <td>finally</td>\n",
       "    </tr>\n",
       "    <tr>\n",
       "      <th>17</th>\n",
       "      <td>for</td>\n",
       "    </tr>\n",
       "    <tr>\n",
       "      <th>18</th>\n",
       "      <td>from</td>\n",
       "    </tr>\n",
       "    <tr>\n",
       "      <th>19</th>\n",
       "      <td>global</td>\n",
       "    </tr>\n",
       "    <tr>\n",
       "      <th>20</th>\n",
       "      <td>if</td>\n",
       "    </tr>\n",
       "    <tr>\n",
       "      <th>21</th>\n",
       "      <td>import</td>\n",
       "    </tr>\n",
       "    <tr>\n",
       "      <th>22</th>\n",
       "      <td>in</td>\n",
       "    </tr>\n",
       "    <tr>\n",
       "      <th>23</th>\n",
       "      <td>is</td>\n",
       "    </tr>\n",
       "    <tr>\n",
       "      <th>24</th>\n",
       "      <td>lambda</td>\n",
       "    </tr>\n",
       "    <tr>\n",
       "      <th>25</th>\n",
       "      <td>nonlocal</td>\n",
       "    </tr>\n",
       "    <tr>\n",
       "      <th>26</th>\n",
       "      <td>not</td>\n",
       "    </tr>\n",
       "    <tr>\n",
       "      <th>27</th>\n",
       "      <td>or</td>\n",
       "    </tr>\n",
       "    <tr>\n",
       "      <th>28</th>\n",
       "      <td>pass</td>\n",
       "    </tr>\n",
       "    <tr>\n",
       "      <th>29</th>\n",
       "      <td>raise</td>\n",
       "    </tr>\n",
       "    <tr>\n",
       "      <th>30</th>\n",
       "      <td>return</td>\n",
       "    </tr>\n",
       "    <tr>\n",
       "      <th>31</th>\n",
       "      <td>try</td>\n",
       "    </tr>\n",
       "    <tr>\n",
       "      <th>32</th>\n",
       "      <td>while</td>\n",
       "    </tr>\n",
       "    <tr>\n",
       "      <th>33</th>\n",
       "      <td>with</td>\n",
       "    </tr>\n",
       "    <tr>\n",
       "      <th>34</th>\n",
       "      <td>yield</td>\n",
       "    </tr>\n",
       "  </tbody>\n",
       "</table>\n",
       "</div>"
      ],
      "text/plain": [
       "           0\n",
       "0      False\n",
       "1       None\n",
       "2       True\n",
       "3        and\n",
       "4         as\n",
       "5     assert\n",
       "6      async\n",
       "7      await\n",
       "8      break\n",
       "9      class\n",
       "10  continue\n",
       "11       def\n",
       "12       del\n",
       "13      elif\n",
       "14      else\n",
       "15    except\n",
       "16   finally\n",
       "17       for\n",
       "18      from\n",
       "19    global\n",
       "20        if\n",
       "21    import\n",
       "22        in\n",
       "23        is\n",
       "24    lambda\n",
       "25  nonlocal\n",
       "26       not\n",
       "27        or\n",
       "28      pass\n",
       "29     raise\n",
       "30    return\n",
       "31       try\n",
       "32     while\n",
       "33      with\n",
       "34     yield"
      ]
     },
     "execution_count": 78,
     "metadata": {},
     "output_type": "execute_result"
    }
   ],
   "source": [
    "df"
   ]
  },
  {
   "cell_type": "code",
   "execution_count": 79,
   "id": "138b29ba-2e41-439a-a6ca-47ddcabd05a4",
   "metadata": {},
   "outputs": [
    {
     "data": {
      "text/plain": [
       "list"
      ]
     },
     "execution_count": 79,
     "metadata": {},
     "output_type": "execute_result"
    }
   ],
   "source": [
    "type(keyword.kwlist)"
   ]
  },
  {
   "cell_type": "code",
   "execution_count": 80,
   "id": "4756a387-4b5c-494b-9133-9c1b76a142ef",
   "metadata": {},
   "outputs": [
    {
     "data": {
      "text/plain": [
       "bytes"
      ]
     },
     "execution_count": 80,
     "metadata": {},
     "output_type": "execute_result"
    }
   ],
   "source": [
    "bytes"
   ]
  },
  {
   "cell_type": "code",
   "execution_count": 81,
   "id": "1fb11039-3a3f-45be-b325-ace85c2809b2",
   "metadata": {},
   "outputs": [],
   "source": [
    "s1='hello'"
   ]
  },
  {
   "cell_type": "code",
   "execution_count": 82,
   "id": "81bb57f0-baf4-4111-97ac-5522efa35a4c",
   "metadata": {},
   "outputs": [
    {
     "data": {
      "text/plain": [
       "int"
      ]
     },
     "execution_count": 82,
     "metadata": {},
     "output_type": "execute_result"
    }
   ],
   "source": [
    "type(45)"
   ]
  },
  {
   "cell_type": "code",
   "execution_count": 83,
   "id": "6192aff7-5b22-43e6-9315-4f879fefab6d",
   "metadata": {},
   "outputs": [
    {
     "data": {
      "text/plain": [
       "type"
      ]
     },
     "execution_count": 83,
     "metadata": {},
     "output_type": "execute_result"
    }
   ],
   "source": [
    "type(int)"
   ]
  },
  {
   "cell_type": "code",
   "execution_count": 84,
   "id": "aef1fc7b-0659-40a5-87fd-2c9f8903de13",
   "metadata": {},
   "outputs": [],
   "source": [
    "s=set()"
   ]
  },
  {
   "cell_type": "code",
   "execution_count": 85,
   "id": "50afefd3-97e5-4fad-b35d-46750a79399b",
   "metadata": {},
   "outputs": [
    {
     "data": {
      "text/plain": [
       "set()"
      ]
     },
     "execution_count": 85,
     "metadata": {},
     "output_type": "execute_result"
    }
   ],
   "source": [
    "s"
   ]
  },
  {
   "cell_type": "code",
   "execution_count": 86,
   "id": "f3e3226c-8716-4da5-8511-9ad4a668c257",
   "metadata": {},
   "outputs": [
    {
     "data": {
      "text/plain": [
       "set"
      ]
     },
     "execution_count": 86,
     "metadata": {},
     "output_type": "execute_result"
    }
   ],
   "source": [
    "type(s)"
   ]
  },
  {
   "cell_type": "code",
   "execution_count": 87,
   "id": "421555d2-9fb8-4efc-865f-c0f4f34d0aee",
   "metadata": {},
   "outputs": [
    {
     "name": "stdout",
     "output_type": "stream",
     "text": [
      "<class 'set'>\n"
     ]
    }
   ],
   "source": [
    "print(type(s))"
   ]
  },
  {
   "cell_type": "code",
   "execution_count": 88,
   "id": "5c060505-944b-4115-927c-94d78f53df39",
   "metadata": {},
   "outputs": [
    {
     "name": "stdout",
     "output_type": "stream",
     "text": [
      "<class 'int'>\n"
     ]
    }
   ],
   "source": [
    "print(type(34))"
   ]
  },
  {
   "cell_type": "code",
   "execution_count": 89,
   "id": "3c52f08d-5366-4d64-ae3b-1c74adc3d903",
   "metadata": {},
   "outputs": [],
   "source": [
    "v=int(23)"
   ]
  },
  {
   "cell_type": "code",
   "execution_count": 90,
   "id": "07717b73-da04-402b-8baf-95298ddb9d5a",
   "metadata": {},
   "outputs": [
    {
     "data": {
      "text/plain": [
       "23"
      ]
     },
     "execution_count": 90,
     "metadata": {},
     "output_type": "execute_result"
    }
   ],
   "source": [
    "v"
   ]
  },
  {
   "cell_type": "code",
   "execution_count": 91,
   "id": "9df6aa85-9d41-437f-90a8-cbe03c70b940",
   "metadata": {},
   "outputs": [
    {
     "name": "stdout",
     "output_type": "stream",
     "text": [
      "<class 'int'>\n"
     ]
    }
   ],
   "source": [
    "print(type(v))"
   ]
  },
  {
   "cell_type": "code",
   "execution_count": 92,
   "id": "5425a43a-3ce5-47b6-91cd-0018f27cd50e",
   "metadata": {},
   "outputs": [],
   "source": [
    "s='hello'"
   ]
  },
  {
   "cell_type": "code",
   "execution_count": 93,
   "id": "5513bcce-7a53-41aa-9c38-11674eadce32",
   "metadata": {},
   "outputs": [
    {
     "data": {
      "text/plain": [
       "'h'"
      ]
     },
     "execution_count": 93,
     "metadata": {},
     "output_type": "execute_result"
    }
   ],
   "source": [
    "s[0]"
   ]
  },
  {
   "cell_type": "code",
   "execution_count": 94,
   "id": "8b754ac8-a894-47c7-85ba-396f6322f776",
   "metadata": {},
   "outputs": [],
   "source": [
    "s='test'"
   ]
  },
  {
   "cell_type": "code",
   "execution_count": 95,
   "id": "d37bf30b-a45b-4563-87ae-41bc659cabc8",
   "metadata": {},
   "outputs": [
    {
     "data": {
      "text/plain": [
       "'test'"
      ]
     },
     "execution_count": 95,
     "metadata": {},
     "output_type": "execute_result"
    }
   ],
   "source": [
    "s"
   ]
  },
  {
   "cell_type": "code",
   "execution_count": 96,
   "id": "d3ff182d-326f-4da9-a48b-81e8e48e227f",
   "metadata": {},
   "outputs": [
    {
     "data": {
      "text/plain": [
       "3.15"
      ]
     },
     "execution_count": 96,
     "metadata": {},
     "output_type": "execute_result"
    }
   ],
   "source": [
    "math.pi"
   ]
  },
  {
   "cell_type": "code",
   "execution_count": 97,
   "id": "c74b9215-78a3-4a8b-b20b-5a78e7bc4f9b",
   "metadata": {},
   "outputs": [
    {
     "data": {
      "text/plain": [
       "3.15"
      ]
     },
     "execution_count": 97,
     "metadata": {},
     "output_type": "execute_result"
    }
   ],
   "source": [
    "math.pi.conjugate()"
   ]
  },
  {
   "cell_type": "code",
   "execution_count": 150,
   "id": "51628048-31df-4928-8f76-d2f05946a0de",
   "metadata": {},
   "outputs": [
    {
     "name": "stdout",
     "output_type": "stream",
     "text": [
      "10\n",
      "10\n"
     ]
    }
   ],
   "source": [
    "x=10\n",
    "y=10\n",
    "print(x)\n",
    "print(y)"
   ]
  },
  {
   "cell_type": "code",
   "execution_count": 151,
   "id": "63bd688d-15cf-4acc-aa3a-cf4219960336",
   "metadata": {},
   "outputs": [
    {
     "data": {
      "text/plain": [
       "(140713706334936, 140713706334936)"
      ]
     },
     "execution_count": 151,
     "metadata": {},
     "output_type": "execute_result"
    }
   ],
   "source": [
    "id(x),id(y)"
   ]
  },
  {
   "cell_type": "code",
   "execution_count": 152,
   "id": "19d349d1-7ef1-4bf0-84ed-e61bace05538",
   "metadata": {},
   "outputs": [],
   "source": [
    "x=34\n"
   ]
  },
  {
   "cell_type": "code",
   "execution_count": 153,
   "id": "c1abdc02-769b-4067-9261-2923d64e2697",
   "metadata": {},
   "outputs": [
    {
     "data": {
      "text/plain": [
       "34"
      ]
     },
     "execution_count": 153,
     "metadata": {},
     "output_type": "execute_result"
    }
   ],
   "source": [
    "x"
   ]
  },
  {
   "cell_type": "code",
   "execution_count": 154,
   "id": "e4c2599e-5ef0-4d2b-bf49-13d45d214d65",
   "metadata": {},
   "outputs": [],
   "source": [
    "#-------------------------is---------------------------------------\n",
    "a=10\n",
    "b=12"
   ]
  },
  {
   "cell_type": "code",
   "execution_count": 155,
   "id": "53c3e976-1bd5-4fec-b3eb-ae4c49159a85",
   "metadata": {},
   "outputs": [
    {
     "data": {
      "text/plain": [
       "False"
      ]
     },
     "execution_count": 155,
     "metadata": {},
     "output_type": "execute_result"
    }
   ],
   "source": [
    "a is b"
   ]
  },
  {
   "cell_type": "code",
   "execution_count": 156,
   "id": "96d834c2-7bd5-4c69-913b-636c180f3499",
   "metadata": {},
   "outputs": [],
   "source": [
    "a=b=10"
   ]
  },
  {
   "cell_type": "code",
   "execution_count": 157,
   "id": "b44b6ec3-17c9-4fb8-86f1-4dff186cb4e1",
   "metadata": {},
   "outputs": [
    {
     "data": {
      "text/plain": [
       "True"
      ]
     },
     "execution_count": 157,
     "metadata": {},
     "output_type": "execute_result"
    }
   ],
   "source": [
    "a is b"
   ]
  },
  {
   "cell_type": "code",
   "execution_count": 158,
   "id": "6deab761-0db3-4860-8b71-da775a6f2b65",
   "metadata": {},
   "outputs": [
    {
     "data": {
      "text/plain": [
       "10"
      ]
     },
     "execution_count": 158,
     "metadata": {},
     "output_type": "execute_result"
    }
   ],
   "source": [
    "a=int(10)\n",
    "a"
   ]
  },
  {
   "cell_type": "code",
   "execution_count": 159,
   "id": "f33a3ad3-1ff2-43e4-b3c3-a0745e44b95c",
   "metadata": {},
   "outputs": [
    {
     "data": {
      "text/plain": [
       "140713706334936"
      ]
     },
     "execution_count": 159,
     "metadata": {},
     "output_type": "execute_result"
    }
   ],
   "source": [
    "id(a)"
   ]
  },
  {
   "cell_type": "code",
   "execution_count": 160,
   "id": "4de16cc1-927d-422f-8af4-fe339f69d509",
   "metadata": {},
   "outputs": [
    {
     "data": {
      "text/plain": [
       "10"
      ]
     },
     "execution_count": 160,
     "metadata": {},
     "output_type": "execute_result"
    }
   ],
   "source": [
    "b=int(b)\n",
    "b"
   ]
  },
  {
   "cell_type": "code",
   "execution_count": 161,
   "id": "ffc24e4a-489a-49d1-ad09-d7dd6f1c2916",
   "metadata": {},
   "outputs": [
    {
     "data": {
      "text/plain": [
       "140713706334936"
      ]
     },
     "execution_count": 161,
     "metadata": {},
     "output_type": "execute_result"
    }
   ],
   "source": [
    "id(b)"
   ]
  },
  {
   "cell_type": "code",
   "execution_count": null,
   "id": "ce88eb4b-dd43-41aa-969e-eda27e45004d",
   "metadata": {},
   "outputs": [],
   "source": []
  }
 ],
 "metadata": {
  "kernelspec": {
   "display_name": "Python 3 (ipykernel)",
   "language": "python",
   "name": "python3"
  },
  "language_info": {
   "codemirror_mode": {
    "name": "ipython",
    "version": 3
   },
   "file_extension": ".py",
   "mimetype": "text/x-python",
   "name": "python",
   "nbconvert_exporter": "python",
   "pygments_lexer": "ipython3",
   "version": "3.12.7"
  }
 },
 "nbformat": 4,
 "nbformat_minor": 5
}
