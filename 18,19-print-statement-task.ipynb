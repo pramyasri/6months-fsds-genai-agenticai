{
 "cells": [
  {
   "cell_type": "markdown",
   "id": "2384b1c0-587b-49cd-b6b4-1d45caaf3998",
   "metadata": {},
   "source": [
    "#Use of Print - used for showing the result to use in our specified format"
   ]
  },
  {
   "cell_type": "code",
   "execution_count": 1,
   "id": "35150a99-1268-45b1-b28b-e2e09e4466e3",
   "metadata": {},
   "outputs": [],
   "source": [
    "a=10\n",
    "b=20"
   ]
  },
  {
   "cell_type": "code",
   "execution_count": 2,
   "id": "7f941966-6db4-438b-8828-661676c64a2b",
   "metadata": {},
   "outputs": [
    {
     "data": {
      "text/plain": [
       "20"
      ]
     },
     "execution_count": 2,
     "metadata": {},
     "output_type": "execute_result"
    }
   ],
   "source": [
    "#here only last line result will be shown\n",
    "a\n",
    "b"
   ]
  },
  {
   "cell_type": "code",
   "execution_count": 3,
   "id": "b4cb8767-4a08-4179-983f-9701758bc8c0",
   "metadata": {},
   "outputs": [
    {
     "name": "stdout",
     "output_type": "stream",
     "text": [
      "10\n",
      "20\n"
     ]
    }
   ],
   "source": [
    "#here print is used to see desired the line results\n",
    "print(a)\n",
    "print(b)"
   ]
  },
  {
   "cell_type": "code",
   "execution_count": 4,
   "id": "cd02c4a5-8096-46b5-89dd-7a37fc2411ae",
   "metadata": {},
   "outputs": [
    {
     "name": "stdout",
     "output_type": "stream",
     "text": [
      "10 20\n"
     ]
    }
   ],
   "source": [
    "print(a,b) #, is the sepatater"
   ]
  },
  {
   "cell_type": "code",
   "execution_count": 5,
   "id": "a246fdea-369f-4b0e-9dab-29760b6e2960",
   "metadata": {},
   "outputs": [
    {
     "name": "stdout",
     "output_type": "stream",
     "text": [
      "10 20 python\n"
     ]
    }
   ],
   "source": [
    "print(a,b,'python')"
   ]
  },
  {
   "cell_type": "code",
   "execution_count": 6,
   "id": "a6b4ea64-c88f-47b1-ae4f-9ee24d4e2e6d",
   "metadata": {},
   "outputs": [
    {
     "name": "stdout",
     "output_type": "stream",
     "text": [
      "a= 10 b= 20\n"
     ]
    }
   ],
   "source": [
    "print('a=',a,'b=',b) #we can use our own format to show"
   ]
  },
  {
   "cell_type": "code",
   "execution_count": 10,
   "id": "5be29f6f-b3e6-46c2-adfa-2ad124572740",
   "metadata": {},
   "outputs": [],
   "source": [
    "num1=10\n",
    "num2=20\n",
    "result=num1+num2"
   ]
  },
  {
   "cell_type": "code",
   "execution_count": 11,
   "id": "981202d5-8bdb-457d-86a0-1936ee20805a",
   "metadata": {},
   "outputs": [
    {
     "name": "stdout",
     "output_type": "stream",
     "text": [
      "The sum of 10 and 20 is 30\n"
     ]
    }
   ],
   "source": [
    "print('The sum of',num1,'and',num2,'is',result)"
   ]
  },
  {
   "cell_type": "code",
   "execution_count": 12,
   "id": "46c629e0-03aa-49ce-b2d6-3b081e4ee1a3",
   "metadata": {},
   "outputs": [
    {
     "name": "stdout",
     "output_type": "stream",
     "text": [
      "Hello, My name is python and I am  10 year old from  Hyderabad\n"
     ]
    }
   ],
   "source": [
    "name='python'\n",
    "age=10\n",
    "city='Hyderabad'\n",
    "#print - 'Hello, My name is python and I am 10 year old from Hyderabad\n",
    "print('Hello, My name is',name,'and I am ',age,'year old from ',city)"
   ]
  },
  {
   "cell_type": "code",
   "execution_count": 13,
   "id": "272c3017-b3a0-4398-b1f7-c85b37aaa67a",
   "metadata": {},
   "outputs": [
    {
     "name": "stdout",
     "output_type": "stream",
     "text": [
      "The sum of 10 and 20 is 30\n"
     ]
    }
   ],
   "source": [
    "print('The sum of',num1,'and',num2,'is',result)"
   ]
  },
  {
   "cell_type": "markdown",
   "id": "00bfe613-94a1-49e2-bfec-05247a234246",
   "metadata": {},
   "source": [
    "#Print Format method----------------------------------------------------------------------------------------------------------------"
   ]
  },
  {
   "cell_type": "code",
   "execution_count": 14,
   "id": "a6e32c86-8834-4f67-8341-98983dd951fe",
   "metadata": {},
   "outputs": [
    {
     "name": "stdout",
     "output_type": "stream",
     "text": [
      "The sum of 10 and 20 is 30\n"
     ]
    }
   ],
   "source": [
    "# The above line can be printed using format method of print\n",
    "print('The sum of {} and {} is {}'.format(num1,num2,result))"
   ]
  },
  {
   "cell_type": "code",
   "execution_count": 17,
   "id": "1b37ff73-099c-4cbc-ac7a-cf885b1fdfd7",
   "metadata": {},
   "outputs": [
    {
     "name": "stdout",
     "output_type": "stream",
     "text": [
      "Hello, My name is python and I am 10 year old from Hyderabad\n"
     ]
    }
   ],
   "source": [
    "#print - 'Hello, My name is python and I am 10 year old from Hyderabad\n",
    "print('Hello, My name is',name,'and I am',age,'year old from',city)"
   ]
  },
  {
   "cell_type": "code",
   "execution_count": 16,
   "id": "75b92ef4-d759-4653-abe3-7bf509cfadc2",
   "metadata": {},
   "outputs": [
    {
     "name": "stdout",
     "output_type": "stream",
     "text": [
      "Hello, My name is python and I am 10 year old from Hyderabad\n"
     ]
    }
   ],
   "source": [
    "#the above line using format method of print\n",
    "print('Hello, My name is {} and I am {} year old from {}'.format(name,age,city))"
   ]
  },
  {
   "cell_type": "markdown",
   "id": "e65bc96d-418a-498d-a693-3e44bd9d0e82",
   "metadata": {},
   "source": [
    "#More Short Print - using f string method-------------------------------------------------------------------------------------------"
   ]
  },
  {
   "cell_type": "code",
   "execution_count": 19,
   "id": "e4f3be4c-61f8-45d0-b1e6-2fe8603bf20f",
   "metadata": {},
   "outputs": [
    {
     "name": "stdout",
     "output_type": "stream",
     "text": [
      "The sum of 10 and 20 is 30\n",
      "The sum of 10 and 20 is 30\n"
     ]
    }
   ],
   "source": [
    "print('The sum of {} and {} is {}'.format(num1,num2,result))\n",
    "\n",
    "# the above line can be written with f string method as - ...................................................................\n",
    "print(f'The sum of {num1} and {num2} is {result}')"
   ]
  },
  {
   "cell_type": "code",
   "execution_count": 20,
   "id": "ae91b604-c85e-4526-9b17-28da4395579d",
   "metadata": {},
   "outputs": [
    {
     "name": "stdout",
     "output_type": "stream",
     "text": [
      "Hello, My name is python and I am 10 year old from Hyderabad\n",
      "Hello, My name is python and I am 10 year old from Hyderabad\n"
     ]
    }
   ],
   "source": [
    "print('Hello, My name is {} and I am {} year old from {}'.format(name,age,city))\n",
    "\n",
    "#the above line using f string method of print.......................................................\n",
    "print(f'Hello, My name is {name} and I am {age} year old from {city}')"
   ]
  },
  {
   "cell_type": "code",
   "execution_count": 21,
   "id": "82836cca-d0bf-4a31-bd29-268462f3907c",
   "metadata": {},
   "outputs": [
    {
     "name": "stdout",
     "output_type": "stream",
     "text": [
      "The sum of 10 and 20 is 30\n",
      "The sum of 10 and 20 is 30\n",
      "The sum of 10 and 20 is 30\n"
     ]
    }
   ],
   "source": [
    "#-----------------------All Three types of Print statements-------------------------------\n",
    "num1=10\n",
    "num2=20\n",
    "result=num1+num2\n",
    "\n",
    "print('The sum of',num1,'and',num2,'is',result)\n",
    "\n",
    "print('The sum of {} and {} is {}'.format(num1,num2,result))\n",
    "\n",
    "print(f'The sum of {num1} and {num2} is {result}')"
   ]
  },
  {
   "cell_type": "code",
   "execution_count": 22,
   "id": "2ae3fdfa-b4be-4659-8bb3-2e8a43fcf903",
   "metadata": {},
   "outputs": [
    {
     "name": "stdout",
     "output_type": "stream",
     "text": [
      "Hello\n",
      "Good morning\n"
     ]
    }
   ],
   "source": [
    "# end statement--------------------------------------------------------------------------------------------------------------------\n",
    "\n",
    "print(\"Hello\") #statement 1\n",
    "print(\"Good morning\") #statement 2"
   ]
  },
  {
   "cell_type": "code",
   "execution_count": 25,
   "id": "6d3d51cc-175f-4a3b-8f22-2d8fbdcac527",
   "metadata": {},
   "outputs": [
    {
     "name": "stdout",
     "output_type": "stream",
     "text": [
      "Hello Good morning\n",
      "HelloENDGood morning\n"
     ]
    }
   ],
   "source": [
    "# print the result as \"Hello Good morning\", using end - which joins the line from end of statement 1 to starting of statement 2\n",
    "\n",
    "print(\"Hello\", end=' ')# here is the end value, can be assigned with anything\n",
    "print(\"Good morning\")\n",
    "\n",
    "print(\"Hello\", end='END')# here is the end value, can be assigned with anything\n",
    "print(\"Good morning\")"
   ]
  },
  {
   "cell_type": "code",
   "execution_count": 29,
   "id": "fba5b23e-bd64-4b73-ba19-81e013279a67",
   "metadata": {},
   "outputs": [
    {
     "name": "stdout",
     "output_type": "stream",
     "text": [
      "hello how are you?\n",
      "hello,,how,,are,,you?\n",
      "hello-->how-->are-->you?\n"
     ]
    }
   ],
   "source": [
    "#Sepatator----------------------------------------------------------------------------------------------------------------------\n",
    "# This is for separating the multiple values in a single print statement\n",
    "\n",
    "print('hello','how','are','you?') # by default, the separator is space-values will be displayed separated by space\n",
    "\n",
    "print('hello','how','are','you?',sep=',,') # here the separator is ''\n",
    "\n",
    "print('hello','how','are','you?',sep='-->') # here the separator is '-->'"
   ]
  },
  {
   "cell_type": "code",
   "execution_count": 32,
   "id": "82011898-6fb4-4a70-8474-cedbfac5aa68",
   "metadata": {},
   "outputs": [
    {
     "name": "stdout",
     "output_type": "stream",
     "text": [
      "3 .\n",
      "3.\n"
     ]
    }
   ],
   "source": [
    "#Using separator to remove the default space separator\n",
    "print(3,'.')\n",
    "\n",
    "print(3,'.',sep='') # here the space is removed and . is shown beside the 3"
   ]
  },
  {
   "cell_type": "code",
   "execution_count": 33,
   "id": "e1a636c8-e13d-4d8c-896e-832f1703baae",
   "metadata": {},
   "outputs": [
    {
     "name": "stdout",
     "output_type": "stream",
     "text": [
      "1 2\n",
      "3 .\n"
     ]
    }
   ],
   "source": [
    "print(1,2)\n",
    "print(3,'.')"
   ]
  },
  {
   "cell_type": "code",
   "execution_count": 34,
   "id": "e70e45e7-3a00-47d5-a882-3a4560eae709",
   "metadata": {},
   "outputs": [
    {
     "name": "stdout",
     "output_type": "stream",
     "text": [
      "1 2 3.\n"
     ]
    }
   ],
   "source": [
    "print(1,2,end=' ')\n",
    "print(3,'.',sep='')"
   ]
  },
  {
   "cell_type": "code",
   "execution_count": null,
   "id": "eb4cb9cd-7bd5-4766-b51c-e0319d47248b",
   "metadata": {},
   "outputs": [],
   "source": []
  }
 ],
 "metadata": {
  "kernelspec": {
   "display_name": "Python 3 (ipykernel)",
   "language": "python",
   "name": "python3"
  },
  "language_info": {
   "codemirror_mode": {
    "name": "ipython",
    "version": 3
   },
   "file_extension": ".py",
   "mimetype": "text/x-python",
   "name": "python",
   "nbconvert_exporter": "python",
   "pygments_lexer": "ipython3",
   "version": "3.12.7"
  }
 },
 "nbformat": 4,
 "nbformat_minor": 5
}
