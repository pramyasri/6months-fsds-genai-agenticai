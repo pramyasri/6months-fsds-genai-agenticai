{
 "cells": [
  {
   "cell_type": "code",
   "execution_count": 1,
   "id": "d34b9adc-92d2-4132-8070-b1939eef7bbc",
   "metadata": {},
   "outputs": [
    {
     "data": {
      "text/plain": [
       "{}"
      ]
     },
     "execution_count": 1,
     "metadata": {},
     "output_type": "execute_result"
    }
   ],
   "source": [
    "#---------------------sets-----------------------------\n",
    "\n",
    "s={} #set uses {}\n",
    "s"
   ]
  },
  {
   "cell_type": "code",
   "execution_count": 2,
   "id": "e79cee93-c5d9-417c-9419-06c3c62a2184",
   "metadata": {},
   "outputs": [
    {
     "data": {
      "text/plain": [
       "dict"
      ]
     },
     "execution_count": 2,
     "metadata": {},
     "output_type": "execute_result"
    }
   ],
   "source": [
    "type(s) # by default {} considered as a dictionary"
   ]
  },
  {
   "cell_type": "code",
   "execution_count": 3,
   "id": "5cd25a9e-7af6-4342-8262-7c500e490573",
   "metadata": {},
   "outputs": [
    {
     "data": {
      "text/plain": [
       "set()"
      ]
     },
     "execution_count": 3,
     "metadata": {},
     "output_type": "execute_result"
    }
   ],
   "source": [
    "s=set() #creating empty set\n",
    "s"
   ]
  },
  {
   "cell_type": "code",
   "execution_count": 4,
   "id": "374f602c-ac8f-42be-85a0-8af66b5998eb",
   "metadata": {},
   "outputs": [
    {
     "data": {
      "text/plain": [
       "set"
      ]
     },
     "execution_count": 4,
     "metadata": {},
     "output_type": "execute_result"
    }
   ],
   "source": [
    "type(s)"
   ]
  },
  {
   "cell_type": "code",
   "execution_count": 11,
   "id": "8e67a7be-0ceb-44df-8d10-6b6dd96caf60",
   "metadata": {},
   "outputs": [
    {
     "data": {
      "text/plain": [
       "{1, 2, 3, 45}"
      ]
     },
     "execution_count": 11,
     "metadata": {},
     "output_type": "execute_result"
    }
   ],
   "source": [
    "s={1,2,3,45}\n",
    "s"
   ]
  },
  {
   "cell_type": "code",
   "execution_count": 34,
   "id": "431edaba-7fd2-4ee3-8874-8b3af47adef5",
   "metadata": {},
   "outputs": [
    {
     "data": {
      "text/plain": [
       "{(1+2j), (23, 't'), '34', 34.45, 'a', 'as'}"
      ]
     },
     "execution_count": 34,
     "metadata": {},
     "output_type": "execute_result"
    }
   ],
   "source": [
    "s={'a','34',34.45,\"as\",(1+2j),(23,'t')} #allows multiple data types\n",
    "s"
   ]
  },
  {
   "cell_type": "code",
   "execution_count": 37,
   "id": "f99abdae-24d0-4b6c-a9de-985751c54eb8",
   "metadata": {},
   "outputs": [
    {
     "ename": "TypeError",
     "evalue": "unhashable type: 'list'",
     "output_type": "error",
     "traceback": [
      "\u001b[1;31m---------------------------------------------------------------------------\u001b[0m",
      "\u001b[1;31mTypeError\u001b[0m                                 Traceback (most recent call last)",
      "Cell \u001b[1;32mIn[37], line 1\u001b[0m\n\u001b[1;32m----> 1\u001b[0m s\u001b[38;5;241m=\u001b[39m{\u001b[38;5;124m'\u001b[39m\u001b[38;5;124ma\u001b[39m\u001b[38;5;124m'\u001b[39m,\u001b[38;5;124m'\u001b[39m\u001b[38;5;124m34\u001b[39m\u001b[38;5;124m'\u001b[39m,\u001b[38;5;241m34.45\u001b[39m,\u001b[38;5;124m\"\u001b[39m\u001b[38;5;124mas\u001b[39m\u001b[38;5;124m\"\u001b[39m,(\u001b[38;5;241m1\u001b[39m\u001b[38;5;241m+\u001b[39m\u001b[38;5;241m2\u001b[39mj),(\u001b[38;5;241m23\u001b[39m,\u001b[38;5;124m'\u001b[39m\u001b[38;5;124mt\u001b[39m\u001b[38;5;124m'\u001b[39m),[\u001b[38;5;241m12\u001b[39m,\u001b[38;5;241m34.5\u001b[39m]} \u001b[38;5;66;03m#will not allow list and set as set elements\u001b[39;00m\n\u001b[0;32m      2\u001b[0m s\n",
      "\u001b[1;31mTypeError\u001b[0m: unhashable type: 'list'"
     ]
    }
   ],
   "source": [
    "s={'a','34',34.45,\"as\",(1+2j),(23,'t'),[12,34.5]} #will not allow list and set as set elements\n",
    "s"
   ]
  },
  {
   "cell_type": "code",
   "execution_count": 14,
   "id": "41fc64bd-b64f-40ff-b728-5b3e9a08f714",
   "metadata": {},
   "outputs": [
    {
     "ename": "TypeError",
     "evalue": "'set' object is not subscriptable",
     "output_type": "error",
     "traceback": [
      "\u001b[1;31m---------------------------------------------------------------------------\u001b[0m",
      "\u001b[1;31mTypeError\u001b[0m                                 Traceback (most recent call last)",
      "Cell \u001b[1;32mIn[14], line 1\u001b[0m\n\u001b[1;32m----> 1\u001b[0m s[\u001b[38;5;241m0\u001b[39m]\n",
      "\u001b[1;31mTypeError\u001b[0m: 'set' object is not subscriptable"
     ]
    }
   ],
   "source": [
    "s[0] #indexing and slicing are not allowed in set------------"
   ]
  },
  {
   "cell_type": "code",
   "execution_count": 15,
   "id": "2b114649-f176-49bd-ae06-887d565b1655",
   "metadata": {},
   "outputs": [
    {
     "ename": "TypeError",
     "evalue": "'set' object is not subscriptable",
     "output_type": "error",
     "traceback": [
      "\u001b[1;31m---------------------------------------------------------------------------\u001b[0m",
      "\u001b[1;31mTypeError\u001b[0m                                 Traceback (most recent call last)",
      "Cell \u001b[1;32mIn[15], line 1\u001b[0m\n\u001b[1;32m----> 1\u001b[0m s[\u001b[38;5;241m0\u001b[39m:\u001b[38;5;241m2\u001b[39m]\n",
      "\u001b[1;31mTypeError\u001b[0m: 'set' object is not subscriptable"
     ]
    }
   ],
   "source": [
    "s[0:2]"
   ]
  },
  {
   "cell_type": "code",
   "execution_count": 16,
   "id": "bb86686f-542e-41f8-8b7d-762f11c3d790",
   "metadata": {},
   "outputs": [
    {
     "name": "stdout",
     "output_type": "stream",
     "text": [
      "1\n",
      "2\n",
      "3\n",
      "4\n",
      "5\n"
     ]
    }
   ],
   "source": [
    "#Accessing set items-----------------------------\n",
    "\n",
    "#looping---------------------------------------------\n",
    "\n",
    "s={1,2,3,4,5}\n",
    "for i in s:\n",
    "    print(i)"
   ]
  },
  {
   "cell_type": "code",
   "execution_count": 17,
   "id": "efd3ee17-1a12-4515-8679-eba75397b566",
   "metadata": {},
   "outputs": [
    {
     "data": {
      "text/plain": [
       "{1, 2, 3, 4, 5}"
      ]
     },
     "execution_count": 17,
     "metadata": {},
     "output_type": "execute_result"
    }
   ],
   "source": [
    "s"
   ]
  },
  {
   "cell_type": "code",
   "execution_count": 18,
   "id": "aba65dcd-f080-45db-8108-c919e40539df",
   "metadata": {},
   "outputs": [
    {
     "name": "stdout",
     "output_type": "stream",
     "text": [
      "(0, 1)\n",
      "(1, 2)\n",
      "(2, 3)\n",
      "(3, 4)\n",
      "(4, 5)\n"
     ]
    }
   ],
   "source": [
    "for i in enumerate(s):\n",
    "    print(i)"
   ]
  },
  {
   "cell_type": "code",
   "execution_count": 64,
   "id": "4d0648a6-ce9a-4051-986d-aaabc9b856cd",
   "metadata": {},
   "outputs": [
    {
     "data": {
      "text/plain": [
       "{0, 12, 23, 34, 91}"
      ]
     },
     "execution_count": 64,
     "metadata": {},
     "output_type": "execute_result"
    }
   ],
   "source": [
    "#membership----------------------------------------------------------------------\n",
    "s"
   ]
  },
  {
   "cell_type": "code",
   "execution_count": 21,
   "id": "f09a9a29-a1dc-41cc-bef3-8c99c91edead",
   "metadata": {},
   "outputs": [
    {
     "data": {
      "text/plain": [
       "True"
      ]
     },
     "execution_count": 21,
     "metadata": {},
     "output_type": "execute_result"
    }
   ],
   "source": [
    "5 in s #return true/false based on the values present in s or not"
   ]
  },
  {
   "cell_type": "code",
   "execution_count": 22,
   "id": "ee132ca2-d0a5-4da1-ba45-b965c00d95ac",
   "metadata": {},
   "outputs": [
    {
     "data": {
      "text/plain": [
       "False"
      ]
     },
     "execution_count": 22,
     "metadata": {},
     "output_type": "execute_result"
    }
   ],
   "source": [
    "23 in s"
   ]
  },
  {
   "cell_type": "code",
   "execution_count": 109,
   "id": "c4093362-74d4-4b22-848e-cb1ba99331e7",
   "metadata": {},
   "outputs": [
    {
     "data": {
      "text/plain": [
       "{1, 2, 3, 4, 5}"
      ]
     },
     "execution_count": 109,
     "metadata": {},
     "output_type": "execute_result"
    }
   ],
   "source": [
    "# add, remove,pop,discard...etc. functions can be performed on sets\n",
    "\n",
    "#-------------------------add---------------------------------------\n",
    "s={1,2,3,4,5}\n",
    "s"
   ]
  },
  {
   "cell_type": "code",
   "execution_count": 110,
   "id": "bcf04bc4-4dc0-4821-97b2-bb6eef28c55e",
   "metadata": {},
   "outputs": [],
   "source": [
    "s.add(23)"
   ]
  },
  {
   "cell_type": "code",
   "execution_count": 111,
   "id": "96772c26-79ee-474b-b9d5-420de714361d",
   "metadata": {},
   "outputs": [
    {
     "data": {
      "text/plain": [
       "{1, 2, 3, 4, 5, 23}"
      ]
     },
     "execution_count": 111,
     "metadata": {},
     "output_type": "execute_result"
    }
   ],
   "source": [
    "s"
   ]
  },
  {
   "cell_type": "code",
   "execution_count": 112,
   "id": "a4552a7c-4a68-423c-8f8b-ccd69773321a",
   "metadata": {},
   "outputs": [],
   "source": [
    "s.add(45.56)\n",
    "s.add('test')\n",
    "s.add(1+34j)\n",
    "s.add((23,4.5))"
   ]
  },
  {
   "cell_type": "code",
   "execution_count": 113,
   "id": "560f4b64-b0f3-4d98-bee0-50bb578d2d3b",
   "metadata": {},
   "outputs": [
    {
     "data": {
      "text/plain": [
       "{(1+34j), (23, 4.5), 1, 2, 23, 3, 4, 45.56, 5, 'test'}"
      ]
     },
     "execution_count": 113,
     "metadata": {},
     "output_type": "execute_result"
    }
   ],
   "source": [
    "s"
   ]
  },
  {
   "cell_type": "code",
   "execution_count": 114,
   "id": "de2fb3e8-f3d4-4450-9cc8-648650c6bc1c",
   "metadata": {},
   "outputs": [],
   "source": [
    "s.add(456) #adding a single item"
   ]
  },
  {
   "cell_type": "code",
   "execution_count": 117,
   "id": "8f6554d4-d38e-4fd8-a4ed-d0002f9db053",
   "metadata": {},
   "outputs": [
    {
     "data": {
      "text/plain": [
       "{(1+34j), (23, 4.5), 1, 12, 2, 23, 3, 34, 4, 45.56, 456, 5, 'test'}"
      ]
     },
     "execution_count": 117,
     "metadata": {},
     "output_type": "execute_result"
    }
   ],
   "source": [
    "s.update([12,23,34]) # adding multiple items(as a list) using update\n",
    "s"
   ]
  },
  {
   "cell_type": "code",
   "execution_count": 115,
   "id": "971ddc83-3dde-4db3-8b51-551e4b3564f2",
   "metadata": {},
   "outputs": [
    {
     "data": {
      "text/plain": [
       "{(1+34j), (23, 4.5), 1, 2, 23, 3, 4, 45.56, 456, 5, 'test'}"
      ]
     },
     "execution_count": 115,
     "metadata": {},
     "output_type": "execute_result"
    }
   ],
   "source": [
    "s #set is unordered, ordered when similar data types are used"
   ]
  },
  {
   "cell_type": "code",
   "execution_count": 56,
   "id": "3e5e3372-409a-4aac-9313-05068d8868a2",
   "metadata": {},
   "outputs": [],
   "source": [
    "s={23,12,0,34,91}"
   ]
  },
  {
   "cell_type": "code",
   "execution_count": 57,
   "id": "1676bc3a-e75f-4391-92a0-862816ed52ea",
   "metadata": {},
   "outputs": [
    {
     "data": {
      "text/plain": [
       "{0, 12, 23, 34, 91}"
      ]
     },
     "execution_count": 57,
     "metadata": {},
     "output_type": "execute_result"
    }
   ],
   "source": [
    "s"
   ]
  },
  {
   "cell_type": "code",
   "execution_count": 58,
   "id": "043736c8-2d49-48bc-bbcc-39da9aa40900",
   "metadata": {},
   "outputs": [
    {
     "name": "stdout",
     "output_type": "stream",
     "text": [
      "{0, 34, 23, 91, 12}\n"
     ]
    }
   ],
   "source": [
    "print(s)"
   ]
  },
  {
   "cell_type": "code",
   "execution_count": 107,
   "id": "1511c65d-fc87-4836-b4ca-76a7e34698b3",
   "metadata": {},
   "outputs": [
    {
     "data": {
      "text/plain": [
       "[0, 12, 23, 34, 91]"
      ]
     },
     "execution_count": 107,
     "metadata": {},
     "output_type": "execute_result"
    }
   ],
   "source": [
    "#-------------------------sorting---------------------------------------\n",
    "s={23,12,0,34,91}\n",
    "sorted(s)#returns sorted list;not set"
   ]
  },
  {
   "cell_type": "code",
   "execution_count": 63,
   "id": "5a6893ff-8134-4abf-a6f0-625285dcb9a4",
   "metadata": {},
   "outputs": [
    {
     "data": {
      "text/plain": [
       "[91, 34, 23, 12, 0]"
      ]
     },
     "execution_count": 63,
     "metadata": {},
     "output_type": "execute_result"
    }
   ],
   "source": [
    "sorted(s,reverse=True)"
   ]
  },
  {
   "cell_type": "code",
   "execution_count": 124,
   "id": "2e732055-c83d-46ea-bd4b-cc70205d69e8",
   "metadata": {},
   "outputs": [],
   "source": [
    "#-------------------pop---------------------------------\n",
    "s={'a',23,'34.56'}"
   ]
  },
  {
   "cell_type": "code",
   "execution_count": 125,
   "id": "c1e10586-10c0-439b-91a6-6f80e8631274",
   "metadata": {},
   "outputs": [
    {
     "data": {
      "text/plain": [
       "{23, '34.56', 'a'}"
      ]
     },
     "execution_count": 125,
     "metadata": {},
     "output_type": "execute_result"
    }
   ],
   "source": [
    "s"
   ]
  },
  {
   "cell_type": "code",
   "execution_count": 126,
   "id": "ec760e22-d489-4340-b131-95ad06d88fa1",
   "metadata": {},
   "outputs": [
    {
     "data": {
      "text/plain": [
       "'34.56'"
      ]
     },
     "execution_count": 126,
     "metadata": {},
     "output_type": "execute_result"
    }
   ],
   "source": [
    "s.pop()#pops a random value and returns the deleted value"
   ]
  },
  {
   "cell_type": "code",
   "execution_count": 127,
   "id": "729ea147-7d7e-4fb5-9971-3870752daaa4",
   "metadata": {},
   "outputs": [
    {
     "data": {
      "text/plain": [
       "'a'"
      ]
     },
     "execution_count": 127,
     "metadata": {},
     "output_type": "execute_result"
    }
   ],
   "source": [
    "s.pop()"
   ]
  },
  {
   "cell_type": "code",
   "execution_count": 128,
   "id": "0ce1abb8-1d90-42d8-b2c5-68d1ff4c8fa7",
   "metadata": {},
   "outputs": [
    {
     "data": {
      "text/plain": [
       "{23}"
      ]
     },
     "execution_count": 128,
     "metadata": {},
     "output_type": "execute_result"
    }
   ],
   "source": [
    "s"
   ]
  },
  {
   "cell_type": "code",
   "execution_count": 129,
   "id": "58f17fef-18c9-4797-986e-cb626a6bf20a",
   "metadata": {},
   "outputs": [],
   "source": [
    "s.add(35)"
   ]
  },
  {
   "cell_type": "code",
   "execution_count": 130,
   "id": "72f14cde-e726-4d71-ba9f-de0388b5a2b3",
   "metadata": {},
   "outputs": [],
   "source": [
    "s.add(2)"
   ]
  },
  {
   "cell_type": "code",
   "execution_count": 131,
   "id": "9421ddf8-f865-4849-ac34-81bb8fcbf129",
   "metadata": {},
   "outputs": [
    {
     "data": {
      "text/plain": [
       "{2, 23, 35}"
      ]
     },
     "execution_count": 131,
     "metadata": {},
     "output_type": "execute_result"
    }
   ],
   "source": [
    "s"
   ]
  },
  {
   "cell_type": "code",
   "execution_count": 132,
   "id": "55f0cf68-8c73-4a09-82c3-c136a54e5b55",
   "metadata": {},
   "outputs": [
    {
     "data": {
      "text/plain": [
       "{2, 23, 35}"
      ]
     },
     "execution_count": 132,
     "metadata": {},
     "output_type": "execute_result"
    }
   ],
   "source": [
    "#-------------------------remove------------------------------\n",
    "\n",
    "s"
   ]
  },
  {
   "cell_type": "code",
   "execution_count": 133,
   "id": "fbc16ff6-89d0-413b-bfc4-c0380e623bc9",
   "metadata": {},
   "outputs": [],
   "source": [
    "s.remove(23) #removes the element with specified value"
   ]
  },
  {
   "cell_type": "code",
   "execution_count": 134,
   "id": "dca29823-0d64-475f-918a-20c5a87aa834",
   "metadata": {},
   "outputs": [
    {
     "data": {
      "text/plain": [
       "{2, 35}"
      ]
     },
     "execution_count": 134,
     "metadata": {},
     "output_type": "execute_result"
    }
   ],
   "source": [
    "s"
   ]
  },
  {
   "cell_type": "code",
   "execution_count": 135,
   "id": "9e6d28a3-3c07-41da-8028-a16e30988a7c",
   "metadata": {},
   "outputs": [
    {
     "ename": "KeyError",
     "evalue": "23",
     "output_type": "error",
     "traceback": [
      "\u001b[1;31m---------------------------------------------------------------------------\u001b[0m",
      "\u001b[1;31mKeyError\u001b[0m                                  Traceback (most recent call last)",
      "Cell \u001b[1;32mIn[135], line 1\u001b[0m\n\u001b[1;32m----> 1\u001b[0m s\u001b[38;5;241m.\u001b[39mremove(\u001b[38;5;241m23\u001b[39m)\n",
      "\u001b[1;31mKeyError\u001b[0m: 23"
     ]
    }
   ],
   "source": [
    "s.remove(23) # throws error if the value is not present in the set"
   ]
  },
  {
   "cell_type": "code",
   "execution_count": 136,
   "id": "2b0da389-202a-440f-aaa6-9fa7569522c6",
   "metadata": {},
   "outputs": [
    {
     "data": {
      "text/plain": [
       "{2, 35}"
      ]
     },
     "execution_count": 136,
     "metadata": {},
     "output_type": "execute_result"
    }
   ],
   "source": [
    "#--------------------------------discard------------------------------------\n",
    "s"
   ]
  },
  {
   "cell_type": "code",
   "execution_count": 137,
   "id": "9c21d91c-aa36-4f84-9c4f-bf23af7da2e1",
   "metadata": {},
   "outputs": [],
   "source": [
    "s.discard(23) #eventhough 23 is not present, error is not thrown and ignored; if value is present, then deletes the value froms set"
   ]
  },
  {
   "cell_type": "code",
   "execution_count": 138,
   "id": "5431e9ce-c263-4dea-a663-25a9282be1e5",
   "metadata": {},
   "outputs": [
    {
     "data": {
      "text/plain": [
       "{2, 35}"
      ]
     },
     "execution_count": 138,
     "metadata": {},
     "output_type": "execute_result"
    }
   ],
   "source": [
    "s"
   ]
  },
  {
   "cell_type": "code",
   "execution_count": 139,
   "id": "8629cc3c-c799-445c-abb8-429c089ca9e0",
   "metadata": {},
   "outputs": [],
   "source": [
    "s.discard(2)"
   ]
  },
  {
   "cell_type": "code",
   "execution_count": 140,
   "id": "6433991c-e1d6-40ff-a158-b5988af4297d",
   "metadata": {},
   "outputs": [
    {
     "data": {
      "text/plain": [
       "{35}"
      ]
     },
     "execution_count": 140,
     "metadata": {},
     "output_type": "execute_result"
    }
   ],
   "source": [
    "s"
   ]
  },
  {
   "cell_type": "code",
   "execution_count": 141,
   "id": "74254d9b-47c2-4138-a940-306d2c241871",
   "metadata": {},
   "outputs": [
    {
     "data": {
      "text/plain": [
       "{35}"
      ]
     },
     "execution_count": 141,
     "metadata": {},
     "output_type": "execute_result"
    }
   ],
   "source": [
    "#------------------------------clear-------------------------------\n",
    "s"
   ]
  },
  {
   "cell_type": "code",
   "execution_count": 142,
   "id": "ea4c1341-5d09-4b8d-9d14-5d2fcac45815",
   "metadata": {},
   "outputs": [],
   "source": [
    "s.clear() # deletes all elements"
   ]
  },
  {
   "cell_type": "code",
   "execution_count": 143,
   "id": "059f3164-b925-46bd-bab0-c09fca1174b0",
   "metadata": {},
   "outputs": [
    {
     "data": {
      "text/plain": [
       "set()"
      ]
     },
     "execution_count": 143,
     "metadata": {},
     "output_type": "execute_result"
    }
   ],
   "source": [
    "s"
   ]
  },
  {
   "cell_type": "code",
   "execution_count": 144,
   "id": "26eaa668-4c7d-4b4a-95d1-01b39b7e5b8f",
   "metadata": {},
   "outputs": [],
   "source": [
    "#----------------------------delete set-------------------------\n",
    "del s #deletes set"
   ]
  },
  {
   "cell_type": "code",
   "execution_count": 145,
   "id": "b969fe00-7daa-4832-8bb7-9036719ff7c2",
   "metadata": {},
   "outputs": [
    {
     "ename": "NameError",
     "evalue": "name 's' is not defined",
     "output_type": "error",
     "traceback": [
      "\u001b[1;31m---------------------------------------------------------------------------\u001b[0m",
      "\u001b[1;31mNameError\u001b[0m                                 Traceback (most recent call last)",
      "Cell \u001b[1;32mIn[145], line 1\u001b[0m\n\u001b[1;32m----> 1\u001b[0m s\n",
      "\u001b[1;31mNameError\u001b[0m: name 's' is not defined"
     ]
    }
   ],
   "source": [
    "s"
   ]
  },
  {
   "cell_type": "code",
   "execution_count": 147,
   "id": "214d1c04-9892-4f72-9e31-7f08bb79a5ce",
   "metadata": {},
   "outputs": [
    {
     "data": {
      "text/plain": [
       "{23, 4.5, 'a', 'test'}"
      ]
     },
     "execution_count": 147,
     "metadata": {},
     "output_type": "execute_result"
    }
   ],
   "source": [
    "#-----------------------------------------copy--------------------------------------------------\n",
    "s1={23,4.5,'a','test'}\n",
    "s1"
   ]
  },
  {
   "cell_type": "code",
   "execution_count": 150,
   "id": "d6923a3f-b540-47fb-b95c-1cecabd2261a",
   "metadata": {},
   "outputs": [],
   "source": [
    "s2=s1 # creating a new reference to s1; both s1, s2 points to the same"
   ]
  },
  {
   "cell_type": "code",
   "execution_count": 149,
   "id": "f042908b-c30c-4f8a-b015-a644095653dd",
   "metadata": {},
   "outputs": [
    {
     "name": "stdout",
     "output_type": "stream",
     "text": [
      "{'test', 4.5, 'a', 23}\n",
      "{'test', 4.5, 'a', 23}\n",
      "2203269495296\n",
      "2203269495296\n"
     ]
    }
   ],
   "source": [
    "print(s1)\n",
    "print(s2)\n",
    "print(id(s1))\n",
    "print(id(s2))"
   ]
  },
  {
   "cell_type": "code",
   "execution_count": 154,
   "id": "30b1fd08-04bc-4cb8-8798-a24fbaa2300a",
   "metadata": {},
   "outputs": [],
   "source": [
    "s1.add('added-ele') # changes will be made to s2 also- as they points to the same"
   ]
  },
  {
   "cell_type": "code",
   "execution_count": 155,
   "id": "bb492c7b-1518-43f1-b896-1d03bd44a4d2",
   "metadata": {},
   "outputs": [
    {
     "data": {
      "text/plain": [
       "{23, 4.5, 'a', 'added-ele', 'test'}"
      ]
     },
     "execution_count": 155,
     "metadata": {},
     "output_type": "execute_result"
    }
   ],
   "source": [
    "s1"
   ]
  },
  {
   "cell_type": "code",
   "execution_count": 156,
   "id": "09c3172d-5fa6-4f12-b3f4-a5513b7db2f4",
   "metadata": {},
   "outputs": [
    {
     "data": {
      "text/plain": [
       "{23, 4.5, 'a', 'added-ele', 'test'}"
      ]
     },
     "execution_count": 156,
     "metadata": {},
     "output_type": "execute_result"
    }
   ],
   "source": [
    "s2"
   ]
  },
  {
   "cell_type": "code",
   "execution_count": 159,
   "id": "95d9c66d-0d1e-478b-92d8-4c407dd6e8c1",
   "metadata": {},
   "outputs": [],
   "source": [
    "s3=s1.copy()# creates a copy; both s1, s3 points to different object"
   ]
  },
  {
   "cell_type": "code",
   "execution_count": 160,
   "id": "8498e41e-3784-4ab5-88e6-446321490270",
   "metadata": {},
   "outputs": [
    {
     "data": {
      "text/plain": [
       "{23, 4.5, 'a', 'added-ele', 'test'}"
      ]
     },
     "execution_count": 160,
     "metadata": {},
     "output_type": "execute_result"
    }
   ],
   "source": [
    "s3"
   ]
  },
  {
   "cell_type": "code",
   "execution_count": 163,
   "id": "f16ab3a3-a1ee-4ca9-967d-42ea4abf08a7",
   "metadata": {},
   "outputs": [],
   "source": [
    "s1.add('one')"
   ]
  },
  {
   "cell_type": "code",
   "execution_count": 164,
   "id": "ad91dc2a-e9c4-4115-83cd-52d97b1fb416",
   "metadata": {},
   "outputs": [
    {
     "data": {
      "text/plain": [
       "{23, 4.5, 'a', 'added-ele', 'one', 'test'}"
      ]
     },
     "execution_count": 164,
     "metadata": {},
     "output_type": "execute_result"
    }
   ],
   "source": [
    "s1"
   ]
  },
  {
   "cell_type": "code",
   "execution_count": 166,
   "id": "bbe78fd0-b5ce-4861-9fe6-a1c8c55e723f",
   "metadata": {},
   "outputs": [
    {
     "data": {
      "text/plain": [
       "{23, 4.5, 'a', 'added-ele', 'test'}"
      ]
     },
     "execution_count": 166,
     "metadata": {},
     "output_type": "execute_result"
    }
   ],
   "source": [
    "s3 #s3 is not changed"
   ]
  },
  {
   "cell_type": "code",
   "execution_count": 4,
   "id": "1f0e97a4-151d-471b-bb24-5559a449334a",
   "metadata": {},
   "outputs": [
    {
     "data": {
      "text/plain": [
       "{1, 2, 3, 4, 5, 6, 7, 8}"
      ]
     },
     "execution_count": 4,
     "metadata": {},
     "output_type": "execute_result"
    }
   ],
   "source": [
    "#-------------------------------------Set Operations-----------------------------------------------------------------\n",
    "\n",
    "#-----------------------------------Union------------------------------------------------------\n",
    "\n",
    "a={1,2,3,4,5}\n",
    "b={4,5,6,7,8}\n",
    "c={8,9,10}\n",
    "\n",
    "a.union(b) #joins two - with common elements one time; a will not be modified; returns the joined set"
   ]
  },
  {
   "cell_type": "code",
   "execution_count": 5,
   "id": "667d2573-05ce-4d69-861f-15b30744bca6",
   "metadata": {},
   "outputs": [
    {
     "name": "stdout",
     "output_type": "stream",
     "text": [
      "{1, 2, 3, 4, 5}\n",
      "{4, 5, 6, 7, 8}\n",
      "{8, 9, 10}\n"
     ]
    }
   ],
   "source": [
    "print(a)\n",
    "print(b)\n",
    "print(c)"
   ]
  },
  {
   "cell_type": "code",
   "execution_count": 6,
   "id": "6a4650d6-2138-4c4e-ae38-38f542887efc",
   "metadata": {},
   "outputs": [
    {
     "data": {
      "text/plain": [
       "{1, 2, 3, 4, 5, 6, 7, 8}"
      ]
     },
     "execution_count": 6,
     "metadata": {},
     "output_type": "execute_result"
    }
   ],
   "source": [
    "#symbol for Union is - | pipe\n",
    "a|b"
   ]
  },
  {
   "cell_type": "code",
   "execution_count": 7,
   "id": "f7c51cf7-ccad-4ae8-a05c-27626e63c110",
   "metadata": {},
   "outputs": [
    {
     "data": {
      "text/plain": [
       "{4, 5, 6, 7, 8, 9, 10}"
      ]
     },
     "execution_count": 7,
     "metadata": {},
     "output_type": "execute_result"
    }
   ],
   "source": [
    "b|c"
   ]
  },
  {
   "cell_type": "code",
   "execution_count": 8,
   "id": "1fe5675f-b8d3-4434-b7dc-9ab4fc64b2f2",
   "metadata": {},
   "outputs": [
    {
     "data": {
      "text/plain": [
       "{1, 2, 3, 4, 5, 8, 9, 10}"
      ]
     },
     "execution_count": 8,
     "metadata": {},
     "output_type": "execute_result"
    }
   ],
   "source": [
    "a|c"
   ]
  },
  {
   "cell_type": "code",
   "execution_count": 11,
   "id": "47a3d405-ef86-4266-ad56-f5e0e4f04dde",
   "metadata": {},
   "outputs": [
    {
     "data": {
      "text/plain": [
       "{1, 2, 3, 4, 5, 6, 7, 8, 9, 10}"
      ]
     },
     "execution_count": 11,
     "metadata": {},
     "output_type": "execute_result"
    }
   ],
   "source": [
    "a|b|c"
   ]
  },
  {
   "cell_type": "code",
   "execution_count": 12,
   "id": "1bd6989a-218f-4e1f-9d7b-c24883e40770",
   "metadata": {},
   "outputs": [
    {
     "data": {
      "text/plain": [
       "{1, 2, 3, 4, 5, 6, 7, 8, 9, 10}"
      ]
     },
     "execution_count": 12,
     "metadata": {},
     "output_type": "execute_result"
    }
   ],
   "source": [
    "a.union(b,c)"
   ]
  },
  {
   "cell_type": "code",
   "execution_count": 22,
   "id": "4f98e42f-084c-401b-8a9a-1ac0b1bf4293",
   "metadata": {},
   "outputs": [
    {
     "name": "stdout",
     "output_type": "stream",
     "text": [
      "{1, 2, 3, 4, 5}\n"
     ]
    }
   ],
   "source": [
    "print(a)"
   ]
  },
  {
   "cell_type": "code",
   "execution_count": 29,
   "id": "29f51966-66b9-4244-bb0f-405170b06c6b",
   "metadata": {},
   "outputs": [
    {
     "name": "stdout",
     "output_type": "stream",
     "text": [
      "{1, 2, 3, 4, 5, 6, 7, 8, 9, 10}\n",
      "{4, 5, 6, 7, 8}\n",
      "{8, 9, 10}\n"
     ]
    }
   ],
   "source": [
    "a.update(b,c) # performs union of a,b,c and updates a with the union result\n",
    "print(a)\n",
    "print(b)\n",
    "print(c)"
   ]
  },
  {
   "cell_type": "code",
   "execution_count": 30,
   "id": "5aab0f36-0af7-470e-969e-23558e88e923",
   "metadata": {},
   "outputs": [
    {
     "name": "stdout",
     "output_type": "stream",
     "text": [
      "{1, 2, 3, 4, 5}\n",
      "{4, 5, 6, 7, 8}\n",
      "{8, 9, 10}\n"
     ]
    }
   ],
   "source": [
    "#---------------------------------------------Difference---------------------------------------------------------\n",
    "a={1,2,3,4,5}\n",
    "b={4,5,6,7,8}\n",
    "c={8,9,10}\n",
    "\n",
    "print(a)\n",
    "print(b)\n",
    "print(c)"
   ]
  },
  {
   "cell_type": "code",
   "execution_count": 21,
   "id": "e8fd3b78-26b3-40f0-a44d-efe5917d3504",
   "metadata": {},
   "outputs": [
    {
     "data": {
      "text/plain": [
       "{1, 2, 3}"
      ]
     },
     "execution_count": 21,
     "metadata": {},
     "output_type": "execute_result"
    }
   ],
   "source": [
    "a.difference(b) #gives a new set with the elements in a -excluding the common elements of a,b ;a will not be modified"
   ]
  },
  {
   "cell_type": "code",
   "execution_count": 14,
   "id": "84b96ac3-1cc1-4859-b721-26958fdafa31",
   "metadata": {},
   "outputs": [
    {
     "data": {
      "text/plain": [
       "{1, 2, 3}"
      ]
     },
     "execution_count": 14,
     "metadata": {},
     "output_type": "execute_result"
    }
   ],
   "source": [
    "#symbol is -minus\n",
    "a-b"
   ]
  },
  {
   "cell_type": "code",
   "execution_count": 15,
   "id": "454a012b-7e37-4085-9224-d5779d5de9f5",
   "metadata": {},
   "outputs": [
    {
     "data": {
      "text/plain": [
       "{6, 7, 8}"
      ]
     },
     "execution_count": 15,
     "metadata": {},
     "output_type": "execute_result"
    }
   ],
   "source": [
    "b.difference(a)"
   ]
  },
  {
   "cell_type": "code",
   "execution_count": 16,
   "id": "66328a37-583e-40fd-aeb3-b0bb04dd4733",
   "metadata": {},
   "outputs": [
    {
     "data": {
      "text/plain": [
       "{6, 7, 8}"
      ]
     },
     "execution_count": 16,
     "metadata": {},
     "output_type": "execute_result"
    }
   ],
   "source": [
    "b-a"
   ]
  },
  {
   "cell_type": "code",
   "execution_count": 17,
   "id": "1d41d1e1-a235-493e-868a-1c59dcf3ca92",
   "metadata": {},
   "outputs": [
    {
     "data": {
      "text/plain": [
       "{1, 2, 3}"
      ]
     },
     "execution_count": 17,
     "metadata": {},
     "output_type": "execute_result"
    }
   ],
   "source": [
    "a.difference(b,c)"
   ]
  },
  {
   "cell_type": "code",
   "execution_count": 18,
   "id": "330a9bf0-8ef8-4ea7-983d-1fc7808a257e",
   "metadata": {},
   "outputs": [
    {
     "data": {
      "text/plain": [
       "{1, 2, 3}"
      ]
     },
     "execution_count": 18,
     "metadata": {},
     "output_type": "execute_result"
    }
   ],
   "source": [
    "a-b-c"
   ]
  },
  {
   "cell_type": "code",
   "execution_count": 19,
   "id": "054b9275-362d-4568-91c3-39b5875a90c6",
   "metadata": {},
   "outputs": [
    {
     "data": {
      "text/plain": [
       "{6, 7}"
      ]
     },
     "execution_count": 19,
     "metadata": {},
     "output_type": "execute_result"
    }
   ],
   "source": [
    "b.difference(a,c)"
   ]
  },
  {
   "cell_type": "code",
   "execution_count": 20,
   "id": "12515f9c-4a6a-4e1c-b615-ada293f70565",
   "metadata": {},
   "outputs": [
    {
     "data": {
      "text/plain": [
       "{6, 7}"
      ]
     },
     "execution_count": 20,
     "metadata": {},
     "output_type": "execute_result"
    }
   ],
   "source": [
    "b-a-c"
   ]
  },
  {
   "cell_type": "code",
   "execution_count": 32,
   "id": "f23e9e45-74f0-432b-9935-bbabd78eb7a6",
   "metadata": {},
   "outputs": [
    {
     "name": "stdout",
     "output_type": "stream",
     "text": [
      "{1, 2, 3}\n",
      "{4, 5, 6, 7, 8}\n",
      "{8, 9, 10}\n"
     ]
    }
   ],
   "source": [
    "a.difference_update(b)# performs difference and updates a with the result\n",
    "print(a)\n",
    "print(b)\n",
    "print(c)"
   ]
  },
  {
   "cell_type": "code",
   "execution_count": 44,
   "id": "c6cd3c67-e40a-42ed-a906-266dd2763b96",
   "metadata": {},
   "outputs": [
    {
     "name": "stdout",
     "output_type": "stream",
     "text": [
      "{1, 2, 3, 4, 5}\n",
      "{4, 5, 6, 7, 8}\n",
      "{8, 9, 10}\n"
     ]
    }
   ],
   "source": [
    "#--------------------------------------symmetric difference----------------------------------\n",
    "a={1,2,3,4,5}\n",
    "b={4,5,6,7,8}\n",
    "c={8,9,10}\n",
    "\n",
    "print(a)\n",
    "print(b)\n",
    "print(c)"
   ]
  },
  {
   "cell_type": "code",
   "execution_count": 45,
   "id": "31aae564-4cb9-4007-8c04-6ba9019ec981",
   "metadata": {},
   "outputs": [
    {
     "data": {
      "text/plain": [
       "{1, 2, 3, 6, 7, 8}"
      ]
     },
     "execution_count": 45,
     "metadata": {},
     "output_type": "execute_result"
    }
   ],
   "source": [
    "a.symmetric_difference(b) #excludes common elements of a,b and gives the remaining elements in a,b; a will not be modified"
   ]
  },
  {
   "cell_type": "code",
   "execution_count": 46,
   "id": "4ff690e5-f6fc-4366-ac57-378429f8fa73",
   "metadata": {},
   "outputs": [
    {
     "data": {
      "text/plain": [
       "{1, 2, 3, 6, 7, 8}"
      ]
     },
     "execution_count": 46,
     "metadata": {},
     "output_type": "execute_result"
    }
   ],
   "source": [
    "#----------symbol is ^ cap\n",
    "a^b"
   ]
  },
  {
   "cell_type": "code",
   "execution_count": 41,
   "id": "7252c85b-997b-46dc-8bea-2df54ed625c4",
   "metadata": {},
   "outputs": [
    {
     "ename": "TypeError",
     "evalue": "set.symmetric_difference() takes exactly one argument (2 given)",
     "output_type": "error",
     "traceback": [
      "\u001b[1;31m---------------------------------------------------------------------------\u001b[0m",
      "\u001b[1;31mTypeError\u001b[0m                                 Traceback (most recent call last)",
      "Cell \u001b[1;32mIn[41], line 1\u001b[0m\n\u001b[1;32m----> 1\u001b[0m a\u001b[38;5;241m.\u001b[39msymmetric_difference(b,c)\n",
      "\u001b[1;31mTypeError\u001b[0m: set.symmetric_difference() takes exactly one argument (2 given)"
     ]
    }
   ],
   "source": [
    "a.symmetric_difference(b,c)# takes only one argument; gives error for more than one"
   ]
  },
  {
   "cell_type": "code",
   "execution_count": 47,
   "id": "8748306c-82c0-450e-a667-0b8cb52e5fe8",
   "metadata": {},
   "outputs": [
    {
     "data": {
      "text/plain": [
       "{1, 2, 3, 4, 5}"
      ]
     },
     "execution_count": 47,
     "metadata": {},
     "output_type": "execute_result"
    }
   ],
   "source": [
    "a"
   ]
  },
  {
   "cell_type": "code",
   "execution_count": 42,
   "id": "6f21e675-cd44-4944-8f86-2d36d5000f86",
   "metadata": {},
   "outputs": [],
   "source": [
    "a.symmetric_difference_update(b) # performs symmetric difference and updates a with the result"
   ]
  },
  {
   "cell_type": "code",
   "execution_count": 43,
   "id": "5f7406b7-4647-4232-871b-599c8a73bbb1",
   "metadata": {},
   "outputs": [
    {
     "data": {
      "text/plain": [
       "{1, 2, 3, 6, 7, 8}"
      ]
     },
     "execution_count": 43,
     "metadata": {},
     "output_type": "execute_result"
    }
   ],
   "source": [
    "a"
   ]
  },
  {
   "cell_type": "code",
   "execution_count": 48,
   "id": "4b8b85a0-b7e7-41d2-8203-1b826355d800",
   "metadata": {},
   "outputs": [
    {
     "data": {
      "text/plain": [
       "{1, 2, 3, 6, 7, 8}"
      ]
     },
     "execution_count": 48,
     "metadata": {},
     "output_type": "execute_result"
    }
   ],
   "source": [
    "b^a"
   ]
  },
  {
   "cell_type": "code",
   "execution_count": 49,
   "id": "71a24def-3503-46aa-9f14-48055bf8dd7f",
   "metadata": {},
   "outputs": [
    {
     "name": "stdout",
     "output_type": "stream",
     "text": [
      "{1, 2, 3, 4, 5}\n",
      "{4, 5, 6, 7, 8}\n",
      "{8, 9, 10}\n"
     ]
    }
   ],
   "source": [
    "#----------------------------Intersection------------------------------------------------\n",
    "a={1,2,3,4,5}\n",
    "b={4,5,6,7,8}\n",
    "c={8,9,10}\n",
    "\n",
    "print(a)\n",
    "print(b)\n",
    "print(c)"
   ]
  },
  {
   "cell_type": "code",
   "execution_count": 50,
   "id": "a24b1088-9508-429a-ae7a-c3db7494f85c",
   "metadata": {},
   "outputs": [
    {
     "data": {
      "text/plain": [
       "{4, 5}"
      ]
     },
     "execution_count": 50,
     "metadata": {},
     "output_type": "execute_result"
    }
   ],
   "source": [
    "a.intersection(b) # gives the common elements in a new set as result; a will not be modified"
   ]
  },
  {
   "cell_type": "code",
   "execution_count": 51,
   "id": "2ce1dbc9-3d3f-4f02-8a13-b969871da23b",
   "metadata": {},
   "outputs": [
    {
     "data": {
      "text/plain": [
       "{1, 2, 3, 4, 5}"
      ]
     },
     "execution_count": 51,
     "metadata": {},
     "output_type": "execute_result"
    }
   ],
   "source": [
    "a"
   ]
  },
  {
   "cell_type": "code",
   "execution_count": 54,
   "id": "a22e994b-f946-4273-bf5b-ecca456c85c4",
   "metadata": {},
   "outputs": [
    {
     "data": {
      "text/plain": [
       "set()"
      ]
     },
     "execution_count": 54,
     "metadata": {},
     "output_type": "execute_result"
    }
   ],
   "source": [
    "a.intersection(b,c)"
   ]
  },
  {
   "cell_type": "code",
   "execution_count": 55,
   "id": "565080ee-d8cd-43af-b063-6065ac0855de",
   "metadata": {},
   "outputs": [
    {
     "data": {
      "text/plain": [
       "{4, 5}"
      ]
     },
     "execution_count": 55,
     "metadata": {},
     "output_type": "execute_result"
    }
   ],
   "source": [
    "#symbol-& and \n",
    "\n",
    "a&b"
   ]
  },
  {
   "cell_type": "code",
   "execution_count": 56,
   "id": "cb2e66a7-2ed0-4c39-a185-b7107c3bebd9",
   "metadata": {},
   "outputs": [
    {
     "data": {
      "text/plain": [
       "set()"
      ]
     },
     "execution_count": 56,
     "metadata": {},
     "output_type": "execute_result"
    }
   ],
   "source": [
    "a&b&c"
   ]
  },
  {
   "cell_type": "code",
   "execution_count": 57,
   "id": "bd7767ad-7799-4c7f-a382-3ddbbd650589",
   "metadata": {},
   "outputs": [
    {
     "data": {
      "text/plain": [
       "{1, 2, 3, 4, 5}"
      ]
     },
     "execution_count": 57,
     "metadata": {},
     "output_type": "execute_result"
    }
   ],
   "source": [
    "a"
   ]
  },
  {
   "cell_type": "code",
   "execution_count": 60,
   "id": "ac271a57-2ea3-4fd3-8422-e68f6cad2144",
   "metadata": {},
   "outputs": [],
   "source": [
    "a.intersection_update(b) # performs intersection and updates a with the result"
   ]
  },
  {
   "cell_type": "code",
   "execution_count": 61,
   "id": "6b3ac275-19f1-48e0-ace2-a8ac41da0a2d",
   "metadata": {},
   "outputs": [
    {
     "data": {
      "text/plain": [
       "{4, 5}"
      ]
     },
     "execution_count": 61,
     "metadata": {},
     "output_type": "execute_result"
    }
   ],
   "source": [
    "a"
   ]
  },
  {
   "cell_type": "code",
   "execution_count": 62,
   "id": "98e9bfa0-1e54-466e-b871-58cc2b71e815",
   "metadata": {},
   "outputs": [],
   "source": [
    "b.intersection_update(a,c)"
   ]
  },
  {
   "cell_type": "code",
   "execution_count": 63,
   "id": "40fb1e85-75cc-4a6e-9888-643ec81630a8",
   "metadata": {},
   "outputs": [
    {
     "data": {
      "text/plain": [
       "set()"
      ]
     },
     "execution_count": 63,
     "metadata": {},
     "output_type": "execute_result"
    }
   ],
   "source": [
    "b"
   ]
  },
  {
   "cell_type": "code",
   "execution_count": 67,
   "id": "b05ac72f-1286-4ebf-853d-2d868007c58d",
   "metadata": {},
   "outputs": [],
   "source": [
    "#----------------------------------------Super set----------------------------------------------------------\n",
    "\n",
    "a={1,2,3,4,5}\n",
    "b={4,5}\n",
    "c={8,9,10}"
   ]
  },
  {
   "cell_type": "code",
   "execution_count": 80,
   "id": "0780fe5c-9af4-45ba-83ae-0bbea1dd3d8a",
   "metadata": {},
   "outputs": [
    {
     "data": {
      "text/plain": [
       "False"
      ]
     },
     "execution_count": 80,
     "metadata": {},
     "output_type": "execute_result"
    }
   ],
   "source": [
    "a.issubset(b) #returns true if a is a subset of b- all elements in a should be in b"
   ]
  },
  {
   "cell_type": "code",
   "execution_count": 69,
   "id": "b405176f-a438-4a7c-9ba6-c1c70880b61e",
   "metadata": {},
   "outputs": [
    {
     "data": {
      "text/plain": [
       "True"
      ]
     },
     "execution_count": 69,
     "metadata": {},
     "output_type": "execute_result"
    }
   ],
   "source": [
    "b.issubset(a)"
   ]
  },
  {
   "cell_type": "code",
   "execution_count": 79,
   "id": "61a43c3c-5edf-48ec-9b8b-55fe36762034",
   "metadata": {},
   "outputs": [
    {
     "data": {
      "text/plain": [
       "True"
      ]
     },
     "execution_count": 79,
     "metadata": {},
     "output_type": "execute_result"
    }
   ],
   "source": [
    "a.issuperset(b) #return true if a is a super set of b - all elements in b should be in a"
   ]
  },
  {
   "cell_type": "code",
   "execution_count": 71,
   "id": "706aa35c-581f-4fb7-ba52-b8ea7ec29036",
   "metadata": {},
   "outputs": [
    {
     "data": {
      "text/plain": [
       "False"
      ]
     },
     "execution_count": 71,
     "metadata": {},
     "output_type": "execute_result"
    }
   ],
   "source": [
    "b.issuperset(a)"
   ]
  },
  {
   "cell_type": "code",
   "execution_count": 78,
   "id": "0fd6c46e-e221-4c92-96ff-9fd3d1865d71",
   "metadata": {},
   "outputs": [
    {
     "data": {
      "text/plain": [
       "False"
      ]
     },
     "execution_count": 78,
     "metadata": {},
     "output_type": "execute_result"
    }
   ],
   "source": [
    "a.isdisjoint(b) #checks both sets;returns true if nothing in common"
   ]
  },
  {
   "cell_type": "code",
   "execution_count": 73,
   "id": "e87f262b-1a37-40b4-9d3e-3eb4f3846074",
   "metadata": {},
   "outputs": [
    {
     "data": {
      "text/plain": [
       "True"
      ]
     },
     "execution_count": 73,
     "metadata": {},
     "output_type": "execute_result"
    }
   ],
   "source": [
    "a.isdisjoint(c)"
   ]
  },
  {
   "cell_type": "code",
   "execution_count": 74,
   "id": "d345ed31-35c5-4348-a87e-6e85ca8d5f8b",
   "metadata": {},
   "outputs": [
    {
     "data": {
      "text/plain": [
       "True"
      ]
     },
     "execution_count": 74,
     "metadata": {},
     "output_type": "execute_result"
    }
   ],
   "source": [
    "c.isdisjoint(a)"
   ]
  },
  {
   "cell_type": "code",
   "execution_count": 75,
   "id": "e78f0d73-cf6c-4278-b4fb-33e61d2b1bf0",
   "metadata": {},
   "outputs": [
    {
     "data": {
      "text/plain": [
       "{1, 2, 3, 4, 5}"
      ]
     },
     "execution_count": 75,
     "metadata": {},
     "output_type": "execute_result"
    }
   ],
   "source": [
    "a"
   ]
  },
  {
   "cell_type": "code",
   "execution_count": 76,
   "id": "66d6fa0a-5784-49f9-8867-cb7ead871635",
   "metadata": {},
   "outputs": [
    {
     "data": {
      "text/plain": [
       "{4, 5}"
      ]
     },
     "execution_count": 76,
     "metadata": {},
     "output_type": "execute_result"
    }
   ],
   "source": [
    "b"
   ]
  },
  {
   "cell_type": "code",
   "execution_count": 77,
   "id": "5953c15b-c8a4-46b0-abdd-ac72139f2d0e",
   "metadata": {},
   "outputs": [
    {
     "data": {
      "text/plain": [
       "{8, 9, 10}"
      ]
     },
     "execution_count": 77,
     "metadata": {},
     "output_type": "execute_result"
    }
   ],
   "source": [
    "c"
   ]
  },
  {
   "cell_type": "code",
   "execution_count": 81,
   "id": "0bab0621-ea8e-4d19-9ed4-9a1cdc4f7402",
   "metadata": {},
   "outputs": [],
   "source": [
    "#---------------------------------other built-in functions on sets--------------------------------------------\n",
    "A={1,2,3,4,5,6,7,8}"
   ]
  },
  {
   "cell_type": "code",
   "execution_count": 82,
   "id": "43d92e09-55e6-4081-b06d-e1fe3bce93ad",
   "metadata": {},
   "outputs": [
    {
     "data": {
      "text/plain": [
       "{1, 2, 3, 4, 5, 6, 7, 8}"
      ]
     },
     "execution_count": 82,
     "metadata": {},
     "output_type": "execute_result"
    }
   ],
   "source": [
    "A"
   ]
  },
  {
   "cell_type": "code",
   "execution_count": 83,
   "id": "5314da0c-50da-4638-875b-dda8a109e2c6",
   "metadata": {},
   "outputs": [
    {
     "data": {
      "text/plain": [
       "36"
      ]
     },
     "execution_count": 83,
     "metadata": {},
     "output_type": "execute_result"
    }
   ],
   "source": [
    "sum(A)"
   ]
  },
  {
   "cell_type": "code",
   "execution_count": 84,
   "id": "8377bab6-85d7-45ae-8a6f-6f7514a9be36",
   "metadata": {},
   "outputs": [
    {
     "data": {
      "text/plain": [
       "1"
      ]
     },
     "execution_count": 84,
     "metadata": {},
     "output_type": "execute_result"
    }
   ],
   "source": [
    "min(A)"
   ]
  },
  {
   "cell_type": "code",
   "execution_count": 85,
   "id": "3a5cde38-00f4-4cc7-a339-12a593ea3962",
   "metadata": {},
   "outputs": [
    {
     "data": {
      "text/plain": [
       "8"
      ]
     },
     "execution_count": 85,
     "metadata": {},
     "output_type": "execute_result"
    }
   ],
   "source": [
    "max(A)"
   ]
  },
  {
   "cell_type": "code",
   "execution_count": 86,
   "id": "7fccdd41-f06b-49c6-937a-91e9beae4bfa",
   "metadata": {},
   "outputs": [
    {
     "data": {
      "text/plain": [
       "8"
      ]
     },
     "execution_count": 86,
     "metadata": {},
     "output_type": "execute_result"
    }
   ],
   "source": [
    "len(A)"
   ]
  },
  {
   "cell_type": "code",
   "execution_count": 87,
   "id": "485b53ca-ef95-47c8-96d8-9c5ce3723472",
   "metadata": {},
   "outputs": [
    {
     "data": {
      "text/plain": [
       "<enumerate at 0x251845262f0>"
      ]
     },
     "execution_count": 87,
     "metadata": {},
     "output_type": "execute_result"
    }
   ],
   "source": [
    "enumerate(A)"
   ]
  },
  {
   "cell_type": "code",
   "execution_count": 88,
   "id": "36c2e3bb-45a2-40f6-85d1-e69e4d76765f",
   "metadata": {},
   "outputs": [
    {
     "data": {
      "text/plain": [
       "[(0, 1), (1, 2), (2, 3), (3, 4), (4, 5), (5, 6), (6, 7), (7, 8)]"
      ]
     },
     "execution_count": 88,
     "metadata": {},
     "output_type": "execute_result"
    }
   ],
   "source": [
    "list(enumerate(A))"
   ]
  },
  {
   "cell_type": "code",
   "execution_count": 92,
   "id": "ddba6590-ce22-450a-8c74-2bc762615b74",
   "metadata": {},
   "outputs": [
    {
     "name": "stdout",
     "output_type": "stream",
     "text": [
      "{1, 2, 3, 4, 5, 6, 7, 8}\n"
     ]
    }
   ],
   "source": [
    "print(A)\n",
    "D=sorted(A,reverse=True)"
   ]
  },
  {
   "cell_type": "code",
   "execution_count": 93,
   "id": "4747dcc3-ce45-4311-b9d9-08afa02ffe63",
   "metadata": {},
   "outputs": [
    {
     "data": {
      "text/plain": [
       "[8, 7, 6, 5, 4, 3, 2, 1]"
      ]
     },
     "execution_count": 93,
     "metadata": {},
     "output_type": "execute_result"
    }
   ],
   "source": [
    "D"
   ]
  },
  {
   "cell_type": "code",
   "execution_count": 94,
   "id": "27de2dd6-e8a3-4092-9044-c847661d551d",
   "metadata": {},
   "outputs": [
    {
     "data": {
      "text/plain": [
       "[1, 2, 3, 4, 5, 6, 7, 8]"
      ]
     },
     "execution_count": 94,
     "metadata": {},
     "output_type": "execute_result"
    }
   ],
   "source": [
    "sorted(D)"
   ]
  },
  {
   "cell_type": "code",
   "execution_count": null,
   "id": "4f214a34-0549-440e-bc25-b8cd7ea886bb",
   "metadata": {},
   "outputs": [],
   "source": []
  }
 ],
 "metadata": {
  "kernelspec": {
   "display_name": "Python 3 (ipykernel)",
   "language": "python",
   "name": "python3"
  },
  "language_info": {
   "codemirror_mode": {
    "name": "ipython",
    "version": 3
   },
   "file_extension": ".py",
   "mimetype": "text/x-python",
   "name": "python",
   "nbconvert_exporter": "python",
   "pygments_lexer": "ipython3",
   "version": "3.12.7"
  }
 },
 "nbformat": 4,
 "nbformat_minor": 5
}
